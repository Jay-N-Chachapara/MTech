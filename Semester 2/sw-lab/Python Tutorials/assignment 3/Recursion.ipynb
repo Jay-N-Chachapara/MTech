{
 "cells": [
  {
   "cell_type": "markdown",
   "id": "c48e27fb",
   "metadata": {},
   "source": [
    "# MT21MCS013 Jay Chachapara"
   ]
  },
  {
   "cell_type": "markdown",
   "id": "ab9cc069",
   "metadata": {},
   "source": [
    "# Recurision"
   ]
  },
  {
   "cell_type": "markdown",
   "id": "259e37b5",
   "metadata": {},
   "source": [
    "### Finding the number of calls to a function"
   ]
  },
  {
   "cell_type": "code",
   "execution_count": 4,
   "id": "58367a59",
   "metadata": {},
   "outputs": [
    {
     "name": "stdout",
     "output_type": "stream",
     "text": [
      "Enter an integer value : 5\n",
      "The function is called 4 times\n"
     ]
    }
   ],
   "source": [
    "def function(n : int,counter : int) -> int :\n",
    "    counter += 1\n",
    "    if n <= 0 :\n",
    "        return counter\n",
    "    if n % 2 == 0 :\n",
    "        return function(n-1,counter)\n",
    "    else :\n",
    "        return function(n-2,counter)\n",
    "var = int(input(\"Enter an integer value : \"))\n",
    "times = function(var,0)\n",
    "print(\"The function is called\",times,\"times\")"
   ]
  },
  {
   "cell_type": "markdown",
   "id": "7fd6e44e",
   "metadata": {},
   "source": [
    "### Print binary value of given integer"
   ]
  },
  {
   "cell_type": "code",
   "execution_count": 19,
   "id": "2151c9e6",
   "metadata": {},
   "outputs": [
    {
     "name": "stdout",
     "output_type": "stream",
     "text": [
      "\n",
      "Enter an integer : 0\n",
      "0\n",
      "Enter an integer : 1\n",
      "1\n",
      "Enter an integer : 2\n",
      "10\n",
      "Enter an integer : 3\n",
      "11\n",
      "Enter an integer : 4\n",
      "100\n",
      "Enter an integer : 5\n",
      "101\n",
      "Enter an integer : 6\n",
      "110\n",
      "Enter an integer : 7\n",
      "111\n",
      "Enter an integer : 8\n",
      "1000\n",
      "Enter an integer : 9\n",
      "1001\n",
      "Enter an integer : 10\n",
      "1010\n",
      "Enter an integer : 11\n",
      "1011\n",
      "Enter an integer : 12\n",
      "1100\n",
      "Enter an integer : 13\n",
      "1101\n",
      "Enter an integer : 14\n",
      "1110\n",
      "Enter an integer : 15\n",
      "1111\n",
      "Enter an integer : 16\n",
      "10000\n",
      "Enter an integer : 17\n",
      "10001\n",
      "Enter an integer : 18\n",
      "10010\n",
      "Enter an integer : 19\n",
      "10011\n",
      "Enter an integer : 20\n",
      "10100\n",
      "Enter an integer : v\n"
     ]
    }
   ],
   "source": [
    "def binary(n : int) -> None :\n",
    "    if n > 0 :\n",
    "        #This condition is used to not to print the preceding zeros in the binary value\n",
    "        if n//2 != 0 :\n",
    "            binary(n//2)\n",
    "        print(n%2,end=\"\")\n",
    "    if n == 0 :\n",
    "        print(\"0\",end=\"\")\n",
    "\n",
    "while True :\n",
    "    try :\n",
    "        x = int(input(\"\\nEnter an integer : \"))\n",
    "        binary(x)\n",
    "    except ValueError :\n",
    "        break"
   ]
  },
  {
   "cell_type": "code",
   "execution_count": null,
   "id": "6daea854",
   "metadata": {},
   "outputs": [],
   "source": []
  }
 ],
 "metadata": {
  "kernelspec": {
   "display_name": "Python 3 (ipykernel)",
   "language": "python",
   "name": "python3"
  },
  "language_info": {
   "codemirror_mode": {
    "name": "ipython",
    "version": 3
   },
   "file_extension": ".py",
   "mimetype": "text/x-python",
   "name": "python",
   "nbconvert_exporter": "python",
   "pygments_lexer": "ipython3",
   "version": "3.9.7"
  }
 },
 "nbformat": 4,
 "nbformat_minor": 5
}
