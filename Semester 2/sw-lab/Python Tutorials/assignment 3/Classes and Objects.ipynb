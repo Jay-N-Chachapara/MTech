{
 "cells": [
  {
   "cell_type": "markdown",
   "id": "8cf533c4",
   "metadata": {},
   "source": [
    "# MT21MCS013 Jay Chachapara"
   ]
  },
  {
   "cell_type": "markdown",
   "id": "eee07e89",
   "metadata": {},
   "source": [
    "# Inheritance"
   ]
  },
  {
   "cell_type": "markdown",
   "id": "8cb19c85",
   "metadata": {},
   "source": [
    "### Simple / Single Inheritance"
   ]
  },
  {
   "cell_type": "code",
   "execution_count": 2,
   "id": "b9d06868",
   "metadata": {},
   "outputs": [
    {
     "name": "stdout",
     "output_type": "stream",
     "text": [
      "Inside super class\n",
      "Inside child class\n",
      "ChildClassData : 56\n",
      "SuperClassData : 85\n",
      "ChildClassData 56\n",
      "SuperClassData 85\n"
     ]
    }
   ],
   "source": [
    "class superClass :\n",
    "    def __init__(self) :\n",
    "        print(\"Inside super class\")\n",
    "\n",
    "    def setSuperClassData(self) :\n",
    "        self.__a = input(\"SuperClassData : \")\n",
    "\n",
    "    def getSuperClassData(self) :\n",
    "        print(\"SuperClassData\",self.__a)\n",
    "\n",
    "class childClass(superClass) :\n",
    "    def __init__(self):\n",
    "        superClass.__init__(self)\n",
    "        print(\"Inside child class\")\n",
    "\n",
    "    def setChildClassData(self) :\n",
    "        self.__b = input(\"ChildClassData : \")\n",
    "\n",
    "    def getChildClassData(self) :\n",
    "        print(\"ChildClassData\",self.__b)\n",
    "if __name__ == \"__main__\" : \n",
    "    c1 = childClass()\n",
    "    c1.setChildClassData()\n",
    "    c1.setSuperClassData()\n",
    "    c1.getChildClassData()\n",
    "    c1.getSuperClassData()"
   ]
  },
  {
   "cell_type": "markdown",
   "id": "99dba60c",
   "metadata": {},
   "source": [
    "### Multiple Inheritance"
   ]
  },
  {
   "cell_type": "code",
   "execution_count": 3,
   "id": "6fde03da",
   "metadata": {},
   "outputs": [
    {
     "name": "stdout",
     "output_type": "stream",
     "text": [
      "Inside super class\n",
      "Inside super class 0 \n",
      "Inside child class\n",
      "ChildClassData : 85\n",
      "SuperClass0Data : 77\n",
      "SuperClassData : 99\n",
      "ChildClassData 85\n",
      "SuperClass0Data 77\n",
      "SuperClassData 99\n"
     ]
    }
   ],
   "source": [
    "class superClass :\n",
    "    def __init__(self) :\n",
    "        print(\"Inside super class\")\n",
    "\n",
    "    def setSuperClassData(self) :\n",
    "        self.__a = input(\"SuperClassData : \")\n",
    "\n",
    "    def getSuperClassData(self) :\n",
    "        print(\"SuperClassData\",self.__a)\n",
    "\n",
    "class superClass0 :\n",
    "    def __init__(self) :\n",
    "        print(\"Inside super class 0 \")\n",
    "\n",
    "    def setSuperClass0Data(self) :\n",
    "        self.__b = input(\"SuperClass0Data : \")\n",
    "\n",
    "    def getSuperClass0Data(self) :\n",
    "        print(\"SuperClass0Data\",self.__b)\n",
    "\n",
    "class childClass(superClass,superClass0) :\n",
    "    def __init__(self):\n",
    "        superClass.__init__(self)\n",
    "        superClass0.__init__(self)\n",
    "        print(\"Inside child class\")\n",
    "\n",
    "    def setChildClassData(self) :\n",
    "        self.__c = input(\"ChildClassData : \")\n",
    "\n",
    "    def getChildClassData(self) :\n",
    "        print(\"ChildClassData\",self.__c)\n",
    "\n",
    "c1 = childClass()\n",
    "\n",
    "c1.setChildClassData()\n",
    "c1.setSuperClass0Data()\n",
    "c1.setSuperClassData()\n",
    "\n",
    "c1.getChildClassData()\n",
    "c1.getSuperClass0Data()\n",
    "c1.getSuperClassData()"
   ]
  },
  {
   "cell_type": "markdown",
   "id": "e3a0545b",
   "metadata": {},
   "source": [
    "### Multilevel Inheritance"
   ]
  },
  {
   "cell_type": "code",
   "execution_count": 4,
   "id": "6c2b52ba",
   "metadata": {},
   "outputs": [
    {
     "name": "stdout",
     "output_type": "stream",
     "text": [
      "Inside super class\n",
      "Inside Intermediate class\n",
      "Inside child class\n",
      "ChildClassData : 890\n",
      "IntermediateClassData : 233\n",
      "SuperClassData : 212\n",
      "SuperClassData 212\n",
      "IntermediateClassData 233\n",
      "ChildClassData 890\n"
     ]
    }
   ],
   "source": [
    "class superClass :\n",
    "    def __init__(self) :\n",
    "        print(\"Inside super class\")\n",
    "\n",
    "    def setSuperClassData(self) :\n",
    "        self.__a = input(\"SuperClassData : \")\n",
    "\n",
    "    def getSuperClassData(self) :\n",
    "        print(\"SuperClassData\",self.__a)\n",
    "\n",
    "class IntermediateClass(superClass) :\n",
    "    def __init__(self) :\n",
    "        superClass.__init__(self)\n",
    "        print(\"Inside Intermediate class\")\n",
    "\n",
    "    def setIntermediateClassData(self) :\n",
    "        self.__b = input(\"IntermediateClassData : \")\n",
    "\n",
    "    def getIntermediateClassData(self) :\n",
    "        print(\"IntermediateClassData\",self.__b)\n",
    "\n",
    "class childClass(IntermediateClass) :\n",
    "    def __init__(self):\n",
    "        IntermediateClass.__init__(self)\n",
    "        print(\"Inside child class\")\n",
    "\n",
    "    def setChildClassData(self) :\n",
    "        self.__c = input(\"ChildClassData : \")\n",
    "\n",
    "    def getChildClassData(self) :\n",
    "        print(\"ChildClassData\",self.__c)\n",
    "\n",
    "c1 = childClass()\n",
    "\n",
    "c1.setChildClassData()\n",
    "c1.setIntermediateClassData()\n",
    "c1.setSuperClassData()\n",
    "\n",
    "c1.getSuperClassData()\n",
    "c1.getIntermediateClassData()\n",
    "c1.getChildClassData()\n"
   ]
  },
  {
   "cell_type": "markdown",
   "id": "cc99d7af",
   "metadata": {},
   "source": [
    "### Hirarchical Inheritance"
   ]
  },
  {
   "cell_type": "code",
   "execution_count": 1,
   "id": "a275ce39",
   "metadata": {},
   "outputs": [
    {
     "name": "stdout",
     "output_type": "stream",
     "text": [
      "Inside super class\n",
      "Inside child class\n",
      "Inside super class\n",
      "Inside child class0\n",
      "\n",
      "C2\n",
      "Enter value of c : 34\n",
      "Enter value of a : 12\n",
      "ChildClass0Data 34\n",
      "SuperClassData 12\n",
      "\n",
      "C1\n",
      "Enter value of b : 90\n",
      "Enter value of a : 54\n",
      "ChildClassData 90\n",
      "SuperClassData 54\n"
     ]
    }
   ],
   "source": [
    "class superClass :\n",
    "    def __init__(self) :\n",
    "        print(\"Inside super class\")\n",
    "\n",
    "    def setSuperClassData(self) :\n",
    "        self.__a = input(\"Enter value of a : \")\n",
    "\n",
    "    def getSuperClassData(self) :\n",
    "        print(\"SuperClassData\",self.__a)\n",
    "\n",
    "class childClass(superClass) :\n",
    "    def __init__(self):\n",
    "        superClass.__init__(self)\n",
    "        print(\"Inside child class\")\n",
    "\n",
    "    def setChildClassData(self) :\n",
    "        self.__b = input(\"Enter value of b : \")\n",
    "\n",
    "    def getChildClassData(self) :\n",
    "        print(\"ChildClassData\",self.__b)\n",
    "\n",
    "class childClass0(superClass) :\n",
    "    def __init__(self):\n",
    "        superClass.__init__(self)\n",
    "        print(\"Inside child class0\")\n",
    "\n",
    "    def setChildClass0Data(self) :\n",
    "        self.__c = input(\"Enter value of c : \")\n",
    "\n",
    "    def getChildClass0Data(self) :\n",
    "        print(\"ChildClass0Data\",self.__c)\n",
    "\n",
    "c1 = childClass()\n",
    "c2 = childClass0()\n",
    "\n",
    "print(\"\\nC2\")\n",
    "c2.setChildClass0Data()\n",
    "c2.setSuperClassData()\n",
    "c2.getChildClass0Data()\n",
    "c2.getSuperClassData()\n",
    "\n",
    "print(\"\\nC1\")\n",
    "c1.setChildClassData()\n",
    "c1.setSuperClassData()\n",
    "c1.getChildClassData()\n",
    "c1.getSuperClassData()"
   ]
  },
  {
   "cell_type": "markdown",
   "id": "64ad16a6",
   "metadata": {},
   "source": [
    "### Hybrid Inheritance"
   ]
  },
  {
   "cell_type": "code",
   "execution_count": 5,
   "id": "21ae4322",
   "metadata": {},
   "outputs": [
    {
     "name": "stdout",
     "output_type": "stream",
     "text": [
      "Inside super class\n",
      "Inside Intermediateclass1\n",
      "Inside super class\n",
      "Inside Intermediateclass2\n",
      "Inside child class\n",
      "SuperClassData : 55\n",
      "IntermediateClass1Data: 69\n",
      "IntermediateClass2Data : 584\n",
      "ChildClassData : 369\n",
      "\n",
      "Entered Data: \n",
      "\n",
      "SuperClassData 55\n",
      "IntermediateClass1Data 69\n",
      "IntermediateClass2Data 584\n",
      "ChildClassData 369\n"
     ]
    }
   ],
   "source": [
    "class superClass :\n",
    "    def __init__(self) :\n",
    "        print(\"Inside super class\")\n",
    "\n",
    "    def setSuperClassData(self) :\n",
    "        self.__a = input(\"SuperClassData : \")\n",
    "\n",
    "    def getSuperClassData(self) :\n",
    "        print(\"SuperClassData\",self.__a)\n",
    "\n",
    "class IntermediateClass1(superClass) :\n",
    "    def __init__(self):\n",
    "        superClass.__init__(self)\n",
    "        print(\"Inside Intermediateclass1\")\n",
    "\n",
    "    def setIntermediateClass1Data(self) :\n",
    "        self.__b = input(\"IntermediateClass1Data: \")\n",
    "\n",
    "    def getIntermediateClass1Data(self) :\n",
    "        print(\"IntermediateClass1Data\",self.__b)\n",
    "\n",
    "class IntermediateClass2(superClass) :\n",
    "    def __init__(self):\n",
    "        superClass.__init__(self)\n",
    "        print(\"Inside Intermediateclass2\")\n",
    "\n",
    "    def setIntermediateClass2Data(self) :\n",
    "        self.__c = input(\"IntermediateClass2Data : \")\n",
    "\n",
    "    def getIntermediateClass2Data(self) :\n",
    "        print(\"IntermediateClass2Data\",self.__c)\n",
    "\n",
    "class childClass(IntermediateClass1,IntermediateClass2) :\n",
    "    def __init__(self):\n",
    "        IntermediateClass1.__init__(self)\n",
    "        IntermediateClass2.__init__(self)\n",
    "        print(\"Inside child class\")\n",
    "\n",
    "    def setChildClassData(self) :\n",
    "        self.__d = input(\"ChildClassData : \")\n",
    "\n",
    "    def getChildClassData(self) :\n",
    "        print(\"ChildClassData\",self.__d)\n",
    "\n",
    "c1 = childClass()\n",
    "c1.setSuperClassData()\n",
    "c1.setIntermediateClass1Data()\n",
    "c1.setIntermediateClass2Data()\n",
    "c1.setChildClassData()\n",
    "\n",
    "print(\"\\nEntered Data: \\n\")\n",
    "\n",
    "c1.getSuperClassData()\n",
    "c1.getIntermediateClass1Data()\n",
    "c1.getIntermediateClass2Data()\n",
    "c1.getChildClassData()"
   ]
  },
  {
   "cell_type": "code",
   "execution_count": null,
   "id": "da75311b",
   "metadata": {},
   "outputs": [],
   "source": []
  }
 ],
 "metadata": {
  "kernelspec": {
   "display_name": "Python 3 (ipykernel)",
   "language": "python",
   "name": "python3"
  },
  "language_info": {
   "codemirror_mode": {
    "name": "ipython",
    "version": 3
   },
   "file_extension": ".py",
   "mimetype": "text/x-python",
   "name": "python",
   "nbconvert_exporter": "python",
   "pygments_lexer": "ipython3",
   "version": "3.9.7"
  }
 },
 "nbformat": 4,
 "nbformat_minor": 5
}
