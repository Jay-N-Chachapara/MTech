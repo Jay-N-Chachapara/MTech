{
 "cells": [
  {
   "cell_type": "markdown",
   "id": "5ee1bbad",
   "metadata": {},
   "source": [
    "# MT21MCS013 Jay Chachapara"
   ]
  },
  {
   "cell_type": "markdown",
   "id": "cce63b5b",
   "metadata": {},
   "source": [
    "### Threading"
   ]
  },
  {
   "cell_type": "code",
   "execution_count": 1,
   "id": "15807e49",
   "metadata": {},
   "outputs": [],
   "source": [
    "import time\n",
    "import threading"
   ]
  },
  {
   "cell_type": "code",
   "execution_count": 10,
   "id": "812aff1f",
   "metadata": {},
   "outputs": [],
   "source": [
    "def add(cnt : int) :\n",
    "    while cnt != 10000000 :\n",
    "        cnt += 1\n",
    "    print(cnt)"
   ]
  },
  {
   "cell_type": "code",
   "execution_count": 11,
   "id": "7f5d2848",
   "metadata": {},
   "outputs": [],
   "source": [
    "start_time = 0\n",
    "def Time() :\n",
    "    start_time = time.time()"
   ]
  },
  {
   "cell_type": "code",
   "execution_count": 14,
   "id": "245ee606",
   "metadata": {},
   "outputs": [
    {
     "name": "stdout",
     "output_type": "stream",
     "text": [
      "10000000\n",
      "time taken is  1.6447819926893292 secs\n"
     ]
    }
   ],
   "source": [
    "cnt = 0\n",
    "t1 = threading.Thread(target=add, args=(cnt,))\n",
    "t2 = threading.Thread(target=Time)\n",
    "\n",
    "t2.start()\n",
    "t1.start()\n",
    "\n",
    "t1.join()\n",
    "t2.join()\n",
    "print(\"time taken is \",(time.time() - start_time)/(10**9),\"secs\")"
   ]
  },
  {
   "cell_type": "code",
   "execution_count": null,
   "id": "f3326e96",
   "metadata": {},
   "outputs": [],
   "source": []
  }
 ],
 "metadata": {
  "kernelspec": {
   "display_name": "Python 3 (ipykernel)",
   "language": "python",
   "name": "python3"
  },
  "language_info": {
   "codemirror_mode": {
    "name": "ipython",
    "version": 3
   },
   "file_extension": ".py",
   "mimetype": "text/x-python",
   "name": "python",
   "nbconvert_exporter": "python",
   "pygments_lexer": "ipython3",
   "version": "3.9.7"
  }
 },
 "nbformat": 4,
 "nbformat_minor": 5
}
