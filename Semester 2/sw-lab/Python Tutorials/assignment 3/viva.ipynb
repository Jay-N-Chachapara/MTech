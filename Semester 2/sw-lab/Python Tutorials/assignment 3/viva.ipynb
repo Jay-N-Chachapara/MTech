{
 "cells": [
  {
   "cell_type": "markdown",
   "id": "07d9cc35",
   "metadata": {},
   "source": [
    "### MT21MCS013 Jay\n",
    "##### Power(), thread, time, exception"
   ]
  },
  {
   "cell_type": "code",
   "execution_count": 61,
   "id": "36efde0d",
   "metadata": {},
   "outputs": [],
   "source": [
    "import threading"
   ]
  },
  {
   "cell_type": "code",
   "execution_count": 62,
   "id": "ff62b619",
   "metadata": {},
   "outputs": [],
   "source": [
    "import time"
   ]
  },
  {
   "cell_type": "code",
   "execution_count": 63,
   "id": "06ce295d",
   "metadata": {},
   "outputs": [],
   "source": [
    "TimeLap = []\n",
    "def Time() :\n",
    "    try :\n",
    "        TimeLap.append(time.time())\n",
    "    except IndexError :\n",
    "        print(\"Index out of bound\")"
   ]
  },
  {
   "cell_type": "code",
   "execution_count": 64,
   "id": "2f0ed517",
   "metadata": {},
   "outputs": [],
   "source": [
    "def Power(base : int,power : int) -> int :\n",
    "    t2 = threading.Thread(target=Time)\n",
    "    t2.start()\n",
    "    t2.join()\n",
    "    if power != 0 :\n",
    "        return (base * Power(base,(power-1)))\n",
    "    else :\n",
    "        return 1\n",
    "    t2.start()\n",
    "    t2.join()"
   ]
  },
  {
   "cell_type": "code",
   "execution_count": 66,
   "id": "66dd3d3b",
   "metadata": {},
   "outputs": [
    {
     "name": "stdout",
     "output_type": "stream",
     "text": [
      "Enter the power : 5\n"
     ]
    },
    {
     "name": "stderr",
     "output_type": "stream",
     "text": [
      "Exception in thread Thread-310:\n",
      "Traceback (most recent call last):\n",
      "  File \"/usr/lib/python3.9/threading.py\", line 973, in _bootstrap_inner\n",
      "    self.run()\n",
      "  File \"/usr/lib/python3.9/threading.py\", line 910, in run\n",
      "    self._target(*self._args, **self._kwargs)\n",
      "TypeError: Power() missing 1 required positional argument: 'power'\n"
     ]
    },
    {
     "name": "stdout",
     "output_type": "stream",
     "text": [
      "2 ** 5 = 32\n",
      "[1644831712.1696868, 1644831712.1700037, 1644831712.170223, 1644831712.170404, 1644831720.8652394, 1644831720.865554, 1644831720.8658063, 1644831720.8660383, 1644831720.8662772, 1644831720.8664808]\n",
      "10\n"
     ]
    }
   ],
   "source": [
    "while True :\n",
    "    try :\n",
    "        power = int(input(\"Enter the power : \"))\n",
    "        if power < 0 :\n",
    "            raise ValueError(\"Please enter positive integer\")\n",
    "        elif power > 100 :\n",
    "            raise ValueError(\"Please enter small positive integer\")\n",
    "        else :\n",
    "            print(\"2 **\",power,\"=\",Power(2,power))\n",
    "            t1 = threading.Thread(target=Power, args=(power,))\n",
    "            t1.start()\n",
    "            t1.join()\n",
    "            break\n",
    "    except ValueError :\n",
    "        print(\"Please enter appropriate value\")\n",
    "    except Exception :\n",
    "        print(\"Some Exception\")\n",
    "print(TimeLap)\n",
    "print(len(TimeLap))"
   ]
  },
  {
   "cell_type": "code",
   "execution_count": null,
   "id": "d6d8c7d8",
   "metadata": {},
   "outputs": [],
   "source": []
  }
 ],
 "metadata": {
  "kernelspec": {
   "display_name": "Python 3 (ipykernel)",
   "language": "python",
   "name": "python3"
  },
  "language_info": {
   "codemirror_mode": {
    "name": "ipython",
    "version": 3
   },
   "file_extension": ".py",
   "mimetype": "text/x-python",
   "name": "python",
   "nbconvert_exporter": "python",
   "pygments_lexer": "ipython3",
   "version": "3.9.7"
  }
 },
 "nbformat": 4,
 "nbformat_minor": 5
}
