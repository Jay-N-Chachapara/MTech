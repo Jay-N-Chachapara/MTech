{
 "cells": [
  {
   "cell_type": "markdown",
   "id": "786bd312",
   "metadata": {},
   "source": [
    "# Recurision"
   ]
  },
  {
   "cell_type": "markdown",
   "id": "f47d4714",
   "metadata": {},
   "source": [
    "### Finding the number of calls to a function"
   ]
  },
  {
   "cell_type": "code",
   "execution_count": 4,
   "id": "8cc7ade9",
   "metadata": {},
   "outputs": [
    {
     "name": "stdout",
     "output_type": "stream",
     "text": [
      "Enter an integer value : 5\n",
      "The function is called 4 times\n"
     ]
    }
   ],
   "source": [
    "def function(n : int,counter : int) -> int :\n",
    "    counter += 1\n",
    "    if n <= 0 :\n",
    "        return counter\n",
    "    if n % 2 == 0 :\n",
    "        return function(n-1,counter)\n",
    "    else :\n",
    "        return function(n-2,counter)\n",
    "var = int(input(\"Enter an integer value : \"))\n",
    "times = function(var,0)\n",
    "print(\"The function is called\",times,\"times\")"
   ]
  },
  {
   "cell_type": "markdown",
   "id": "c3f99f5d",
   "metadata": {},
   "source": [
    "### Printin binary value of given integer"
   ]
  },
  {
   "cell_type": "code",
   "execution_count": null,
   "id": "53944fb1",
   "metadata": {},
   "outputs": [],
   "source": [
    "def binary(n : int) -> None :\n",
    "    if n > 0 :\n",
    "        binary(n//2)\n",
    "    if n == 0 :\n",
    "        return\n",
    "    print(n%2,end=\"\")\n",
    "\n",
    "while True :\n",
    "    try :\n",
    "        x = int(input(\"Enter an integer : \"))\n",
    "        binary(x)\n",
    "    except ValueError :\n",
    "        break"
   ]
  },
  {
   "cell_type": "code",
   "execution_count": null,
   "id": "9d7b2e3e",
   "metadata": {},
   "outputs": [],
   "source": []
  }
 ],
 "metadata": {
  "kernelspec": {
   "display_name": "Python 3 (ipykernel)",
   "language": "python",
   "name": "python3"
  },
  "language_info": {
   "codemirror_mode": {
    "name": "ipython",
    "version": 3
   },
   "file_extension": ".py",
   "mimetype": "text/x-python",
   "name": "python",
   "nbconvert_exporter": "python",
   "pygments_lexer": "ipython3",
   "version": "3.9.7"
  }
 },
 "nbformat": 4,
 "nbformat_minor": 5
}
