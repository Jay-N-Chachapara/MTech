{
 "cells": [
  {
   "cell_type": "markdown",
   "id": "abec0e65",
   "metadata": {},
   "source": [
    "# MT21MCS013 Jay Chachapara"
   ]
  },
  {
   "cell_type": "markdown",
   "id": "665316a3",
   "metadata": {},
   "source": [
    "### ZeroDivisionError"
   ]
  },
  {
   "cell_type": "code",
   "execution_count": 1,
   "id": "831b6d49",
   "metadata": {},
   "outputs": [
    {
     "name": "stdout",
     "output_type": "stream",
     "text": [
      "Enter nomimator2\n",
      "Enter denominator0\n",
      "You have entered denominator as zero, please enter appropriate value\n",
      "Enter denominator2\n",
      "Division is :  1.0\n"
     ]
    }
   ],
   "source": [
    "nominator = int(input(\"Enter nomimator\"))\n",
    "denominator = int(input(\"Enter denominator\"))\n",
    "while True :\n",
    "    try :\n",
    "        print(\"Division is : \",nominator/denominator)\n",
    "        break\n",
    "    except ZeroDivisionError :\n",
    "        print(\"You have entered denominator as zero, please enter appropriate value\")\n",
    "        denominator = int(input(\"Enter denominator\"))"
   ]
  },
  {
   "cell_type": "markdown",
   "id": "2c3ba51b",
   "metadata": {},
   "source": [
    "### ValueError"
   ]
  },
  {
   "cell_type": "code",
   "execution_count": 2,
   "id": "907015c9",
   "metadata": {},
   "outputs": [
    {
     "name": "stdout",
     "output_type": "stream",
     "text": [
      "Enter an integer value : jay\n",
      "You are supposed to enter an integer value\n",
      "Enter an integer value : 89.00\n",
      "You are supposed to enter an integer value\n",
      "Enter an integer value : w\n",
      "You are supposed to enter an integer value\n",
      "Enter an integer value : 5\n",
      "You have enetered  5\n"
     ]
    }
   ],
   "source": [
    "while True :\n",
    "    try :\n",
    "        x = int(input(\"Enter an integer value : \"))\n",
    "        print(\"You have enetered \",x)\n",
    "        break\n",
    "    except ValueError :\n",
    "        print(\"You are supposed to enter an integer value\")"
   ]
  },
  {
   "cell_type": "markdown",
   "id": "e18bea20",
   "metadata": {},
   "source": [
    "### Raising an Exception"
   ]
  },
  {
   "cell_type": "code",
   "execution_count": 5,
   "id": "2c2901e3",
   "metadata": {},
   "outputs": [
    {
     "name": "stdout",
     "output_type": "stream",
     "text": [
      "Create Username : jay\n",
      "Create Password : jay\n",
      "---------------LOG IN------------------\n",
      "Enter username : jack\n",
      "Enter password : jack\n",
      "Entered user name is not valid\n",
      "Enter username : jay\n",
      "Enter password : jack\n",
      "Entered password is not valid\n",
      "Enter username : jay\n",
      "Enter password : jay\n",
      "----------Successful Log in--------------------\n"
     ]
    }
   ],
   "source": [
    "user_name = input(\"Create Username : \")\n",
    "password = input(\"Create Password : \")\n",
    "print(\"---------------LOG IN------------------\")\n",
    "while True :\n",
    "    try :\n",
    "        u_name = input(\"Enter username : \")\n",
    "        pswd = input(\"Enter password : \")\n",
    "        if u_name != user_name :\n",
    "            raise NameError\n",
    "        elif pswd != password :\n",
    "            raise ValueError\n",
    "        else :\n",
    "            print(\"----------Successful Log in--------------------\")\n",
    "            break\n",
    "    except NameError :\n",
    "        print(\"Entered user name is not valid\")\n",
    "    except ValueError :\n",
    "        print(\"Entered password is not valid\")"
   ]
  },
  {
   "cell_type": "markdown",
   "id": "b4199539",
   "metadata": {},
   "source": [
    "### finally"
   ]
  },
  {
   "cell_type": "code",
   "execution_count": 7,
   "id": "2b0f5cc7",
   "metadata": {},
   "outputs": [
    {
     "name": "stdout",
     "output_type": "stream",
     "text": [
      "Enter x : 56\n",
      "Enter y : 0\n",
      "division by zero!\n",
      "This block always get executed!\n"
     ]
    }
   ],
   "source": [
    "x = int(input(\"Enter x : \"))\n",
    "y = int(input(\"Enter y : \"))\n",
    "result = 0\n",
    "try:\n",
    "    result = x / y\n",
    "except ZeroDivisionError:\n",
    "    print(\"division by zero!\")\n",
    "else:\n",
    "    print(\"result is\", result)\n",
    "finally:\n",
    "    print(\"This block always get executed!\")"
   ]
  }
 ],
 "metadata": {
  "kernelspec": {
   "display_name": "Python 3 (ipykernel)",
   "language": "python",
   "name": "python3"
  },
  "language_info": {
   "codemirror_mode": {
    "name": "ipython",
    "version": 3
   },
   "file_extension": ".py",
   "mimetype": "text/x-python",
   "name": "python",
   "nbconvert_exporter": "python",
   "pygments_lexer": "ipython3",
   "version": "3.9.7"
  }
 },
 "nbformat": 4,
 "nbformat_minor": 5
}
