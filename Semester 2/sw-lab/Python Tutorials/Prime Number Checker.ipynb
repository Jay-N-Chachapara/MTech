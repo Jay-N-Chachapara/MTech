{
 "cells": [
  {
   "cell_type": "code",
   "execution_count": 23,
   "id": "4f8d787a",
   "metadata": {},
   "outputs": [],
   "source": [
    "import math"
   ]
  },
  {
   "cell_type": "code",
   "execution_count": 24,
   "id": "648a38e9",
   "metadata": {},
   "outputs": [
    {
     "name": "stdout",
     "output_type": "stream",
     "text": [
      "Enter an integer : 47\n"
     ]
    }
   ],
   "source": [
    "while True :\n",
    "    try :\n",
    "        number = int(input(\"Enter an integer : \"))\n",
    "        break\n",
    "    except(ValueError) :\n",
    "        print(\"Please enter valid integer value.\")"
   ]
  },
  {
   "cell_type": "code",
   "execution_count": 25,
   "id": "1661801e",
   "metadata": {},
   "outputs": [
    {
     "name": "stdout",
     "output_type": "stream",
     "text": [
      "Entered number is prime number\n"
     ]
    }
   ],
   "source": [
    "checker = True\n",
    "for i in range(2,int(math.sqrt(45)+1)) :\n",
    "    if num % i == 0 :\n",
    "        print(\"Entered number is not prime number\")\n",
    "        checker = False\n",
    "        break\n",
    "    else :\n",
    "        continue\n",
    "if checker :\n",
    "    print(\"Entered number is prime number\")"
   ]
  },
  {
   "cell_type": "code",
   "execution_count": null,
   "id": "cddde7f5",
   "metadata": {},
   "outputs": [],
   "source": []
  }
 ],
 "metadata": {
  "kernelspec": {
   "display_name": "Python 3 (ipykernel)",
   "language": "python",
   "name": "python3"
  },
  "language_info": {
   "codemirror_mode": {
    "name": "ipython",
    "version": 3
   },
   "file_extension": ".py",
   "mimetype": "text/x-python",
   "name": "python",
   "nbconvert_exporter": "python",
   "pygments_lexer": "ipython3",
   "version": "3.9.7"
  }
 },
 "nbformat": 4,
 "nbformat_minor": 5
}
