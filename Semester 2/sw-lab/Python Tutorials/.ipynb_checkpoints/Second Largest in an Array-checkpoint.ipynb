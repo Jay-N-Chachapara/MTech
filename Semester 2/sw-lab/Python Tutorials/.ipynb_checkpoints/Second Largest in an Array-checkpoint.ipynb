{
 "cells": [
  {
   "cell_type": "code",
   "execution_count": 10,
   "id": "63bebcbe",
   "metadata": {},
   "outputs": [
    {
     "name": "stdout",
     "output_type": "stream",
     "text": [
      "Enter any character to end the input\n",
      "Enter element : 1\n",
      "[]\n",
      "You have successfully entered all the elements of the array\n"
     ]
    }
   ],
   "source": [
    "Array = []\n",
    "print(\"Enter any character to end the input\")\n",
    "while True :\n",
    "    try :\n",
    "        element = input(\"Enter element : \")\n",
    "        if isinstance(element, (int, float)):\n",
    "            Array.append(element)\n",
    "            continue\n",
    "        else :\n",
    "            raise ValueError\n",
    "            break\n",
    "    except :\n",
    "        print(Array)\n",
    "        print(\"You have successfully entered all the elements of the array\")\n",
    "        break"
   ]
  },
  {
   "cell_type": "code",
   "execution_count": null,
   "id": "5907a732",
   "metadata": {},
   "outputs": [],
   "source": [
    "Array"
   ]
  }
 ],
 "metadata": {
  "kernelspec": {
   "display_name": "Python 3 (ipykernel)",
   "language": "python",
   "name": "python3"
  },
  "language_info": {
   "codemirror_mode": {
    "name": "ipython",
    "version": 3
   },
   "file_extension": ".py",
   "mimetype": "text/x-python",
   "name": "python",
   "nbconvert_exporter": "python",
   "pygments_lexer": "ipython3",
   "version": "3.9.7"
  }
 },
 "nbformat": 4,
 "nbformat_minor": 5
}
