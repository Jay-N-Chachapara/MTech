{
 "cells": [
  {
   "cell_type": "code",
   "execution_count": 1,
   "id": "4ec9ac3d",
   "metadata": {},
   "outputs": [
    {
     "name": "stdout",
     "output_type": "stream",
     "text": [
      "Enter any character to end the input\n",
      "Enter element : 56\n",
      "Enter element : 32\n",
      "Enter element : 66\n",
      "Enter element : 5\n",
      "Enter element : 95\n",
      "Enter element : 62\n",
      "Enter element : 35\n",
      "Enter element : 62\n",
      "Enter element : 35\n",
      "Enter element : 66\n",
      "Enter element : 44\n",
      "Enter element : 43\n",
      "Enter element : 47\n",
      "Enter element : l\n",
      "You have entered string/character\n",
      "0.exit\n",
      "1.continue\n",
      "0\n"
     ]
    }
   ],
   "source": [
    "Array = []\n",
    "print(\"Enter any character to end the input\")\n",
    "while True :\n",
    "    try :\n",
    "        element = float(input(\"Enter element : \"))\n",
    "        Array.append(element)\n",
    "    except(ValueError) :\n",
    "        print(\"You have entered string/character\")\n",
    "        if len(Array) == 0 :\n",
    "            print(\"Array is empty please enter some elements\")\n",
    "            continue\n",
    "        choice = None\n",
    "        while True :\n",
    "            try :\n",
    "                choice = int(input(\"0.exit\\n1.continue\\n\"))\n",
    "                break\n",
    "            except(ValueError) :\n",
    "                print(\"Please enter valid option.\")\n",
    "        if choice == 1 :\n",
    "            continue\n",
    "        else :\n",
    "            break"
   ]
  },
  {
   "cell_type": "code",
   "execution_count": 2,
   "id": "eba4ac6d",
   "metadata": {},
   "outputs": [
    {
     "data": {
      "text/plain": [
       "[56.0, 32.0, 66.0, 5.0, 95.0, 62.0, 35.0, 62.0, 35.0, 66.0, 44.0, 43.0, 47.0]"
      ]
     },
     "execution_count": 2,
     "metadata": {},
     "output_type": "execute_result"
    }
   ],
   "source": [
    "Array"
   ]
  },
  {
   "cell_type": "code",
   "execution_count": 7,
   "id": "f2003717",
   "metadata": {},
   "outputs": [
    {
     "data": {
      "text/plain": [
       "{1.0, 2.0, 3.0, 3.4, 4.0, 5.0, 6.0, 7.0}"
      ]
     },
     "execution_count": 7,
     "metadata": {},
     "output_type": "execute_result"
    }
   ],
   "source": [
    "UniqueElements = set(Array)\n",
    "UniqueElements"
   ]
  },
  {
   "cell_type": "code",
   "execution_count": 12,
   "id": "d3b7d990",
   "metadata": {},
   "outputs": [
    {
     "data": {
      "text/plain": [
       "7.0"
      ]
     },
     "execution_count": 12,
     "metadata": {},
     "output_type": "execute_result"
    }
   ],
   "source": [
    "largestElement = max(UniqueElements)\n",
    "largestElement"
   ]
  },
  {
   "cell_type": "code",
   "execution_count": 15,
   "id": "c0d01934",
   "metadata": {},
   "outputs": [
    {
     "data": {
      "text/plain": [
       "{1.0, 2.0, 3.0, 3.4, 4.0, 5.0, 6.0}"
      ]
     },
     "execution_count": 15,
     "metadata": {},
     "output_type": "execute_result"
    }
   ],
   "source": [
    "UniqueElements.remove(largestElement)\n",
    "UniqueElements"
   ]
  },
  {
   "cell_type": "code",
   "execution_count": 16,
   "id": "93d754ef",
   "metadata": {},
   "outputs": [
    {
     "name": "stdout",
     "output_type": "stream",
     "text": [
      "Second largest element in the entered list is  6.0\n"
     ]
    }
   ],
   "source": [
    "print(\"Second largest element in the entered list is \",max(UniqueElements))"
   ]
  },
  {
   "cell_type": "markdown",
   "id": "6ec433f9",
   "metadata": {},
   "source": [
    "# Modification - 1 second largest prime number"
   ]
  },
  {
   "cell_type": "code",
   "execution_count": 6,
   "id": "c74d2a8e",
   "metadata": {},
   "outputs": [],
   "source": [
    "import math"
   ]
  },
  {
   "cell_type": "code",
   "execution_count": 3,
   "id": "a85fb738",
   "metadata": {},
   "outputs": [
    {
     "data": {
      "text/plain": [
       "[56.0, 32.0, 66.0, 5.0, 95.0, 62.0, 35.0, 62.0, 35.0, 66.0, 44.0, 43.0, 47.0]"
      ]
     },
     "execution_count": 3,
     "metadata": {},
     "output_type": "execute_result"
    }
   ],
   "source": [
    "Array"
   ]
  },
  {
   "cell_type": "code",
   "execution_count": 9,
   "id": "67a133a9",
   "metadata": {},
   "outputs": [],
   "source": [
    "#Returns True if Prime\n",
    "def PrimeChecker(number) :\n",
    "    checker = True\n",
    "    for i in range(2,int(math.sqrt(number)+1)) :\n",
    "        if number % i == 0 :\n",
    "            checker = False\n",
    "            break\n",
    "    if checker :\n",
    "        return True\n",
    "    else :\n",
    "        return False"
   ]
  },
  {
   "cell_type": "code",
   "execution_count": 11,
   "id": "b63a8131",
   "metadata": {},
   "outputs": [],
   "source": [
    "PrimeNumbers = []"
   ]
  },
  {
   "cell_type": "code",
   "execution_count": 12,
   "id": "9f1fa778",
   "metadata": {},
   "outputs": [],
   "source": [
    "for i in Array :\n",
    "    if PrimeChecker(i) :\n",
    "        PrimeNumbers.append(i)"
   ]
  },
  {
   "cell_type": "code",
   "execution_count": 13,
   "id": "29e6f338",
   "metadata": {},
   "outputs": [
    {
     "data": {
      "text/plain": [
       "[5.0, 43.0, 47.0]"
      ]
     },
     "execution_count": 13,
     "metadata": {},
     "output_type": "execute_result"
    }
   ],
   "source": [
    "PrimeNumbers"
   ]
  },
  {
   "cell_type": "code",
   "execution_count": 14,
   "id": "01649db7",
   "metadata": {},
   "outputs": [
    {
     "data": {
      "text/plain": [
       "{5.0, 43.0, 47.0}"
      ]
     },
     "execution_count": 14,
     "metadata": {},
     "output_type": "execute_result"
    }
   ],
   "source": [
    "UniqueElements = set(PrimeNumbers)\n",
    "UniqueElements"
   ]
  },
  {
   "cell_type": "code",
   "execution_count": 15,
   "id": "1c0ca2d6",
   "metadata": {},
   "outputs": [
    {
     "data": {
      "text/plain": [
       "47.0"
      ]
     },
     "execution_count": 15,
     "metadata": {},
     "output_type": "execute_result"
    }
   ],
   "source": [
    "largestElement = max(UniqueElements)\n",
    "largestElement"
   ]
  },
  {
   "cell_type": "code",
   "execution_count": 16,
   "id": "59709f17",
   "metadata": {},
   "outputs": [
    {
     "data": {
      "text/plain": [
       "{5.0, 43.0}"
      ]
     },
     "execution_count": 16,
     "metadata": {},
     "output_type": "execute_result"
    }
   ],
   "source": [
    "UniqueElements.remove(largestElement)\n",
    "UniqueElements"
   ]
  },
  {
   "cell_type": "code",
   "execution_count": 17,
   "id": "11bde911",
   "metadata": {},
   "outputs": [
    {
     "name": "stdout",
     "output_type": "stream",
     "text": [
      "Second largest Prime Number in the entered list is  43.0\n"
     ]
    }
   ],
   "source": [
    "print(\"Second largest Prime Number in the entered list is \",max(UniqueElements))"
   ]
  },
  {
   "cell_type": "code",
   "execution_count": null,
   "id": "28a6d672",
   "metadata": {},
   "outputs": [],
   "source": []
  }
 ],
 "metadata": {
  "kernelspec": {
   "display_name": "Python 3 (ipykernel)",
   "language": "python",
   "name": "python3"
  },
  "language_info": {
   "codemirror_mode": {
    "name": "ipython",
    "version": 3
   },
   "file_extension": ".py",
   "mimetype": "text/x-python",
   "name": "python",
   "nbconvert_exporter": "python",
   "pygments_lexer": "ipython3",
   "version": "3.9.7"
  }
 },
 "nbformat": 4,
 "nbformat_minor": 5
}
