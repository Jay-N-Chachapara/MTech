{
 "cells": [
  {
   "cell_type": "code",
   "execution_count": 14,
   "id": "4f2e44d5",
   "metadata": {},
   "outputs": [],
   "source": [
    "class Node :\n",
    "     def __init__(self) :\n",
    "            self.data = None\n",
    "            self.next = None"
   ]
  },
  {
   "cell_type": "code",
   "execution_count": 13,
   "id": "ee34958c",
   "metadata": {},
   "outputs": [],
   "source": [
    "class LinkedList(Node) :\n",
    "    def __init__(self) :\n",
    "            self.head = Node() \n",
    "    def EnterNode(self) :\n",
    "            if self.head is None :\n",
    "                self.head.data = int(input())\n",
    "                self.next = None\n",
    "            else :\n",
    "                node = Node()\n",
    "                node.data = input()\n",
    "                node.next = None\n",
    "                tmp = self.head\n",
    "                \n",
    "                while tmp.next is not None :\n",
    "                    tmp = tmp.next\n",
    "                tmp.next = node\n",
    "    def Traverse(self) :\n",
    "        if self.head is None :\n",
    "            print(\"List is empty\")\n",
    "        else :\n",
    "            tmp = self.head.next\n",
    "            while tmp is not None :\n",
    "                print(tmp.data,end=\" --> \")\n",
    "                tmp = tmp.next\n",
    "            print(\"None\")\n",
    "            del tmp \n",
    "    def SearchNode(self) :\n",
    "        if self.head is None :\n",
    "            print(\"List is empty cannot search\")\n",
    "        else :\n",
    "            element = input(\"Enter the value of the element to be searched : \")\n",
    "            temp = self.head.next\n",
    "            counter = 0\n",
    "            while temp.data != element or temp is not None:\n",
    "                counter += 1\n",
    "                temp = temp.next \n",
    "            if temp is None :\n",
    "                print(\"Element not found\")\n",
    "            else :\n",
    "                print(\"Element found at\",counter,\"location\")\n",
    "    \n",
    "    def DeleteNode(self) :\n",
    "        print(\"you are inside delete method\")"
   ]
  },
  {
   "cell_type": "code",
   "execution_count": 15,
   "id": "fa67c9ec",
   "metadata": {},
   "outputs": [
    {
     "name": "stdout",
     "output_type": "stream",
     "text": [
      "1. Enter Node\n",
      "2. Search Node\n",
      "3. Delete Node\n",
      "4. Traverse List\n",
      "5. Exit\n",
      "Enter option : 2\n",
      "Enter the value of the element to be searched : 12\n"
     ]
    },
    {
     "ename": "AttributeError",
     "evalue": "'NoneType' object has no attribute 'data'",
     "output_type": "error",
     "traceback": [
      "\u001b[0;31m---------------------------------------------------------------------------\u001b[0m",
      "\u001b[0;31mAttributeError\u001b[0m                            Traceback (most recent call last)",
      "\u001b[0;32m/tmp/ipykernel_518582/4234300196.py\u001b[0m in \u001b[0;36m<module>\u001b[0;34m\u001b[0m\n\u001b[1;32m      6\u001b[0m         \u001b[0mL\u001b[0m\u001b[0;34m.\u001b[0m\u001b[0mEnterNode\u001b[0m\u001b[0;34m(\u001b[0m\u001b[0;34m)\u001b[0m\u001b[0;34m\u001b[0m\u001b[0;34m\u001b[0m\u001b[0m\n\u001b[1;32m      7\u001b[0m     \u001b[0;32melif\u001b[0m \u001b[0mOption\u001b[0m \u001b[0;34m==\u001b[0m \u001b[0;36m2\u001b[0m \u001b[0;34m:\u001b[0m\u001b[0;34m\u001b[0m\u001b[0;34m\u001b[0m\u001b[0m\n\u001b[0;32m----> 8\u001b[0;31m         \u001b[0mL\u001b[0m\u001b[0;34m.\u001b[0m\u001b[0mSearchNode\u001b[0m\u001b[0;34m(\u001b[0m\u001b[0;34m)\u001b[0m\u001b[0;34m\u001b[0m\u001b[0;34m\u001b[0m\u001b[0m\n\u001b[0m\u001b[1;32m      9\u001b[0m     \u001b[0;32melif\u001b[0m \u001b[0mOption\u001b[0m \u001b[0;34m==\u001b[0m \u001b[0;36m3\u001b[0m \u001b[0;34m:\u001b[0m\u001b[0;34m\u001b[0m\u001b[0;34m\u001b[0m\u001b[0m\n\u001b[1;32m     10\u001b[0m         \u001b[0mL\u001b[0m\u001b[0;34m.\u001b[0m\u001b[0mDeleteNode\u001b[0m\u001b[0;34m(\u001b[0m\u001b[0;34m)\u001b[0m\u001b[0;34m\u001b[0m\u001b[0;34m\u001b[0m\u001b[0m\n",
      "\u001b[0;32m/tmp/ipykernel_518582/143176290.py\u001b[0m in \u001b[0;36mSearchNode\u001b[0;34m(self)\u001b[0m\n\u001b[1;32m     32\u001b[0m             \u001b[0mtemp\u001b[0m \u001b[0;34m=\u001b[0m \u001b[0mself\u001b[0m\u001b[0;34m.\u001b[0m\u001b[0mhead\u001b[0m\u001b[0;34m.\u001b[0m\u001b[0mnext\u001b[0m\u001b[0;34m\u001b[0m\u001b[0;34m\u001b[0m\u001b[0m\n\u001b[1;32m     33\u001b[0m             \u001b[0mcounter\u001b[0m \u001b[0;34m=\u001b[0m \u001b[0;36m0\u001b[0m\u001b[0;34m\u001b[0m\u001b[0;34m\u001b[0m\u001b[0m\n\u001b[0;32m---> 34\u001b[0;31m             \u001b[0;32mwhile\u001b[0m \u001b[0mtemp\u001b[0m\u001b[0;34m.\u001b[0m\u001b[0mdata\u001b[0m \u001b[0;34m!=\u001b[0m \u001b[0melement\u001b[0m \u001b[0;32mor\u001b[0m \u001b[0mtemp\u001b[0m \u001b[0;32mis\u001b[0m \u001b[0;32mnot\u001b[0m \u001b[0;32mNone\u001b[0m\u001b[0;34m:\u001b[0m\u001b[0;34m\u001b[0m\u001b[0;34m\u001b[0m\u001b[0m\n\u001b[0m\u001b[1;32m     35\u001b[0m                 \u001b[0mcounter\u001b[0m \u001b[0;34m+=\u001b[0m \u001b[0;36m1\u001b[0m\u001b[0;34m\u001b[0m\u001b[0;34m\u001b[0m\u001b[0m\n\u001b[1;32m     36\u001b[0m                 \u001b[0mtemp\u001b[0m \u001b[0;34m=\u001b[0m \u001b[0mtemp\u001b[0m\u001b[0;34m.\u001b[0m\u001b[0mnext\u001b[0m\u001b[0;34m\u001b[0m\u001b[0;34m\u001b[0m\u001b[0m\n",
      "\u001b[0;31mAttributeError\u001b[0m: 'NoneType' object has no attribute 'data'"
     ]
    }
   ],
   "source": [
    "L = LinkedList()\n",
    "print(\"1. Enter Node\\n2. Search Node\\n3. Delete Node\\n4. Traverse List\\n5. Exit\")\n",
    "Option = int(input(\"Enter option : \"))\n",
    "while Option != 5 :\n",
    "    if Option == 1 :\n",
    "        L.EnterNode()\n",
    "    elif Option == 2 :\n",
    "        L.SearchNode()\n",
    "    elif Option == 3 :\n",
    "        L.DeleteNode()\n",
    "    elif Option == 4 :\n",
    "        L.Traverse()\n",
    "    else :\n",
    "        pass\n",
    "    print(\"1. Enter Node\\n2. Search Node\\n3. Delete Node\\n4. Traverse List\\n5. Exit\")\n",
    "    Option = int(input(\"Enter option : \"))"
   ]
  },
  {
   "cell_type": "code",
   "execution_count": null,
   "id": "e0212f33",
   "metadata": {},
   "outputs": [],
   "source": []
  }
 ],
 "metadata": {
  "kernelspec": {
   "display_name": "Python 3 (ipykernel)",
   "language": "python",
   "name": "python3"
  },
  "language_info": {
   "codemirror_mode": {
    "name": "ipython",
    "version": 3
   },
   "file_extension": ".py",
   "mimetype": "text/x-python",
   "name": "python",
   "nbconvert_exporter": "python",
   "pygments_lexer": "ipython3",
   "version": "3.9.7"
  }
 },
 "nbformat": 4,
 "nbformat_minor": 5
}
