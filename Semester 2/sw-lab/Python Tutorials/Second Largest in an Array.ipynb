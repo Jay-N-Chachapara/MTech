{
 "cells": [
  {
   "cell_type": "code",
   "execution_count": 5,
   "id": "4ec9ac3d",
   "metadata": {},
   "outputs": [
    {
     "name": "stdout",
     "output_type": "stream",
     "text": [
      "Enter any character to end the input\n",
      "Enter element : 1\n",
      "Enter element : 2\n",
      "Enter element : 3.4\n",
      "Enter element : 5\n",
      "Enter element : 6\n",
      "Enter element : 7\n",
      "Enter element : 7\n",
      "Enter element : 6\n",
      "Enter element : e\n",
      "You have entered string/character\n",
      "0.exit\n",
      "1.continue\n",
      "1\n",
      "Enter element : 3\n",
      "Enter element : 4\n",
      "Enter element : 5\n",
      "Enter element : t\n",
      "You have entered string/character\n",
      "0.exit\n",
      "1.continue\n",
      "0\n"
     ]
    }
   ],
   "source": [
    "Array = []\n",
    "print(\"Enter any character to end the input\")\n",
    "while True :\n",
    "    try :\n",
    "        element = float(input(\"Enter element : \"))\n",
    "        Array.append(element)\n",
    "    except(ValueError) :\n",
    "        print(\"You have entered string/character\")\n",
    "        if len(Array) == 0 :\n",
    "            print(\"Array is empty please enter some elements\")\n",
    "            continue\n",
    "        choice = None\n",
    "        while True :\n",
    "            try :\n",
    "                choice = int(input(\"0.exit\\n1.continue\\n\"))\n",
    "                break\n",
    "            except(ValueError) :\n",
    "                print(\"Please enter valid option.\")\n",
    "        if choice == 1 :\n",
    "            continue\n",
    "        else :\n",
    "            break"
   ]
  },
  {
   "cell_type": "code",
   "execution_count": 6,
   "id": "eba4ac6d",
   "metadata": {},
   "outputs": [
    {
     "data": {
      "text/plain": [
       "[1.0, 2.0, 3.4, 5.0, 6.0, 7.0, 7.0, 6.0, 3.0, 4.0, 5.0]"
      ]
     },
     "execution_count": 6,
     "metadata": {},
     "output_type": "execute_result"
    }
   ],
   "source": [
    "Array"
   ]
  },
  {
   "cell_type": "code",
   "execution_count": 7,
   "id": "f2003717",
   "metadata": {},
   "outputs": [
    {
     "data": {
      "text/plain": [
       "{1.0, 2.0, 3.0, 3.4, 4.0, 5.0, 6.0, 7.0}"
      ]
     },
     "execution_count": 7,
     "metadata": {},
     "output_type": "execute_result"
    }
   ],
   "source": [
    "UniqueElements = set(Array)\n",
    "UniqueElements"
   ]
  },
  {
   "cell_type": "code",
   "execution_count": 12,
   "id": "d3b7d990",
   "metadata": {},
   "outputs": [
    {
     "data": {
      "text/plain": [
       "7.0"
      ]
     },
     "execution_count": 12,
     "metadata": {},
     "output_type": "execute_result"
    }
   ],
   "source": [
    "largestElement = max(UniqueElements)\n",
    "largestElement"
   ]
  },
  {
   "cell_type": "code",
   "execution_count": 15,
   "id": "c0d01934",
   "metadata": {},
   "outputs": [
    {
     "data": {
      "text/plain": [
       "{1.0, 2.0, 3.0, 3.4, 4.0, 5.0, 6.0}"
      ]
     },
     "execution_count": 15,
     "metadata": {},
     "output_type": "execute_result"
    }
   ],
   "source": [
    "UniqueElements.remove(largestElement)\n",
    "UniqueElements"
   ]
  },
  {
   "cell_type": "code",
   "execution_count": 16,
   "id": "93d754ef",
   "metadata": {},
   "outputs": [
    {
     "name": "stdout",
     "output_type": "stream",
     "text": [
      "Second largest element in the entered list is  6.0\n"
     ]
    }
   ],
   "source": [
    "print(\"Second largest element in the entered list is \",max(UniqueElements))"
   ]
  },
  {
   "cell_type": "code",
   "execution_count": null,
   "id": "1db2d25e",
   "metadata": {},
   "outputs": [],
   "source": []
  }
 ],
 "metadata": {
  "kernelspec": {
   "display_name": "Python 3 (ipykernel)",
   "language": "python",
   "name": "python3"
  },
  "language_info": {
   "codemirror_mode": {
    "name": "ipython",
    "version": 3
   },
   "file_extension": ".py",
   "mimetype": "text/x-python",
   "name": "python",
   "nbconvert_exporter": "python",
   "pygments_lexer": "ipython3",
   "version": "3.9.7"
  }
 },
 "nbformat": 4,
 "nbformat_minor": 5
}
