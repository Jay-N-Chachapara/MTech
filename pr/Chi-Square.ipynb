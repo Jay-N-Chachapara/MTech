{
 "cells": [
  {
   "cell_type": "code",
   "execution_count": 104,
   "id": "c7e98374",
   "metadata": {},
   "outputs": [
    {
     "name": "stdout",
     "output_type": "stream",
     "text": [
      "Enter rowXcol : 3x5\n",
      "Enter values column wise :\n",
      "table[ 0 , 0 ] : 12\n",
      "table[ 0 , 1 ] : 18\n",
      "table[ 0 , 2 ] : 17\n",
      "table[ 0 , 3 ] : 22\n",
      "table[ 0 , 4 ] : 32\n",
      "table[ 1 , 0 ] : 18\n",
      "table[ 1 , 1 ] : 25\n",
      "table[ 1 , 2 ] : 29\n",
      "table[ 1 , 3 ] : 24\n",
      "table[ 1 , 4 ] : 30\n",
      "table[ 2 , 0 ] : 45\n",
      "table[ 2 , 1 ] : 32\n",
      "table[ 2 , 2 ] : 29\n",
      "table[ 2 , 3 ] : 29\n",
      "table[ 2 , 4 ] : 13\n",
      "[[12, 18, 17, 22, 32], [18, 25, 29, 24, 30], [45, 32, 29, 29, 13]]\n"
     ]
    }
   ],
   "source": [
    "row,col = input(\"Enter rowXcol : \").split('x')\n",
    "row,col = int(row),int(col)\n",
    "table = []\n",
    "print(\"Enter values column wise :\")\n",
    "for i in range(row) :\n",
    "    element = []\n",
    "    for j in range(col) :\n",
    "        print(\"table[\",i,\",\",j,\"] : \",end=\"\")\n",
    "        element.append(int(input()))\n",
    "    table.append(element)\n",
    "print(table)"
   ]
  },
  {
   "cell_type": "code",
   "execution_count": 105,
   "id": "ef16e241",
   "metadata": {},
   "outputs": [
    {
     "name": "stdout",
     "output_type": "stream",
     "text": [
      "Enter significance level (0.01,0.05,0.1) : 0.01\n"
     ]
    }
   ],
   "source": [
    "alpha = float(input(\"Enter significance level (0.01,0.05,0.1) : \"))"
   ]
  },
  {
   "cell_type": "code",
   "execution_count": 106,
   "id": "52391162",
   "metadata": {},
   "outputs": [
    {
     "name": "stdout",
     "output_type": "stream",
     "text": [
      "[75, 75, 75, 75, 75]\n",
      "[101, 126, 148]\n"
     ]
    }
   ],
   "source": [
    "rowTotal,colTotal = [],[]\n",
    "for i in table :\n",
    "    sum = 0 \n",
    "    for j in i :\n",
    "        sum += j\n",
    "    colTotal.append(sum)\n",
    "for i in range(col) :\n",
    "    sum = 0\n",
    "    for j in range(row) :\n",
    "        sum += table[j][i]\n",
    "    rowTotal.append(sum)\n",
    "print(rowTotal)\n",
    "print(colTotal)"
   ]
  },
  {
   "cell_type": "code",
   "execution_count": 107,
   "id": "a3c572cd",
   "metadata": {},
   "outputs": [
    {
     "name": "stdout",
     "output_type": "stream",
     "text": [
      "375\n"
     ]
    }
   ],
   "source": [
    "total = 0\n",
    "for i in colTotal :\n",
    "    total+=i\n",
    "print(total)"
   ]
  },
  {
   "cell_type": "code",
   "execution_count": 108,
   "id": "1cf71ecd",
   "metadata": {},
   "outputs": [
    {
     "name": "stdout",
     "output_type": "stream",
     "text": [
      "[0.2693, 0.336, 0.3947]\n"
     ]
    }
   ],
   "source": [
    "prob = []\n",
    "for i in range(len(colTotal)) :\n",
    "    prob.append(round(colTotal[i]/total,4))\n",
    "print(prob)"
   ]
  },
  {
   "cell_type": "code",
   "execution_count": 109,
   "id": "86868406",
   "metadata": {},
   "outputs": [
    {
     "name": "stdout",
     "output_type": "stream",
     "text": [
      "[[20.1975, 20.1975, 20.1975, 20.1975, 20.1975], [25.2, 25.2, 25.2, 25.2, 25.2], [29.6025, 29.6025, 29.6025, 29.6025, 29.6025]]\n"
     ]
    }
   ],
   "source": [
    "expectedFreq = []\n",
    "for i in prob :\n",
    "    element = []\n",
    "    for j in rowTotal :\n",
    "        element.append(round(j*i,4))\n",
    "    expectedFreq.append(element)\n",
    "print(expectedFreq)"
   ]
  },
  {
   "cell_type": "code",
   "execution_count": 111,
   "id": "053d3e15",
   "metadata": {},
   "outputs": [
    {
     "name": "stdout",
     "output_type": "stream",
     "text": [
      "[12, 18, 17, 22, 32, 18, 25, 29, 24, 30, 45, 32, 29, 29, 13]\n",
      "[20.1975, 20.1975, 20.1975, 20.1975, 20.1975, 25.2, 25.2, 25.2, 25.2, 25.2, 29.6025, 29.6025, 29.6025, 29.6025, 29.6025]\n"
     ]
    }
   ],
   "source": [
    "fo,fe = [],[] #Frequency Observed(fo) and Frequency Expected(fe)\n",
    "for i,j in zip(table,expectedFreq) :\n",
    "    for k,l in zip(i,j) :\n",
    "        fo.append(k)\n",
    "        fe.append(l)\n",
    "print(fo)\n",
    "print(fe)"
   ]
  },
  {
   "cell_type": "code",
   "execution_count": 112,
   "id": "e4dd0610",
   "metadata": {},
   "outputs": [
    {
     "name": "stdout",
     "output_type": "stream",
     "text": [
      "fo\tfe\tfo-fe\t(fo-fe)^2\t((fo-fe)^2)/2\n",
      "12 \t20.20 \t-8.20 \t67.20 \t\t 3.3271\n",
      "18 \t20.20 \t-2.20 \t4.83 \t\t 0.2391\n",
      "17 \t20.20 \t-3.20 \t10.22 \t\t 0.5062\n",
      "22 \t20.20 \t1.80 \t3.25 \t\t 0.1609\n",
      "32 \t20.20 \t11.80 \t139.30 \t\t 6.8968\n",
      "18 \t25.20 \t-7.20 \t51.84 \t\t 2.0571\n",
      "25 \t25.20 \t-0.20 \t0.04 \t\t 0.0016\n",
      "29 \t25.20 \t3.80 \t14.44 \t\t 0.573\n",
      "24 \t25.20 \t-1.20 \t1.44 \t\t 0.0571\n",
      "30 \t25.20 \t4.80 \t23.04 \t\t 0.9143\n",
      "45 \t29.60 \t15.40 \t237.08 \t\t 8.0089\n",
      "32 \t29.60 \t2.40 \t5.75 \t\t 0.1942\n",
      "29 \t29.60 \t-0.60 \t0.36 \t\t 0.0123\n",
      "29 \t29.60 \t-0.60 \t0.36 \t\t 0.0123\n",
      "13 \t29.60 \t-16.60 \t275.64 \t\t 9.3115\n"
     ]
    }
   ],
   "source": [
    "print(\"fo\\tfe\\tfo-fe\\t(fo-fe)^2\\t((fo-fe)^2)/2\")\n",
    "for i,j in zip(fo,fe) :\n",
    "    ans = (round(((i-j)**2)/j,4))\n",
    "    print(i,\"\\t{:.2f}\".format(j),\"\\t{:.2f}\".format(i-j),\"\\t{:.2f}\".format((i-j)**2),\"\\t\\t\",ans)"
   ]
  },
  {
   "cell_type": "code",
   "execution_count": 121,
   "id": "6dbcbc46",
   "metadata": {},
   "outputs": [
    {
     "name": "stdout",
     "output_type": "stream",
     "text": [
      "32.2724\n"
     ]
    }
   ],
   "source": [
    "ChiSquare = 0 \n",
    "for i,j in zip(fo,fe) :\n",
    "    ChiSquare += (round(((i-j)**2)/j,4))\n",
    "print(round(ChiSquare,4))"
   ]
  },
  {
   "cell_type": "code",
   "execution_count": 118,
   "id": "f6997a48",
   "metadata": {},
   "outputs": [
    {
     "name": "stdout",
     "output_type": "stream",
     "text": [
      "8\n"
     ]
    }
   ],
   "source": [
    "degreeOfFreedom = (row-1)*(col-1)\n",
    "print(degreeOfFreedom)"
   ]
  },
  {
   "cell_type": "code",
   "execution_count": 115,
   "id": "28a7b640",
   "metadata": {},
   "outputs": [],
   "source": [
    "import scipy.stats as stat"
   ]
  },
  {
   "cell_type": "code",
   "execution_count": 124,
   "id": "282b3f0c",
   "metadata": {},
   "outputs": [
    {
     "data": {
      "text/plain": [
       "18.54934778670325"
      ]
     },
     "execution_count": 124,
     "metadata": {},
     "output_type": "execute_result"
    }
   ],
   "source": [
    "# criticalValue = round(stat.chi2.ppf(1-alpha,degreeOfFreedom),4)\n",
    "# print(criticalValue)\n",
    "stat.chi2.ppf(1-0.1,12)"
   ]
  },
  {
   "cell_type": "code",
   "execution_count": 123,
   "id": "1babb3ac",
   "metadata": {},
   "outputs": [
    {
     "name": "stdout",
     "output_type": "stream",
     "text": [
      "reject\n"
     ]
    }
   ],
   "source": [
    "if ChiSquare > criticalValue : print(\"reject\") \n",
    "else : print(\"more likely to accept\")"
   ]
  },
  {
   "cell_type": "code",
   "execution_count": null,
   "id": "c332b08a",
   "metadata": {},
   "outputs": [],
   "source": []
  }
 ],
 "metadata": {
  "kernelspec": {
   "display_name": "Python 3 (ipykernel)",
   "language": "python",
   "name": "python3"
  },
  "language_info": {
   "codemirror_mode": {
    "name": "ipython",
    "version": 3
   },
   "file_extension": ".py",
   "mimetype": "text/x-python",
   "name": "python",
   "nbconvert_exporter": "python",
   "pygments_lexer": "ipython3",
   "version": "3.8.8"
  }
 },
 "nbformat": 4,
 "nbformat_minor": 5
}
