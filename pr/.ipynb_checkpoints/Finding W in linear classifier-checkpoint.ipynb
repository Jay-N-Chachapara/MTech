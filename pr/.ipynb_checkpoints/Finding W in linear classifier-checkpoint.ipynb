{
 "cells": [
  {
   "cell_type": "code",
   "execution_count": 4,
   "id": "ea33ff33",
   "metadata": {},
   "outputs": [
    {
     "name": "stdout",
     "output_type": "stream",
     "text": [
      "5 -9\n",
      "[0.9, 0.2]\n",
      "1.7000000000000002 -2.5\n",
      "[0.8, -0.6]\n",
      "-1.5999999999999999 4.0\n",
      "[0.9, -0.2]\n",
      "0.09999999999999998 0.7000000000000001\n",
      "[0.9, -0.2]\n"
     ]
    }
   ],
   "source": [
    "#Example 1\n",
    "y1 = [1,4]\n",
    "y2 = [-1,-8]\n",
    "w = [1,1]\n",
    "e = 0.1\n",
    "def computeR(y,w) :\n",
    "    r = 0\n",
    "    for i,j in zip(y,w) :\n",
    "        r += i*j\n",
    "    return r\n",
    "r1 = computeR(y1,w)\n",
    "r2 = computeR(y2,w)\n",
    "print(r1,r2)\n",
    "y = []\n",
    "wn = []\n",
    "while (r1 < 0) or (r2 < 0) :\n",
    "    y.clear()\n",
    "    if r1 < 0 :\n",
    "        y = [(k*0.1) for k in y1]\n",
    "    else :\n",
    "        y = [(k*0.1) for k in y2]\n",
    "    if not len(wn) :\n",
    "        for l,m in zip(w,y) :\n",
    "            wn.append(round(l+m,4))\n",
    "    else :\n",
    "        temp = []\n",
    "        for l,m in zip(wn,y) :\n",
    "            temp.append(round(l+m,4))\n",
    "        wn.clear()\n",
    "        wn = temp\n",
    "    print(wn)\n",
    "    r1 = computeR(y1,wn)\n",
    "    r2 = computeR(y2,wn)\n",
    "    print(r1,r2)\n",
    "print(wn)"
   ]
  },
  {
   "cell_type": "code",
   "execution_count": null,
   "id": "ebe70248",
   "metadata": {},
   "outputs": [],
   "source": [
    "#Example 2\n",
    "y1 = [1,1,1]\n",
    "y2 = [1,2,2]\n",
    "y3 = [-1,-5,-7]\n",
    "y4 = [-1,-8,-10]\n",
    "w = [2,3,4]\n",
    "e = 0.5\n",
    "\n",
    "def computeR(y,w) :\n",
    "    r = 0\n",
    "    for i,j in zip(y,w) :\n",
    "        r += i*j\n",
    "    return r\n",
    "r1 = computeR(y1,w)\n",
    "r2 = computeR(y2,w)\n",
    "r3 = computeR(y3,w)\n",
    "r4 = computeR(y4,w)\n",
    "print(\"After wo\\n(Values of r1 to r4):\\n\",r1,r2,r3,r4)\n",
    "y = []\n",
    "wn = []\n",
    "while (r1 < 0) or (r2 < 0) or (r3 < 0) or (r4 < 0):\n",
    "    y.clear()\n",
    "    if r1 < 0 :\n",
    "        y = [(k*0.1) for k in y1]\n",
    "    if r2 < 0 :\n",
    "        y = [(k*0.1) for k in y2]\n",
    "    if r3 < 0 :\n",
    "        y = [(k*0.1) for k in y3]\n",
    "    else :\n",
    "        y = [(k*0.1) for k in y4]\n",
    "    if not len(wn) :\n",
    "        for l,m in zip(w,y) :\n",
    "            wn.append(round(l+m,4))\n",
    "    else :\n",
    "        temp = []\n",
    "        for l,m in zip(wn,y) :\n",
    "            temp.append(round(l+m,4))\n",
    "        wn.clear()\n",
    "        wn = temp\n",
    "    r1 = computeR(y1,wn)\n",
    "    r2 = computeR(y2,wn)\n",
    "    r3 = computeR(y3,w)\n",
    "    r4 = computeR(y4,w)\n",
    "    print(r1,r2,r3,r4)\n",
    "print(wn)"
   ]
  }
 ],
 "metadata": {
  "kernelspec": {
   "display_name": "Python 3 (ipykernel)",
   "language": "python",
   "name": "python3"
  },
  "language_info": {
   "codemirror_mode": {
    "name": "ipython",
    "version": 3
   },
   "file_extension": ".py",
   "mimetype": "text/x-python",
   "name": "python",
   "nbconvert_exporter": "python",
   "pygments_lexer": "ipython3",
   "version": "3.8.8"
  }
 },
 "nbformat": 4,
 "nbformat_minor": 5
}
