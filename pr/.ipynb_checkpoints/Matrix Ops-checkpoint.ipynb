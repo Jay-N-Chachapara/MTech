{
 "cells": [
  {
   "cell_type": "code",
   "execution_count": 15,
   "id": "06c9ecf3",
   "metadata": {},
   "outputs": [
    {
     "name": "stdout",
     "output_type": "stream",
     "text": [
      "a = 0.18974585988773912 \n",
      "b 0.1562236175929633\n"
     ]
    }
   ],
   "source": [
    "import numpy as np\n",
    "import math #math.exp math.sqrt math.pi\n",
    "x1 = [1,2.1,3.1,4.6,4.7,4.8]\n",
    "x2 = [2,2.8,3.5,5.2,5.9,6.2]\n",
    "label = ['A','A','A','B','B','B']\n",
    "x = np.array([[2.5],[4.6]])\n",
    "sigma = np.array([[1,0],[0,1]])\n",
    "detSigma = np.linalg.det(sigma)\n",
    "sigmaInv = np.linalg.inv(sigma)\n",
    "pi = (2*math.pi)**(len(x1)/2)\n",
    "val = 1 / pi*(math.sqrt((detSigma)))\n",
    "Pa,Pb = [],[]\n",
    "for i in range(len(x1)) :\n",
    "    u = np.array([[x1[i]],[x2[i]]])\n",
    "    xu = np.subtract(x,u)\n",
    "    xuT = np.transpose(xu)\n",
    "    matMul = xuT*sigmaInv*xu\n",
    "    power = np.multiply(matMul,-0.5)\n",
    "    e = math.exp(np.linalg.det(power))\n",
    "    value = val*e\n",
    "    if i < 3 :\n",
    "        Pa.append(value)\n",
    "    else :\n",
    "        Pb.append(value)\n",
    "print(\"a =\",sum(Pa),\"\\nb\",sum(Pb))\n",
    "print(\"This is not correct output\")"
   ]
  },
  {
   "cell_type": "code",
   "execution_count": null,
   "id": "84bc6d54",
   "metadata": {},
   "outputs": [],
   "source": []
  }
 ],
 "metadata": {
  "kernelspec": {
   "display_name": "Python 3 (ipykernel)",
   "language": "python",
   "name": "python3"
  },
  "language_info": {
   "codemirror_mode": {
    "name": "ipython",
    "version": 3
   },
   "file_extension": ".py",
   "mimetype": "text/x-python",
   "name": "python",
   "nbconvert_exporter": "python",
   "pygments_lexer": "ipython3",
   "version": "3.8.8"
  }
 },
 "nbformat": 4,
 "nbformat_minor": 5
}
