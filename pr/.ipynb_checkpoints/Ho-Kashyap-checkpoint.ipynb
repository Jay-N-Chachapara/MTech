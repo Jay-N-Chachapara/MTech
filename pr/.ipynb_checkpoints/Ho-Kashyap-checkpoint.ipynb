{
 "cells": [
  {
   "cell_type": "code",
   "execution_count": 1,
   "id": "ee1772f8",
   "metadata": {},
   "outputs": [
    {
     "name": "stdout",
     "output_type": "stream",
     "text": [
      "Enter rowXcol : 4X3\n"
     ]
    },
    {
     "data": {
      "text/plain": [
       "(4, 3)"
      ]
     },
     "execution_count": 1,
     "metadata": {},
     "output_type": "execute_result"
    }
   ],
   "source": [
    "import numpy as np\n",
    "row,col = input(\"Enter rowXcol : \").split('X')\n",
    "row,col = int(row),int(col)\n",
    "row,col"
   ]
  },
  {
   "cell_type": "code",
   "execution_count": 2,
   "id": "d51bcbb1",
   "metadata": {},
   "outputs": [
    {
     "name": "stdout",
     "output_type": "stream",
     "text": [
      "Enter Values (Column wise) : \n",
      "1\n",
      "1\n",
      "2\n",
      "1\n",
      "2\n",
      "0\n",
      "-1\n",
      "-3\n",
      "-1\n",
      "-1\n",
      "-2\n",
      "-3\n",
      "[[ 1.  1.  2.]\n",
      " [ 1.  2.  0.]\n",
      " [-1. -3. -1.]\n",
      " [-1. -2. -3.]] (4, 3)\n"
     ]
    }
   ],
   "source": [
    "print(\"Enter Values (Column wise) : \")\n",
    "Y = np.array([[float(input()) for j in range(col)] for i in range(row)])\n",
    "print(Y,Y.shape)"
   ]
  },
  {
   "cell_type": "code",
   "execution_count": 20,
   "id": "f131d01b",
   "metadata": {},
   "outputs": [
    {
     "name": "stdout",
     "output_type": "stream",
     "text": [
      "1\n",
      "1\n",
      "1\n",
      "[1. 1. 1.] (3,)\n"
     ]
    }
   ],
   "source": [
    "a = np.array([float(input())for i in range(col)])\n",
    "print(a,a.shape)"
   ]
  },
  {
   "cell_type": "code",
   "execution_count": 21,
   "id": "e80c42d2",
   "metadata": {},
   "outputs": [
    {
     "name": "stdout",
     "output_type": "stream",
     "text": [
      "1.same\n",
      "2.different\n",
      "1\n",
      "Enter b = 0.5\n",
      "[0.5 0.5 0.5 0.5] (4,)\n"
     ]
    }
   ],
   "source": [
    "choice = int(input(\"1.same\\n2.different\\n\"))\n",
    "if choice == 1 :\n",
    "    b = float(input(\"Enter b = \"))\n",
    "    B = np.array([b for i in range(row)])\n",
    "else :\n",
    "    B = np.array([float(input()) for i in range(row)])\n",
    "print(B,B.shape)"
   ]
  },
  {
   "cell_type": "code",
   "execution_count": 5,
   "id": "29e7da94",
   "metadata": {},
   "outputs": [
    {
     "name": "stdout",
     "output_type": "stream",
     "text": [
      "bmin = 0.05\n",
      "n(k) = 0.5\n",
      "0.05 0.5\n"
     ]
    }
   ],
   "source": [
    "bmin = float(input(\"bmin = \"))\n",
    "nk = float(input(\"n(k) = \"))\n",
    "print(bmin,nk)"
   ]
  },
  {
   "cell_type": "code",
   "execution_count": 23,
   "id": "06180323",
   "metadata": {},
   "outputs": [
    {
     "name": "stdout",
     "output_type": "stream",
     "text": [
      "Maximum iteration : 50\n"
     ]
    }
   ],
   "source": [
    "k = int(input(\"Maximum iteration : \"))\n",
    "index = 0\n",
    "while index < k :\n",
    "    e = np.dot(Y,a) - B\n",
    "    ep = np.divide(e + np.abs(e),2)\n",
    "    B = B + np.multiply(np.transpose(e),2*nk)\n",
    "    a = np.dot(np.transpose(Y),b)\n",
    "    B = np.subtract(B,0.1)\n",
    "    index += 1\n",
    "    nk = (1/index)\n",
    "    print(np.abs(e).any())\n",
    "    if np.abs(e).any() < bmin :\n",
    "        print(a,B)\n",
    "        break\n",
    "#print(a,\"\\n\\n\",B)\n",
    "#else :\n",
    "#    print(\"No solution found\")"
   ]
  },
  {
   "cell_type": "code",
   "execution_count": null,
   "id": "7b836661",
   "metadata": {},
   "outputs": [],
   "source": []
  }
 ],
 "metadata": {
  "kernelspec": {
   "display_name": "Python 3 (ipykernel)",
   "language": "python",
   "name": "python3"
  },
  "language_info": {
   "codemirror_mode": {
    "name": "ipython",
    "version": 3
   },
   "file_extension": ".py",
   "mimetype": "text/x-python",
   "name": "python",
   "nbconvert_exporter": "python",
   "pygments_lexer": "ipython3",
   "version": "3.8.8"
  }
 },
 "nbformat": 4,
 "nbformat_minor": 5
}
