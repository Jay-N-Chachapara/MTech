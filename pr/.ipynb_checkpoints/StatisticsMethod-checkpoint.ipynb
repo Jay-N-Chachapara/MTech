{
 "cells": [
  {
   "cell_type": "code",
   "execution_count": null,
   "id": "5e861aa6",
   "metadata": {},
   "outputs": [],
   "source": [
    "def Statistics(X,colNames,dataSetName) :\n",
    "    encoder = ce.OrdinalEncoder(cols=colNames)\n",
    "    X = encoder.fit_transform(X)\n",
    "    print('\\033[1m' + '\\n\\nStatistics for'  + dataSetName + '\\033[0m')\n",
    "    \n",
    "#     print('\\033[1m' + '\\n\\nMean' + '\\033[0m')\n",
    "#     index = 0\n",
    "#     for i in colNames :\n",
    "#         index += 1\n",
    "#         if index%4 != 0 :\n",
    "#             print(i,round(np.mean(X[i]),4),sep=\" : \",end=\"\\t\\t\")\n",
    "#         else :\n",
    "#             print(i,round(np.mean(X[i]),4),sep=\" : \")\n",
    "    #Median\n",
    "    print('\\033[1m' + '\\n\\nMedian' + '\\033[0m')\n",
    "    index = 0\n",
    "    for i in colNames :\n",
    "        index += 1\n",
    "        if index%4 != 0 :\n",
    "            print(i,round(np.median(X[i]),4),sep=\" : \",end=\"\\t\\t\")\n",
    "        else :\n",
    "            print(i,round(np.median(X[i]),4),sep=\" : \")\n",
    "    #Mode\n",
    "    print('\\033[1m' + '\\n\\nMode' + '\\033[0m')\n",
    "    index = 0\n",
    "    for i in colNames :\n",
    "        print(i,stats.mode(X[i]),sep=\" : \")\n",
    "    \n",
    "    #Variance\n",
    "    print('\\033[1m' + '\\n\\nVariance' + '\\033[0m')\n",
    "    index = 0\n",
    "    for i in colNames :\n",
    "        index += 1\n",
    "        if index%4 != 0 :\n",
    "            print(i,round(np.var(X[i]),4),sep=\" : \",end=\"\\t\\t\")\n",
    "        else :\n",
    "            print(i,round(np.var(X[i]),4),sep=\" : \")\n",
    "    \n",
    "    #Standard Deviation\n",
    "#     print('\\033[1m' + '\\n\\nStandard deviation' + '\\033[0m')\n",
    "#     index = 0\n",
    "#     for i in colNames :\n",
    "#         index += 1\n",
    "#         if index%4 != 0 :\n",
    "#             print(i,round(np.std(X[i]),4),sep=\" : \",end=\"\\t\\t\")\n",
    "#         else :\n",
    "#             print(i,round(np.std(X[i]),4),sep=\" : \")\n",
    "            \n",
    "    print('\\033[1m' + '\\n\\nSkewness' + '\\033[0m')\n",
    "    print(stats.skew(X, axis=0, bias=True))\n",
    "\n",
    "    print('\\033[1m' + '\\n\\nKurtosis' + '\\033[0m')\n",
    "    print(stats.kurtosis(X, axis=0, bias=True))\n",
    "    X.describe()"
   ]
  }
 ],
 "metadata": {
  "kernelspec": {
   "display_name": "Python 3 (ipykernel)",
   "language": "python",
   "name": "python3"
  },
  "language_info": {
   "codemirror_mode": {
    "name": "ipython",
    "version": 3
   },
   "file_extension": ".py",
   "mimetype": "text/x-python",
   "name": "python",
   "nbconvert_exporter": "python",
   "pygments_lexer": "ipython3",
   "version": "3.8.8"
  }
 },
 "nbformat": 4,
 "nbformat_minor": 5
}
