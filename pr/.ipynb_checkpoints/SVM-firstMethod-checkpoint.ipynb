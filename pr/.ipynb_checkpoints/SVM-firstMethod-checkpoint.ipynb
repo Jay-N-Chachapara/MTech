{
 "cells": [
  {
   "cell_type": "code",
   "execution_count": null,
   "id": "e421575c",
   "metadata": {},
   "outputs": [],
   "source": []
  },
  {
   "cell_type": "code",
   "execution_count": null,
   "id": "28651c84",
   "metadata": {},
   "outputs": [],
   "source": [
    "M = array([[1,1],[2,1],[1,2],[2,2],[1.5,1.5],[4,4],[4,5],[5,4],[5,5],[4.5,4.5]])\n",
    "P = dot(M.T, M)\n",
    "q = -dot(M.T, array([3., 2., 3.]))"
   ]
  }
 ],
 "metadata": {
  "kernelspec": {
   "display_name": "Python 3 (ipykernel)",
   "language": "python",
   "name": "python3"
  },
  "language_info": {
   "codemirror_mode": {
    "name": "ipython",
    "version": 3
   },
   "file_extension": ".py",
   "mimetype": "text/x-python",
   "name": "python",
   "nbconvert_exporter": "python",
   "pygments_lexer": "ipython3",
   "version": "3.8.8"
  }
 },
 "nbformat": 4,
 "nbformat_minor": 5
}
