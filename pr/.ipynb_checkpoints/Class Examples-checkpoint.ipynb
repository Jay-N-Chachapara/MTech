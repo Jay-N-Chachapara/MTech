{
 "cells": [
  {
   "cell_type": "code",
   "execution_count": 28,
   "id": "e0ef505e",
   "metadata": {},
   "outputs": [
    {
     "name": "stdout",
     "output_type": "stream",
     "text": [
      "f(x0) = 9\n",
      "x1  = 1.1\tf(x1) = 8.8711\n",
      "x2  = 1.2566\tf(x2) = 8.5671\n",
      "x3  = 1.484\tf(x3) = 7.9815\n",
      "x4  = 1.7588\tf(x4) = 7.2823\n",
      "x5  = 1.9666\tf(x5) = 7.0065\n",
      "x6  = 2.005\tf(x6) = 7.0002\n",
      "x7  = 1.999\t"
     ]
    }
   ],
   "source": [
    "\"\"\"\n",
    "Date : 5th Oct Tue, 2021\n",
    "\"\"\"\n",
    "xn = 1\n",
    "e = 0.1\n",
    "xold = 0\n",
    "i=0 \n",
    "while (xn - xold) > 0.001 :\n",
    "    fd = (4*xn**3) - (9*xn**2) + 4\n",
    "    f = round(xn**4 - 3*xn**3 + 4*xn + 7,4)\n",
    "    print(\"f(x{:}\".format(i)+\") =\",f)\n",
    "    xold = xn\n",
    "    xn = round(xn - fd*e,4)\n",
    "    print(\"x{:}\".format(i+1),\" =\",xn,end=\"\\t\")\n",
    "    i += 1"
   ]
  },
  {
   "cell_type": "code",
   "execution_count": null,
   "id": "028c9b5f",
   "metadata": {},
   "outputs": [],
   "source": []
  }
 ],
 "metadata": {
  "kernelspec": {
   "display_name": "Python 3 (ipykernel)",
   "language": "python",
   "name": "python3"
  },
  "language_info": {
   "codemirror_mode": {
    "name": "ipython",
    "version": 3
   },
   "file_extension": ".py",
   "mimetype": "text/x-python",
   "name": "python",
   "nbconvert_exporter": "python",
   "pygments_lexer": "ipython3",
   "version": "3.8.8"
  }
 },
 "nbformat": 4,
 "nbformat_minor": 5
}
