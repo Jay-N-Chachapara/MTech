{
 "cells": [
  {
   "cell_type": "code",
   "execution_count": 31,
   "id": "20571ce9",
   "metadata": {},
   "outputs": [
    {
     "name": "stdout",
     "output_type": "stream",
     "text": [
      "f(x0) = 9\n",
      "x1  = 1.1\tf(x1) = 8.8711\n",
      "x2  = 1.2566\tf(x2) = 8.567100151889\n",
      "x3  = 1.484048749002\tf(x3) = 7.981353828961\n",
      "x4  = 1.758821374304\tf(x4) = 7.282242850151\n",
      "x5  = 1.966596498241\tf(x5) = 7.006509651452\n",
      "x6  = 2.005021918027\tf(x6) = 7.000151951855\n",
      "x7  = 1.998957736243\t"
     ]
    }
   ],
   "source": [
    "\"\"\"\n",
    "Date : 5th Oct Tue, 2021\n",
    "\"\"\"\n",
    "xn = 1\n",
    "e = 0.1\n",
    "xold = 0\n",
    "i=0 \n",
    "while (xn - xold) > 0.000000001 :\n",
    "    fd = (4*xn**3) - (9*xn**2) + 4\n",
    "    f = round(xn**4 - 3*xn**3 + 4*xn + 7,12)\n",
    "    print(\"f(x{:}\".format(i)+\") =\",f)\n",
    "    xold = xn\n",
    "    xn = round(xn - fd*e,12)\n",
    "    print(\"x{:}\".format(i+1),\" =\",xn,end=\"\\t\")\n",
    "    i += 1"
   ]
  },
  {
   "cell_type": "code",
   "execution_count": null,
   "id": "f73a3fec",
   "metadata": {},
   "outputs": [],
   "source": []
  }
 ],
 "metadata": {
  "kernelspec": {
   "display_name": "Python 3 (ipykernel)",
   "language": "python",
   "name": "python3"
  },
  "language_info": {
   "codemirror_mode": {
    "name": "ipython",
    "version": 3
   },
   "file_extension": ".py",
   "mimetype": "text/x-python",
   "name": "python",
   "nbconvert_exporter": "python",
   "pygments_lexer": "ipython3",
   "version": "3.8.8"
  }
 },
 "nbformat": 4,
 "nbformat_minor": 5
}
