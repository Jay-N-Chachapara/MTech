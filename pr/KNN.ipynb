{
 "cells": [
  {
   "cell_type": "code",
   "execution_count": 3,
   "id": "7e5114c5",
   "metadata": {},
   "outputs": [
    {
     "name": "stdout",
     "output_type": "stream",
     "text": [
      "Class of X : A\n"
     ]
    }
   ],
   "source": [
    "import math\n",
    "\"\"\"\n",
    "Date : 4th October Monday, 2021\n",
    "example in class\n",
    "From here to\n",
    "\"\"\"\n",
    "x1 = [2,3.8,4.2,5.6,6,7]\n",
    "x2 = [2.3,3.5,4.3,7.2,6.3,8.2]\n",
    "distance = []\n",
    "Class = ['A','A','A','B','B','B']\n",
    "x = [4.3,5.7]\n",
    "for i in range(len(x1)) :\n",
    "    distance.append(math.sqrt((x1[i]-x[0])**2+(x2[i]-x[1])**2))\n",
    "CoX = Class[distance.index(min(distance))]\n",
    "print(\"Class of X :\",CoX)\n",
    "\"\"\"\n",
    "Here.\n",
    "End of example\n",
    "\"\"\""
   ]
  },
  {
   "cell_type": "code",
   "execution_count": null,
   "id": "f08aa22b",
   "metadata": {},
   "outputs": [],
   "source": []
  }
 ],
 "metadata": {
  "kernelspec": {
   "display_name": "Python 3 (ipykernel)",
   "language": "python",
   "name": "python3"
  },
  "language_info": {
   "codemirror_mode": {
    "name": "ipython",
    "version": 3
   },
   "file_extension": ".py",
   "mimetype": "text/x-python",
   "name": "python",
   "nbconvert_exporter": "python",
   "pygments_lexer": "ipython3",
   "version": "3.8.8"
  }
 },
 "nbformat": 4,
 "nbformat_minor": 5
}
