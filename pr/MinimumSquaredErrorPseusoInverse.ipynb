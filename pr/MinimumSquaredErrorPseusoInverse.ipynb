{
 "cells": [
  {
   "cell_type": "code",
   "execution_count": 36,
   "id": "c2229a7d",
   "metadata": {},
   "outputs": [
    {
     "name": "stdout",
     "output_type": "stream",
     "text": [
      "Enter rowXcol : 4X3\n"
     ]
    }
   ],
   "source": [
    "import numpy as np\n",
    "row,col = input(\"Enter rowXcol : \").split('X')\n",
    "row,col = int(row),int(col)"
   ]
  },
  {
   "cell_type": "code",
   "execution_count": 37,
   "id": "83126a14",
   "metadata": {},
   "outputs": [
    {
     "data": {
      "text/plain": [
       "(4, 3)"
      ]
     },
     "execution_count": 37,
     "metadata": {},
     "output_type": "execute_result"
    }
   ],
   "source": [
    "row,col"
   ]
  },
  {
   "cell_type": "code",
   "execution_count": 38,
   "id": "d96d5bf1",
   "metadata": {},
   "outputs": [
    {
     "name": "stdout",
     "output_type": "stream",
     "text": [
      "Enter Values (Column wise) : \n",
      "1\n",
      "1\n",
      "2\n",
      "1\n",
      "2\n",
      "0\n",
      "-1\n",
      "-3\n",
      "-1\n",
      "-1\n",
      "-2\n",
      "-3\n"
     ]
    }
   ],
   "source": [
    "print(\"Enter Values (Column wise) : \")\n",
    "Y = np.array([[float(input()) for j in range(col)] for i in range(row)])"
   ]
  },
  {
   "cell_type": "code",
   "execution_count": 39,
   "id": "3950a64a",
   "metadata": {},
   "outputs": [
    {
     "data": {
      "text/plain": [
       "array([[ 1.,  1.,  2.],\n",
       "       [ 1.,  2.,  0.],\n",
       "       [-1., -3., -1.],\n",
       "       [-1., -2., -3.]])"
      ]
     },
     "execution_count": 39,
     "metadata": {},
     "output_type": "execute_result"
    }
   ],
   "source": [
    "Y"
   ]
  },
  {
   "cell_type": "code",
   "execution_count": 40,
   "id": "08215743",
   "metadata": {},
   "outputs": [
    {
     "data": {
      "text/plain": [
       "array([[ 1.,  1., -1., -1.],\n",
       "       [ 1.,  2., -3., -2.],\n",
       "       [ 2.,  0., -1., -3.]])"
      ]
     },
     "execution_count": 40,
     "metadata": {},
     "output_type": "execute_result"
    }
   ],
   "source": [
    "Yt = np.transpose(Y)\n",
    "Yt"
   ]
  },
  {
   "cell_type": "code",
   "execution_count": 41,
   "id": "2d30a60a",
   "metadata": {},
   "outputs": [
    {
     "data": {
      "text/plain": [
       "array([[ 4.,  8.,  6.],\n",
       "       [ 8., 18., 11.],\n",
       "       [ 6., 11., 14.]])"
      ]
     },
     "execution_count": 41,
     "metadata": {},
     "output_type": "execute_result"
    }
   ],
   "source": [
    "YtY = np.dot(Yt,Y)\n",
    "YtY"
   ]
  },
  {
   "cell_type": "code",
   "execution_count": 53,
   "id": "cea35181",
   "metadata": {},
   "outputs": [
    {
     "data": {
      "text/plain": [
       "array([[ 3.6389, -1.2778, -0.5556],\n",
       "       [-1.2778,  0.5556,  0.1111],\n",
       "       [-0.5556,  0.1111,  0.2222]])"
      ]
     },
     "execution_count": 53,
     "metadata": {},
     "output_type": "execute_result"
    }
   ],
   "source": [
    "r,c = YtY.shape\n",
    "YtYinv = []\n",
    "if r == c :\n",
    "    YtYinv = np.matrix.round(np.linalg.inv(YtY),4)\n",
    "else :\n",
    "    YtYinv = np.matrix.round(np.linalg.pinv(YtY),4)\n",
    "YtYinv"
   ]
  },
  {
   "cell_type": "code",
   "execution_count": 54,
   "id": "ef8a77d2",
   "metadata": {},
   "outputs": [
    {
     "data": {
      "text/plain": [
       "array([[ 1.2499e+00,  1.0833e+00,  7.5010e-01,  5.8350e-01],\n",
       "       [-5.0000e-01, -1.6660e-01, -5.0010e-01, -1.6670e-01],\n",
       "       [-1.0000e-04, -3.3340e-01,  1.0000e-04, -3.3320e-01]])"
      ]
     },
     "execution_count": 54,
     "metadata": {},
     "output_type": "execute_result"
    }
   ],
   "source": [
    "Yp = np.matrix.round(np.dot(YtYinv,Yt),4)\n",
    "Yp"
   ]
  },
  {
   "cell_type": "code",
   "execution_count": 55,
   "id": "193922cd",
   "metadata": {},
   "outputs": [
    {
     "name": "stdout",
     "output_type": "stream",
     "text": [
      "1.same\n",
      "2.different1\n",
      "Enter b = 0.5\n",
      "[0.5 0.5 0.5 0.5] (4,)\n"
     ]
    }
   ],
   "source": [
    "choice = int(input(\"1.same\\n2.different\\n\"))\n",
    "if choice == 1 :\n",
    "    b = float(input(\"Enter b = \"))\n",
    "    B = np.array([b for i in range(row)])\n",
    "else :\n",
    "    B = np.array([float(input()) for i in range(row)])\n",
    "print(B,B.shape)"
   ]
  },
  {
   "cell_type": "code",
   "execution_count": 56,
   "id": "e04580bf",
   "metadata": {},
   "outputs": [
    {
     "name": "stdout",
     "output_type": "stream",
     "text": [
      "[ 1.8334 -0.6667 -0.3333] (3,)\n"
     ]
    }
   ],
   "source": [
    "a = np.dot(Yp,B)\n",
    "print(a,a.shape)"
   ]
  },
  {
   "cell_type": "code",
   "execution_count": 57,
   "id": "fdce905a",
   "metadata": {},
   "outputs": [
    {
     "data": {
      "text/plain": [
       "array([ 1.00000000e-04,  0.00000000e+00, -1.66533454e-16, -1.00000000e-04])"
      ]
     },
     "execution_count": 57,
     "metadata": {},
     "output_type": "execute_result"
    }
   ],
   "source": [
    "error = np.dot(Y,a) - B\n",
    "error"
   ]
  },
  {
   "cell_type": "code",
   "execution_count": 58,
   "id": "c7338a05",
   "metadata": {},
   "outputs": [
    {
     "data": {
      "text/plain": [
       "2.0000000000017798e-08"
      ]
     },
     "execution_count": 58,
     "metadata": {},
     "output_type": "execute_result"
    }
   ],
   "source": [
    "eAmpli = np.dot(np.transpose(error),error)\n",
    "eAmpli"
   ]
  },
  {
   "cell_type": "code",
   "execution_count": null,
   "id": "acdfaec8",
   "metadata": {},
   "outputs": [],
   "source": []
  }
 ],
 "metadata": {
  "kernelspec": {
   "display_name": "Python 3 (ipykernel)",
   "language": "python",
   "name": "python3"
  },
  "language_info": {
   "codemirror_mode": {
    "name": "ipython",
    "version": 3
   },
   "file_extension": ".py",
   "mimetype": "text/x-python",
   "name": "python",
   "nbconvert_exporter": "python",
   "pygments_lexer": "ipython3",
   "version": "3.8.8"
  }
 },
 "nbformat": 4,
 "nbformat_minor": 5
}
