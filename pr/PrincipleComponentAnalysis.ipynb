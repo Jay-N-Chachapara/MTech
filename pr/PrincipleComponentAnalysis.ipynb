{
 "cells": [
  {
   "cell_type": "code",
   "execution_count": 1,
   "id": "a4ff32e4",
   "metadata": {},
   "outputs": [],
   "source": [
    "import numpy as np"
   ]
  },
  {
   "cell_type": "code",
   "execution_count": 2,
   "id": "7ebb172b",
   "metadata": {},
   "outputs": [
    {
     "name": "stdout",
     "output_type": "stream",
     "text": [
      "Enter number of features : 2\n",
      "Enter number of data points : 4\n"
     ]
    }
   ],
   "source": [
    "features = int(input(\"Enter number of features : \"))\n",
    "dataPoints = int(input(\"Enter number of data points : \"))"
   ]
  },
  {
   "cell_type": "code",
   "execution_count": 6,
   "id": "8d459054",
   "metadata": {},
   "outputs": [
    {
     "name": "stdout",
     "output_type": "stream",
     "text": [
      "Enter dataset\n",
      "2\n",
      "2.1\n",
      "3\n",
      "3.4\n",
      "4\n",
      "3.9\n",
      "6\n",
      "5.8\n"
     ]
    }
   ],
   "source": [
    "print(\"Enter dataset\")\n",
    "dataSet = np.array([[float(input()) for i in range(features)] for i in range(dataPoints)])"
   ]
  },
  {
   "cell_type": "code",
   "execution_count": 7,
   "id": "d9bf8fd3",
   "metadata": {},
   "outputs": [
    {
     "name": "stdout",
     "output_type": "stream",
     "text": [
      "[[2.  2.1]\n",
      " [3.  3.4]\n",
      " [4.  3.9]\n",
      " [6.  5.8]]\n"
     ]
    }
   ],
   "source": [
    "print(dataSet)"
   ]
  },
  {
   "cell_type": "code",
   "execution_count": 69,
   "id": "e4ecc01c",
   "metadata": {},
   "outputs": [
    {
     "name": "stdout",
     "output_type": "stream",
     "text": [
      "[[3.75]\n",
      " [3.8 ]]\n"
     ]
    }
   ],
   "source": [
    "m = [0 for i in range(features)]\n",
    "for i in dataSet :\n",
    "    index = 0\n",
    "    for j in i :\n",
    "        m[index] += j\n",
    "        index += 1\n",
    "m = np.divide(np.array(m),dataPoints).reshape([features,1])\n",
    "print(m)"
   ]
  },
  {
   "cell_type": "code",
   "execution_count": 82,
   "id": "e33313ac",
   "metadata": {},
   "outputs": [
    {
     "name": "stdout",
     "output_type": "stream",
     "text": [
      "[[8.75 7.8 ]\n",
      " [7.8  7.06]]\n"
     ]
    }
   ],
   "source": [
    "ScatterMatrix = []\n",
    "for i in dataSet :\n",
    "    x = i.reshape([features,1]) - m\n",
    "    ScatterMatrix.append(np.dot(x,x.transpose()))\n",
    "S = np.zeros_like(ScatterMatrix[0])\n",
    "for i in ScatterMatrix :\n",
    "    S += i\n",
    "print(S)"
   ]
  },
  {
   "cell_type": "code",
   "execution_count": 101,
   "id": "f2178cae",
   "metadata": {},
   "outputs": [
    {
     "name": "stdout",
     "output_type": "stream",
     "text": [
      "Eigen Values :\n",
      " [15.75063732  0.05936268] \n",
      "\n",
      "Eigen Vectors :\n",
      " [[ 0.74421206 -0.66794342]\n",
      " [ 0.66794342  0.74421206]]\n"
     ]
    }
   ],
   "source": [
    "#Eigen Values and vector\n",
    "values,vectors = np.linalg.eig(S)\n",
    "print(\"Eigen Values :\\n\",values,\"\\n\\nEigen Vectors :\\n\",vectors)\n",
    "#print(np.linalg.eigvals(S))"
   ]
  },
  {
   "cell_type": "code",
   "execution_count": 102,
   "id": "9cab7ade",
   "metadata": {},
   "outputs": [
    {
     "data": {
      "text/plain": [
       "array([1.11, 1.  ])"
      ]
     },
     "execution_count": 102,
     "metadata": {},
     "output_type": "execute_result"
    }
   ],
   "source": [
    "#Here taking eigen vector as in the class\n",
    "e = np.array([1.11,1])\n",
    "e"
   ]
  },
  {
   "cell_type": "code",
   "execution_count": 103,
   "id": "073f9137",
   "metadata": {},
   "outputs": [
    {
     "name": "stdout",
     "output_type": "stream",
     "text": [
      "p1 = 4.32\n",
      "p2 = 6.73\n",
      "p3 = 8.34\n",
      "p4 = 12.46\n"
     ]
    }
   ],
   "source": [
    "P = []\n",
    "for i in dataSet :\n",
    "    P.append(np.dot(e.transpose(),i))\n",
    "index = 1\n",
    "for i in P :\n",
    "    print(\"p{:} = {:}\".format(index,i),end=\"\\n\")\n",
    "    index+=1"
   ]
  },
  {
   "cell_type": "code",
   "execution_count": null,
   "id": "6e1c1cc1",
   "metadata": {},
   "outputs": [],
   "source": []
  }
 ],
 "metadata": {
  "kernelspec": {
   "display_name": "Python 3 (ipykernel)",
   "language": "python",
   "name": "python3"
  },
  "language_info": {
   "codemirror_mode": {
    "name": "ipython",
    "version": 3
   },
   "file_extension": ".py",
   "mimetype": "text/x-python",
   "name": "python",
   "nbconvert_exporter": "python",
   "pygments_lexer": "ipython3",
   "version": "3.8.8"
  }
 },
 "nbformat": 4,
 "nbformat_minor": 5
}
