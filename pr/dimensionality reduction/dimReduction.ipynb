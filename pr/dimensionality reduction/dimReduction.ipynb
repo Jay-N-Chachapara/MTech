{
 "cells": [
  {
   "cell_type": "code",
   "execution_count": 11,
   "id": "8ce72697",
   "metadata": {},
   "outputs": [
    {
     "name": "stdout",
     "output_type": "stream",
     "text": [
      "[7.3484692283495345, 4.47213595499958, 7.810249675906654, 10.862780491200215, 9.433981132056603, 7.0]\n",
      "[16 44]\n",
      "[4 9]\n",
      "[26 60]\n",
      "[27 49]\n",
      "[37.0, 18.867962264113206, 12.083045973594572, 55.54277630799526, 46.14108798023731, 11.045361017187261]\n",
      "[[1.         0.74589172]\n",
      " [0.74589172 1.        ]]\n",
      "0.4436455477627356\n"
     ]
    }
   ],
   "source": [
    "import numpy as np\n",
    "p1 = np.array([2,3,8])\n",
    "p2 = np.array([1,1,1])\n",
    "p3 = np.array([2,7,10])\n",
    "p4 = np.array([5,9,4])\n",
    "A = np.array([[1,2,1],[3,2,4]])\n",
    "p1d = np.dot(A,p1)\n",
    "p2d = np.dot(A,p2)\n",
    "p3d = np.dot(A,p3)\n",
    "p4d = np.dot(A,p4)\n",
    "s1 = [np.sqrt(np.dot((p1-p2),(p1-p2).T)),np.sqrt(np.dot((p1-p3),(p1-p3).T)),np.sqrt(np.dot((p1-p4),(p1-p4).T)),np.sqrt(np.dot((p2-p3),(p2-p3).T)),np.sqrt(np.dot((p2-p4),(p2-p4).T)),np.sqrt(np.dot((p3-p4),(p3-p4).T))]\n",
    "print(s1)\n",
    "print(p1d)\n",
    "print(p2d)\n",
    "print(p3d)\n",
    "print(p4d)\n",
    "s2 = [np.sqrt(np.dot((p1d-p2d),(p1d-p2d).T)),np.sqrt(np.dot((p1d-p3d),(p1d-p3d).T)),np.sqrt(np.dot((p1d-p4d),(p1d-p4d).T)),np.sqrt(np.dot((p2d-p3d),(p2d-p3d).T)),np.sqrt(np.dot((p2d-p4d),(p2d-p4d).T)),np.sqrt(np.dot((p3d-p4d),(p3d-p4d).T))]\n",
    "print(s2)\n",
    "print(np.corrcoef(s1,s2))\n",
    "print(np.linalg.det(np.corrcoef(s1,s2)))"
   ]
  },
  {
   "cell_type": "code",
   "execution_count": null,
   "id": "6b28bdfa",
   "metadata": {},
   "outputs": [],
   "source": []
  }
 ],
 "metadata": {
  "kernelspec": {
   "display_name": "Python 3 (ipykernel)",
   "language": "python",
   "name": "python3"
  },
  "language_info": {
   "codemirror_mode": {
    "name": "ipython",
    "version": 3
   },
   "file_extension": ".py",
   "mimetype": "text/x-python",
   "name": "python",
   "nbconvert_exporter": "python",
   "pygments_lexer": "ipython3",
   "version": "3.8.8"
  }
 },
 "nbformat": 4,
 "nbformat_minor": 5
}
