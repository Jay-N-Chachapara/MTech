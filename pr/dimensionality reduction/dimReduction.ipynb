{
 "cells": [
  {
   "cell_type": "code",
   "execution_count": 11,
   "id": "8ce72697",
   "metadata": {},
   "outputs": [
    {
     "name": "stdout",
     "output_type": "stream",
     "text": [
      "[7.3484692283495345, 4.47213595499958, 7.810249675906654, 10.862780491200215, 9.433981132056603, 7.0]\n",
      "[16 44]\n",
      "[4 9]\n",
      "[26 60]\n",
      "[27 49]\n",
      "[37.0, 18.867962264113206, 12.083045973594572, 55.54277630799526, 46.14108798023731, 11.045361017187261]\n",
      "[[1.         0.74589172]\n",
      " [0.74589172 1.        ]]\n",
      "0.4436455477627356\n"
     ]
    }
   ],
   "source": [
    "import numpy as np\n",
    "p1 = np.array([2,3,8])\n",
    "p2 = np.array([1,1,1])\n",
    "p3 = np.array([2,7,10])\n",
    "p4 = np.array([5,9,4])\n",
    "A = np.array([[1,2,1],[3,2,4]])\n",
    "p1d = np.dot(A,p1)\n",
    "p2d = np.dot(A,p2)\n",
    "p3d = np.dot(A,p3)\n",
    "p4d = np.dot(A,p4)\n",
    "s1 = [np.sqrt(np.dot((p1-p2),(p1-p2).T)),np.sqrt(np.dot((p1-p3),(p1-p3).T)),np.sqrt(np.dot((p1-p4),(p1-p4).T)),np.sqrt(np.dot((p2-p3),(p2-p3).T)),np.sqrt(np.dot((p2-p4),(p2-p4).T)),np.sqrt(np.dot((p3-p4),(p3-p4).T))]\n",
    "print(s1)\n",
    "print(p1d)\n",
    "print(p2d)\n",
    "print(p3d)\n",
    "print(p4d)\n",
    "s2 = [np.sqrt(np.dot((p1d-p2d),(p1d-p2d).T)),np.sqrt(np.dot((p1d-p3d),(p1d-p3d).T)),np.sqrt(np.dot((p1d-p4d),(p1d-p4d).T)),np.sqrt(np.dot((p2d-p3d),(p2d-p3d).T)),np.sqrt(np.dot((p2d-p4d),(p2d-p4d).T)),np.sqrt(np.dot((p3d-p4d),(p3d-p4d).T))]\n",
    "print(s2)\n",
    "print(np.corrcoef(s1,s2))\n",
    "print(np.linalg.det(np.corrcoef(s1,s2)))"
   ]
  },
  {
   "cell_type": "code",
   "execution_count": 2,
   "id": "f1564934",
   "metadata": {},
   "outputs": [],
   "source": [
    "import numpy as np"
   ]
  },
  {
   "cell_type": "code",
   "execution_count": 56,
   "id": "6b28bdfa",
   "metadata": {},
   "outputs": [
    {
     "data": {
      "text/plain": [
       "122.96000000000001"
      ]
     },
     "execution_count": 56,
     "metadata": {},
     "output_type": "execute_result"
    }
   ],
   "source": [
    "a = np.array([5.5,5.3,7])\n",
    "b = np.array([6.2,6.2,8])\n",
    "ans = np.dot(a.T,b)\n",
    "ans"
   ]
  },
  {
   "cell_type": "code",
   "execution_count": 57,
   "id": "9d20e21d",
   "metadata": {},
   "outputs": [
    {
     "data": {
      "text/plain": [
       "15366.081600000001"
      ]
     },
     "execution_count": 57,
     "metadata": {},
     "output_type": "execute_result"
    }
   ],
   "source": [
    "(ans+1)**2"
   ]
  },
  {
   "cell_type": "code",
   "execution_count": 58,
   "id": "d93defbf",
   "metadata": {},
   "outputs": [],
   "source": [
    "s1 = np.array([5.5,5.3,7,1])\n",
    "s2 = np.array([6.2,6.2,8,1])\n",
    "s3 = np.array([5,6,6,1])"
   ]
  },
  {
   "cell_type": "code",
   "execution_count": 59,
   "id": "f60331e1",
   "metadata": {},
   "outputs": [
    {
     "data": {
      "text/plain": [
       "108.34"
      ]
     },
     "execution_count": 59,
     "metadata": {},
     "output_type": "execute_result"
    }
   ],
   "source": [
    "np.dot(s1,s1)"
   ]
  },
  {
   "cell_type": "code",
   "execution_count": 61,
   "id": "dde4fadc",
   "metadata": {},
   "outputs": [
    {
     "data": {
      "text/plain": [
       "123.96000000000001"
      ]
     },
     "execution_count": 61,
     "metadata": {},
     "output_type": "execute_result"
    }
   ],
   "source": [
    "np.dot(s1,s2)"
   ]
  },
  {
   "cell_type": "code",
   "execution_count": 62,
   "id": "7b61b425",
   "metadata": {},
   "outputs": [
    {
     "data": {
      "text/plain": [
       "102.3"
      ]
     },
     "execution_count": 62,
     "metadata": {},
     "output_type": "execute_result"
    }
   ],
   "source": [
    "np.dot(s1,s3)"
   ]
  },
  {
   "cell_type": "code",
   "execution_count": 64,
   "id": "1b800f87",
   "metadata": {},
   "outputs": [
    {
     "data": {
      "text/plain": [
       "141.88"
      ]
     },
     "execution_count": 64,
     "metadata": {},
     "output_type": "execute_result"
    }
   ],
   "source": [
    "np.dot(s2,s2)"
   ]
  },
  {
   "cell_type": "code",
   "execution_count": 66,
   "id": "8912c75c",
   "metadata": {},
   "outputs": [
    {
     "data": {
      "text/plain": [
       "117.2"
      ]
     },
     "execution_count": 66,
     "metadata": {},
     "output_type": "execute_result"
    }
   ],
   "source": [
    "np.dot(s3,s2)"
   ]
  },
  {
   "cell_type": "code",
   "execution_count": null,
   "id": "22705ff4",
   "metadata": {},
   "outputs": [],
   "source": []
  }
 ],
 "metadata": {
  "kernelspec": {
   "display_name": "Python 3 (ipykernel)",
   "language": "python",
   "name": "python3"
  },
  "language_info": {
   "codemirror_mode": {
    "name": "ipython",
    "version": 3
   },
   "file_extension": ".py",
   "mimetype": "text/x-python",
   "name": "python",
   "nbconvert_exporter": "python",
   "pygments_lexer": "ipython3",
   "version": "3.8.8"
  }
 },
 "nbformat": 4,
 "nbformat_minor": 5
}
