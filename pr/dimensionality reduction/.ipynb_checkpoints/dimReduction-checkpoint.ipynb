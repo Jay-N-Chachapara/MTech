{
 "cells": [
  {
   "cell_type": "code",
   "execution_count": null,
   "id": "65de16d5",
   "metadata": {},
   "outputs": [],
   "source": [
    "import numpy as np\n",
    "p1 = np.array([2,3,8])\n",
    "p2 = np.array([1,1,1])\n",
    "p3 = np.array([2,7,10])\n",
    "p4 = np.array([5,9,4])\n",
    "A = np.array[[1,2,1][3,2,4]]\n",
    "p1d = np.dot(A,p1)\n",
    "p2d = np.dot(A,p2)\n",
    "p3d = np.dot(A,p3)\n",
    "p4d = np.dot(A,p4)"
   ]
  }
 ],
 "metadata": {
  "kernelspec": {
   "display_name": "Python 3 (ipykernel)",
   "language": "python",
   "name": "python3"
  },
  "language_info": {
   "codemirror_mode": {
    "name": "ipython",
    "version": 3
   },
   "file_extension": ".py",
   "mimetype": "text/x-python",
   "name": "python",
   "nbconvert_exporter": "python",
   "pygments_lexer": "ipython3",
   "version": "3.8.8"
  }
 },
 "nbformat": 4,
 "nbformat_minor": 5
}
