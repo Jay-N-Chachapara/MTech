{
 "cells": [
  {
   "cell_type": "code",
   "execution_count": 1,
   "id": "59811a19",
   "metadata": {},
   "outputs": [
    {
     "name": "stdout",
     "output_type": "stream",
     "text": [
      "Enter rowXcol : 4X3\n"
     ]
    },
    {
     "data": {
      "text/plain": [
       "(4, 3)"
      ]
     },
     "execution_count": 1,
     "metadata": {},
     "output_type": "execute_result"
    }
   ],
   "source": [
    "import numpy as np\n",
    "row,col = input(\"Enter rowXcol : \").split('X')\n",
    "row,col = int(row),int(col)\n",
    "row,col"
   ]
  },
  {
   "cell_type": "code",
   "execution_count": 2,
   "id": "00bb2c08",
   "metadata": {},
   "outputs": [
    {
     "name": "stdout",
     "output_type": "stream",
     "text": [
      "Enter Values (Column wise) : \n",
      "1\n",
      "1\n",
      "2\n",
      "1\n",
      "2\n",
      "0\n",
      "-1\n",
      "-3\n",
      "-1\n",
      "-1\n",
      "-2\n",
      "-3\n",
      "[[ 1.  1.  2.]\n",
      " [ 1.  2.  0.]\n",
      " [-1. -3. -1.]\n",
      " [-1. -2. -3.]] (4, 3)\n"
     ]
    }
   ],
   "source": [
    "print(\"Enter Values (Column wise) : \")\n",
    "Y = np.array([[float(input()) for j in range(col)] for i in range(row)])\n",
    "print(Y,Y.shape)"
   ]
  },
  {
   "cell_type": "code",
   "execution_count": 20,
   "id": "be5a0c52",
   "metadata": {},
   "outputs": [
    {
     "name": "stdout",
     "output_type": "stream",
     "text": [
      "1\n",
      "1\n",
      "1\n",
      "[1. 1. 1.] (3,)\n"
     ]
    }
   ],
   "source": [
    "a = np.array([float(input())for i in range(col)])\n",
    "print(a,a.shape)"
   ]
  },
  {
   "cell_type": "code",
   "execution_count": 21,
   "id": "c9ac56b8",
   "metadata": {},
   "outputs": [
    {
     "name": "stdout",
     "output_type": "stream",
     "text": [
      "1.same\n",
      "2.different\n",
      "1\n",
      "Enter b = 0.5\n",
      "[0.5 0.5 0.5 0.5] (4,)\n"
     ]
    }
   ],
   "source": [
    "choice = int(input(\"1.same\\n2.different\\n\"))\n",
    "if choice == 1 :\n",
    "    b = float(input(\"Enter b = \"))\n",
    "    B = np.array([b for i in range(row)])\n",
    "else :\n",
    "    B = np.array([float(input()) for i in range(row)])\n",
    "print(B,B.shape)"
   ]
  },
  {
   "cell_type": "code",
   "execution_count": 5,
   "id": "c4566d04",
   "metadata": {},
   "outputs": [
    {
     "name": "stdout",
     "output_type": "stream",
     "text": [
      "bmin = 0.05\n",
      "n(k) = 0.5\n",
      "0.05 0.5\n"
     ]
    }
   ],
   "source": [
    "bmin = float(input(\"bmin = \"))\n",
    "nk = float(input(\"n(k) = \"))\n",
    "print(bmin,nk)"
   ]
  },
  {
   "cell_type": "code",
   "execution_count": 25,
   "id": "8c361536",
   "metadata": {},
   "outputs": [
    {
     "name": "stdout",
     "output_type": "stream",
     "text": [
      "Maximum iteration : 10\n",
      "[[1.66666667e+00 2.24180190e+09 2.01762171e+10 2.24180190e+10]\n",
      " [2.24180190e+09 1.66666667e+00 1.79344152e+10 2.01762171e+10]\n",
      " [2.01762171e+10 1.79344152e+10 1.66666667e+00 2.24180190e+09]\n",
      " [2.24180190e+10 2.01762171e+10 2.24180190e+09 1.66666667e+00]]\n",
      "[[1.70000000e+00 2.33147398e+09 2.09832658e+10 2.33147398e+10]\n",
      " [2.33147397e+09 1.70000000e+00 1.86517918e+10 2.09832658e+10]\n",
      " [2.09832658e+10 1.86517918e+10 1.70000000e+00 2.33147398e+09]\n",
      " [2.33147398e+10 2.09832658e+10 2.33147397e+09 1.70000000e+00]]\n",
      "[[1.60000000e+00 6.99442193e+09 6.29497974e+10 6.99442193e+10]\n",
      " [6.99442193e+09 1.60000000e+00 5.59553754e+10 6.29497974e+10]\n",
      " [6.29497974e+10 5.59553754e+10 1.60000000e+00 6.99442193e+09]\n",
      " [6.99442193e+10 6.29497974e+10 6.99442193e+09 1.60000000e+00]]\n",
      "[[1.00000000e-01 1.39888439e+10 1.25899595e+11 1.39888439e+11]\n",
      " [1.39888439e+10 1.00000000e-01 1.11910751e+11 1.25899595e+11]\n",
      " [1.25899595e+11 1.11910751e+11 1.00000000e-01 1.39888439e+10]\n",
      " [1.39888439e+11 1.25899595e+11 1.39888439e+10 1.00000000e-01]]\n",
      "[[1.33333333e-01 2.33147398e+10 2.09832658e+11 2.33147398e+11]\n",
      " [2.33147398e+10 1.33333333e-01 1.86517918e+11 2.09832658e+11]\n",
      " [2.09832658e+11 1.86517918e+11 1.33333333e-01 2.33147398e+10]\n",
      " [2.33147398e+11 2.09832658e+11 2.33147398e+10 1.33333333e-01]]\n",
      "[[1.66666667e-01 3.49721096e+10 3.14748987e+11 3.49721096e+11]\n",
      " [3.49721096e+10 1.66666667e-01 2.79776877e+11 3.14748987e+11]\n",
      " [3.14748987e+11 2.79776877e+11 1.66666667e-01 3.49721096e+10]\n",
      " [3.49721096e+11 3.14748987e+11 3.49721096e+10 1.66666667e-01]]\n",
      "[[2.00000000e-01 4.89609535e+10 4.40648581e+11 4.89609535e+11]\n",
      " [4.89609535e+10 2.00000000e-01 3.91687628e+11 4.40648581e+11]\n",
      " [4.40648581e+11 3.91687628e+11 2.00000000e-01 4.89609535e+10]\n",
      " [4.89609535e+11 4.40648581e+11 4.89609535e+10 2.00000000e-01]]\n",
      "[[2.33333333e-01 6.52812713e+10 5.87531442e+11 6.52812713e+11]\n",
      " [6.52812713e+10 2.33333333e-01 5.22250171e+11 5.87531442e+11]\n",
      " [5.87531442e+11 5.22250171e+11 2.33333333e-01 6.52812713e+10]\n",
      " [6.52812713e+11 5.87531442e+11 6.52812713e+10 2.33333333e-01]]\n",
      "[[2.66666667e-01 8.39330631e+10 7.55397568e+11 8.39330631e+11]\n",
      " [8.39330631e+10 2.66666667e-01 6.71464505e+11 7.55397568e+11]\n",
      " [7.55397568e+11 6.71464505e+11 2.66666667e-01 8.39330631e+10]\n",
      " [8.39330631e+11 7.55397568e+11 8.39330631e+10 2.66666667e-01]]\n",
      "[[3.00000000e-01 1.04916329e+11 9.44246960e+11 1.04916329e+12]\n",
      " [1.04916329e+11 3.00000000e-01 8.39330631e+11 9.44246960e+11]\n",
      " [9.44246960e+11 8.39330631e+11 3.00000000e-01 1.04916329e+11]\n",
      " [1.04916329e+12 9.44246960e+11 1.04916329e+11 3.00000000e-01]]\n"
     ]
    }
   ],
   "source": [
    "k = int(input(\"Maximum iteration : \"))\n",
    "index = 0\n",
    "while index < k :\n",
    "    e = np.dot(Y,a) - B\n",
    "    ep = np.divide(e + np.abs(e),2)\n",
    "    B = B + np.multiply(np.transpose(e),2*nk)\n",
    "    a = np.dot(np.transpose(Y),b)\n",
    "    B = np.subtract(B,0.1)\n",
    "    index += 1\n",
    "    nk = (1/index)\n",
    "    print(np.abs(e))\n",
    "    if np.abs(e).any() < bmin :\n",
    "        print(a,B)\n",
    "        break\n",
    "#print(a,\"\\n\\n\",B)\n",
    "#else :\n",
    "#    print(\"No solution found\")"
   ]
  },
  {
   "cell_type": "code",
   "execution_count": null,
   "id": "99e622c9",
   "metadata": {},
   "outputs": [],
   "source": []
  }
 ],
 "metadata": {
  "kernelspec": {
   "display_name": "Python 3 (ipykernel)",
   "language": "python",
   "name": "python3"
  },
  "language_info": {
   "codemirror_mode": {
    "name": "ipython",
    "version": 3
   },
   "file_extension": ".py",
   "mimetype": "text/x-python",
   "name": "python",
   "nbconvert_exporter": "python",
   "pygments_lexer": "ipython3",
   "version": "3.8.8"
  }
 },
 "nbformat": 4,
 "nbformat_minor": 5
}
