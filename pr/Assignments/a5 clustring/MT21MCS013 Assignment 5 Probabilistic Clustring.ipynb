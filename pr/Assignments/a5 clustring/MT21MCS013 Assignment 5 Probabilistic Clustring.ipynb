{
 "cells": [
  {
   "cell_type": "code",
   "execution_count": 1,
   "id": "f34c8edc",
   "metadata": {},
   "outputs": [
    {
     "data": {
      "text/plain": [
       "<matplotlib.collections.PathCollection at 0x7f95efae6280>"
      ]
     },
     "execution_count": 1,
     "metadata": {},
     "output_type": "execute_result"
    },
    {
     "data": {
      "image/png": "[encoded data removed]",
      "text/plain": [
       "<Figure size 432x288 with 1 Axes>"
      ]
     },
     "metadata": {
      "needs_background": "light"
     },
     "output_type": "display_data"
    }
   ],
   "source": [
    "import numpy as np\n",
    "import pandas as pd\n",
    "import matplotlib.pyplot as plt\n",
    "from pandas import DataFrame\n",
    "from sklearn import datasets\n",
    "from sklearn.mixture import GaussianMixture\n",
    "\n",
    "# load the iris dataset\n",
    "iris = datasets.load_iris()\n",
    "\n",
    "# select first two columns\n",
    "X = iris.data[:, :2]\n",
    "\n",
    "# turn it into a dataframe\n",
    "d = pd.DataFrame(X)\n",
    "\n",
    "# plot the data\n",
    "plt.scatter(d[0], d[1])"
   ]
  },
  {
   "cell_type": "code",
   "execution_count": 2,
   "id": "0f092140",
   "metadata": {},
   "outputs": [
    {
     "data": {
      "text/plain": [
       "<matplotlib.collections.PathCollection at 0x7f95d9c51eb0>"
      ]
     },
     "execution_count": 2,
     "metadata": {},
     "output_type": "execute_result"
    },
    {
     "data": {
      "image/png": "[encoded data removed]",
      "text/plain": [
       "<Figure size 432x288 with 1 Axes>"
      ]
     },
     "metadata": {
      "needs_background": "light"
     },
     "output_type": "display_data"
    }
   ],
   "source": [
    "gmm = GaussianMixture(n_components = 3)\n",
    "\n",
    "# Fit the GMM model for the dataset\n",
    "# which expresses the dataset as a\n",
    "# mixture of 3 Gaussian Distribution\n",
    "gmm.fit(d)\n",
    "\n",
    "# Assign a label to each sample\n",
    "labels = gmm.predict(d)\n",
    "d['labels']= labels\n",
    "d0 = d[d['labels']== 0]\n",
    "d1 = d[d['labels']== 1]\n",
    "d2 = d[d['labels']== 2]\n",
    "\n",
    "# plot three clusters in same plot\n",
    "plt.scatter(d0[0], d0[1], c ='r')\n",
    "plt.scatter(d1[0], d1[1], c ='yellow')\n",
    "plt.scatter(d2[0], d2[1], c ='g')"
   ]
  },
  {
   "cell_type": "code",
   "execution_count": 4,
   "id": "9225199d",
   "metadata": {
    "scrolled": true
   },
   "outputs": [
    {
     "name": "stdout",
     "output_type": "stream",
     "text": [
      "-1.498567247048696\n",
      "8\n"
     ]
    }
   ],
   "source": [
    "# print the converged log-likelihood value\n",
    "print(gmm.lower_bound_)\n",
    "\n",
    "# print the number of iterations needed\n",
    "# for the log-likelihood value to converge\n",
    "print(gmm.n_iter_)"
   ]
  },
  {
   "cell_type": "markdown",
   "id": "9fdd37af",
   "metadata": {},
   "source": [
    "### Reference\n",
    "https://www.geeksforgeeks.org/gaussian-mixture-model/?ref=lbp"
   ]
  }
 ],
 "metadata": {
  "kernelspec": {
   "display_name": "Python 3 (ipykernel)",
   "language": "python",
   "name": "python3"
  },
  "language_info": {
   "codemirror_mode": {
    "name": "ipython",
    "version": 3
   },
   "file_extension": ".py",
   "mimetype": "text/x-python",
   "name": "python",
   "nbconvert_exporter": "python",
   "pygments_lexer": "ipython3",
   "version": "3.8.8"
  }
 },
 "nbformat": 4,
 "nbformat_minor": 5
}
