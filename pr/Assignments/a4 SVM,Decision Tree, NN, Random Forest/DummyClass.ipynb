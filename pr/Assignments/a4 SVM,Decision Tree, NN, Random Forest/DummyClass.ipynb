{
 "cells": [
  {
   "cell_type": "code",
   "execution_count": 1,
   "id": "810d9a6b",
   "metadata": {},
   "outputs": [],
   "source": [
    "import pandas as pd\n",
    "import numpy as np\n",
    "from scipy import stats\n",
    "from sklearn.model_selection import train_test_split\n",
    "from sklearn import svm\n",
    "from sklearn.metrics import classification_report\n",
    "from sklearn.metrics import confusion_matrix\n",
    "import matplotlib.pyplot as plt\n",
    "from mlxtend.plotting import plot_confusion_matrix\n",
    "from sklearn import tree\n",
    "import graphviz \n",
    "from sklearn.ensemble import RandomForestClassifier\n",
    "from sklearn.preprocessing import OrdinalEncoder\n",
    "import warnings\n",
    "from sklearn.decomposition import PCA\n",
    "from sklearn.preprocessing import StandardScaler\n",
    "from sklearn.neighbors import KNeighborsClassifier\n",
    "\n",
    "warnings.filterwarnings('ignore')"
   ]
  },
  {
   "cell_type": "code",
   "execution_count": 6,
   "id": "05a111ad",
   "metadata": {},
   "outputs": [],
   "source": [
    "def confusionMatrix(y_test,y_predict) :\n",
    "    conf_matrix = confusion_matrix(y_true=y_test, y_pred=y_predict)\n",
    "    y = y_test + y_predict\n",
    "    ic = np.unique(y)\n",
    "    fig, ax = plot_confusion_matrix(conf_mat=conf_matrix, figsize=(12,12),index=ic,columns=ic, cmap=plt.cm.Greens)\n",
    "    plt.xlabel('Predictions', fontsize=18)\n",
    "    plt.ylabel('Actuals', fontsize=18)\n",
    "    plt.title('Confusion Matrix', fontsize=18)\n",
    "    plt.show()\n",
    "def SVM(X_train,X_test,y_train,y_test) :\n",
    "    classifier = svm.SVC(kernel='linear')\n",
    "    classifier.fit(X_train,y_train)\n",
    "    y_predict = classifier.predict(X_test)\n",
    "    confusionMatrix(y_test,y_predict)\n",
    "def DecisionTree(X_train,X_test,y_train,y_test) :\n",
    "    clf = tree.DecisionTreeClassifier()\n",
    "    clf.fit(X_train,y_train)\n",
    "    y_predict = clf.predict(X_test)\n",
    "    confusionMatrix(y_test,y_predict)\n",
    "def NN(X_train,X_test,y_train,y_test) :\n",
    "    neigh = KNeighborsClassifier(n_neighbors=3)\n",
    "    neigh.fit(X_train, y_train)\n",
    "    y_predict = neigh.predict(X_test)\n",
    "    confusionMatrix(y_test,y_predict)\n",
    "def RandomForest(X_train,X_test,y_train,y_test) :\n",
    "    clf = RandomForestClassifier(max_depth=64,random_state=0)\n",
    "    clf.fit(X_train,y_train)\n",
    "    y_predict = clf.predict(X_test)\n",
    "    confusionMatrix(y_test,y_predict)\n",
    "\n",
    "def printConfusionMatrix(X,Y) :\n",
    "    encoder = OrdinalEncoder()\n",
    "    X = encoder.fit_transform(X)\n",
    "    Y = encoder.fit_transform(Y)\n",
    "    X_train,X_test,y_train,y_test=train_test_split(X,Y,test_size=0.3,random_state=4)\n",
    "    print('\\033[1m' + '\\n\\nSVM' + '\\033[0m')\n",
    "    SVM(X_train,X_test,y_train,y_test)\n",
    "    print('\\033[1m' + '\\n\\nDecision Tree' + '\\033[0m')\n",
    "    DecisionTree(X_train,X_test,y_train,y_test)\n",
    "    print('\\033[1m' + '\\n\\nNearest Neighbour' + '\\033[0m')\n",
    "    NN(X_train,X_test,y_train,y_test)\n",
    "    print('\\033[1m' + '\\n\\nRandom Forest' + '\\033[0m')\n",
    "    RandomForest(X_train,X_test,y_train,y_test)"
   ]
  },
  {
   "cell_type": "code",
   "execution_count": null,
   "id": "6ebcf844",
   "metadata": {},
   "outputs": [],
   "source": []
  }
 ],
 "metadata": {
  "kernelspec": {
   "display_name": "Python 3 (ipykernel)",
   "language": "python",
   "name": "python3"
  },
  "language_info": {
   "codemirror_mode": {
    "name": "ipython",
    "version": 3
   },
   "file_extension": ".py",
   "mimetype": "text/x-python",
   "name": "python",
   "nbconvert_exporter": "python",
   "pygments_lexer": "ipython3",
   "version": "3.8.8"
  }
 },
 "nbformat": 4,
 "nbformat_minor": 5
}
