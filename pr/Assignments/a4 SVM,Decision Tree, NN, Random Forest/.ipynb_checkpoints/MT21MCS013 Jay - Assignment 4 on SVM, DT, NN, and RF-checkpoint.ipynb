{
 "cells": [
  {
   "cell_type": "markdown",
   "id": "cd8def84",
   "metadata": {},
   "source": [
    "# Assignment 4\n",
    "Letter Recognition - http://archive.ics.uci.edu/ml/machine-learning-databases/letter-recognition/\n",
    "\n",
    "German Data - https://archive.ics.uci.edu/ml/machine-learning-databases/statlog/german/german.data\n",
    "\n",
    "Wine Quality - https://archive.ics.uci.edu/ml/machine-learning-databases/wine-quality/\n",
    "\n",
    "Student - https://archive.ics.uci.edu/ml/machine-learning-databases/00320/"
   ]
  },
  {
   "cell_type": "markdown",
   "id": "e9b5c7d5",
   "metadata": {},
   "source": [
    "### Importing libs"
   ]
  },
  {
   "cell_type": "code",
   "execution_count": 33,
   "id": "914a6c3c",
   "metadata": {},
   "outputs": [],
   "source": [
    "import pandas as pd\n",
    "import numpy as np\n",
    "# import category_encoders as ce\n",
    "from scipy import stats\n",
    "from sklearn.model_selection import train_test_split"
   ]
  },
  {
   "cell_type": "code",
   "execution_count": 28,
   "id": "5cc267bd",
   "metadata": {},
   "outputs": [],
   "source": [
    "def Statistics(name,dataSet) :\n",
    "    print('\\033[1m' + '\\n\\nStatistics for'  + name + '\\033[0m')\n",
    "    print(dataSet.describe(include='all'))\n",
    "    print('\\033[1m' + \"Median\" + '\\033[0m' ,dataSet.median(),sep=\"\\n\")\n",
    "    print('\\033[1m' + \"Mode\" + '\\033[0m' ,dataSet.mode(),sep=\"\\n\")\n",
    "    print('\\033[1m' + \"Variance\" + '\\033[0m' ,dataSet.var(),sep=\"\\n\")\n",
    "    print('\\033[1m' + \"Skewness\" + '\\033[0m' ,dataSet.skew(),sep=\"\\n\")\n",
    "    print('\\033[1m' + \"Kurtosis\" + '\\033[0m' ,dataSet.kurtosis(),sep=\"\\n\")"
   ]
  },
  {
   "cell_type": "code",
   "execution_count": 31,
   "id": "5b00d2f8",
   "metadata": {},
   "outputs": [],
   "source": [
    "def accuracy() :\n",
    "    print(classification_report(y_test,y_predict))\n",
    "def confusionMatrix() :\n",
    "    pass\n",
    "def error() :\n",
    "    pass"
   ]
  },
  {
   "cell_type": "code",
   "execution_count": 35,
   "id": "ebff2350",
   "metadata": {},
   "outputs": [],
   "source": [
    "def SVM(X_train,X_test,y_train,y_test) :\n",
    "    classifier = svm.SVC(kernel='linear')\n",
    "    classifier.fit(X_train,y_train)\n",
    "def DecisionTree() :\n",
    "    pass\n",
    "def NN() :\n",
    "    pass\n",
    "def RandomForest() :\n",
    "    pass"
   ]
  },
  {
   "cell_type": "markdown",
   "id": "3e250266",
   "metadata": {},
   "source": [
    "## Letter Recognitition"
   ]
  },
  {
   "cell_type": "code",
   "execution_count": 38,
   "id": "30c258d7",
   "metadata": {},
   "outputs": [
    {
     "name": "stdout",
     "output_type": "stream",
     "text": [
      "       xbox  ybox  width  high  onpix  xbar  ybar  x2bar  y2bar  xybar  \\\n",
      "2236      5     7      7     9      6    10     5      4      4      8   \n",
      "17263     1     2      1     4      1     7     7      1      7      7   \n",
      "10577     6     7      8     6      6     7     4      4      5      7   \n",
      "4028      4     9      4     4      1     6    10      2      7     12   \n",
      "14252     3     7      5     5      3     6     7      3      6     10   \n",
      "...     ...   ...    ...   ...    ...   ...   ...    ...    ...    ...   \n",
      "16840     3     4      3     2      2     8     8      6      5      7   \n",
      "11863    10    13     10     8      5     5     9      2      2      7   \n",
      "17093     4     9      6     6      2     7     6      3      1      7   \n",
      "8366      3     7      5     5      4     8     6      3      5      6   \n",
      "17530    11    14     11     8      6     9    11      6      4      4   \n",
      "\n",
      "       x2ybar  xy2bar  x-ege  xegvy  y-ege  yegvx  \n",
      "2236        2       6      2      7      7      8  \n",
      "17263       6       8      0      8      2      8  \n",
      "10577       4       9      5      4      7      7  \n",
      "4028        7       5      1     10      3      5  \n",
      "14252       8       9      3      9      2      6  \n",
      "...       ...     ...    ...    ...    ...    ...  \n",
      "16840       6       7      2      8      9      8  \n",
      "11863      10       7      9     12      1      6  \n",
      "17093       0       8      3      7      2      8  \n",
      "8366        7       8      2      9      8      9  \n",
      "17530       6       9     11     12      3      7  \n",
      "\n",
      "[16000 rows x 16 columns]\n"
     ]
    }
   ],
   "source": [
    "letter_recognition_dataSet = pd.read_csv('letter-recognition/letter-recognition.data')\n",
    "letter_recognition_dataSet.head()\n",
    "X = letter_recognition_dataSet.iloc[:,1:]\n",
    "Y = letter_recognition_dataSet.iloc[:,0:1]\n",
    "# Statistics(\"letter_recognition_dataSet\",X)\n",
    "X_train,X_test,y_train,y_test=train_test_split(X,Y,test_size=0.2,random_state=4)\n",
    "SVM(X_train,X_test,y_train,y_test)"
   ]
  },
  {
   "cell_type": "markdown",
   "id": "533ce698",
   "metadata": {},
   "source": [
    "## German "
   ]
  },
  {
   "cell_type": "code",
   "execution_count": 65,
   "id": "000e29c1",
   "metadata": {},
   "outputs": [],
   "source": [
    "german_dataSet = pd.read_csv('german/german.data')"
   ]
  },
  {
   "cell_type": "markdown",
   "id": "d85990ad",
   "metadata": {},
   "source": [
    "## Wine Quality (Red and White)\n",
    "Several of the attributes may be correlated, thus it makes sense to apply some sort of feature selection.\n",
    "We are not sure if all input variables are relevant. So it could be interesting to test feature selection methods."
   ]
  },
  {
   "cell_type": "code",
   "execution_count": 66,
   "id": "497d96ff",
   "metadata": {},
   "outputs": [],
   "source": [
    "red_wine_quality_dataSet = pd.read_csv('wine/winequality-red.csv')"
   ]
  },
  {
   "cell_type": "code",
   "execution_count": 67,
   "id": "3c518b7d",
   "metadata": {},
   "outputs": [],
   "source": [
    "white_wine_quality_dataSet = pd.read_csv('wine/winequality-white.csv')"
   ]
  },
  {
   "cell_type": "markdown",
   "id": "39356783",
   "metadata": {},
   "source": [
    "## Student Data (Maths and Portuguese) \n",
    "Student info and their performance in both the subjects. Grades G1, G2, and G3."
   ]
  },
  {
   "cell_type": "code",
   "execution_count": 68,
   "id": "7fdf868f",
   "metadata": {},
   "outputs": [],
   "source": [
    "student_data_math = pd.read_csv('student/student-mat.csv')"
   ]
  },
  {
   "cell_type": "code",
   "execution_count": 69,
   "id": "4a3626d9",
   "metadata": {},
   "outputs": [],
   "source": [
    "student_data_portuguese = pd.read_csv('student/student-por.csv')"
   ]
  }
 ],
 "metadata": {
  "kernelspec": {
   "display_name": "Python 3 (ipykernel)",
   "language": "python",
   "name": "python3"
  },
  "language_info": {
   "codemirror_mode": {
    "name": "ipython",
    "version": 3
   },
   "file_extension": ".py",
   "mimetype": "text/x-python",
   "name": "python",
   "nbconvert_exporter": "python",
   "pygments_lexer": "ipython3",
   "version": "3.8.8"
  }
 },
 "nbformat": 4,
 "nbformat_minor": 5
}
