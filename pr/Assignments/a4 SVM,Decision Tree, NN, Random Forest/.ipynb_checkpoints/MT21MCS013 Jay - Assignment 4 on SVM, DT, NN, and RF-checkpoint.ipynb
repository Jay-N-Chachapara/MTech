{
 "cells": [
  {
   "cell_type": "markdown",
   "id": "cd8def84",
   "metadata": {},
   "source": [
    "# Assignment 4\n",
    "Letter Recognition - http://archive.ics.uci.edu/ml/machine-learning-databases/letter-recognition/\n",
    "\n",
    "German Data - https://archive.ics.uci.edu/ml/machine-learning-databases/statlog/german/german.data\n",
    "\n",
    "Wine Quality - https://archive.ics.uci.edu/ml/machine-learning-databases/wine-quality/\n",
    "\n",
    "Student - https://archive.ics.uci.edu/ml/machine-learning-databases/00320/"
   ]
  },
  {
   "cell_type": "markdown",
   "id": "e9b5c7d5",
   "metadata": {},
   "source": [
    "### Importing libs"
   ]
  },
  {
   "cell_type": "code",
   "execution_count": 3,
   "id": "914a6c3c",
   "metadata": {},
   "outputs": [],
   "source": [
    "import pandas as pd\n",
    "import numpy as np\n",
    "from scipy import stats\n",
    "from sklearn.model_selection import train_test_split\n",
    "from sklearn import svm\n",
    "from sklearn.metrics import classification_report\n",
    "from sklearn.metrics import confusion_matrix\n",
    "import matplotlib.pyplot as plt\n",
    "from mlxtend.plotting import plot_confusion_matrix\n",
    "from sklearn import tree\n",
    "import graphviz \n",
    "from sklearn.ensemble import RandomForestClassifier\n",
    "from sklearn.preprocessing import OrdinalEncoder\n",
    "import warnings"
   ]
  },
  {
   "cell_type": "code",
   "execution_count": 4,
   "id": "810d9a6b",
   "metadata": {},
   "outputs": [],
   "source": [
    "warnings.filterwarnings('ignore')"
   ]
  },
  {
   "cell_type": "markdown",
   "id": "a502b26d",
   "metadata": {},
   "source": [
    "## Statistics"
   ]
  },
  {
   "cell_type": "code",
   "execution_count": 28,
   "id": "059f14fe",
   "metadata": {},
   "outputs": [],
   "source": [
    "def Statistics(name,dataSet) :\n",
    "    print('\\033[1m' + '\\n\\nStatistics for'  + name + '\\033[0m')\n",
    "    print(dataSet.describe(include='all'))\n",
    "    print('\\033[1m' + \"Median\" + '\\033[0m' ,dataSet.median(),sep=\"\\n\")\n",
    "    print('\\033[1m' + \"Mode\" + '\\033[0m' ,dataSet.mode(),sep=\"\\n\")\n",
    "    print('\\033[1m' + \"Variance\" + '\\033[0m' ,dataSet.var(),sep=\"\\n\")\n",
    "    print('\\033[1m' + \"Skewness\" + '\\033[0m' ,dataSet.skew(),sep=\"\\n\")\n",
    "    print('\\033[1m' + \"Kurtosis\" + '\\033[0m' ,dataSet.kurtosis(),sep=\"\\n\")"
   ]
  },
  {
   "cell_type": "markdown",
   "id": "83b0d899",
   "metadata": {},
   "source": [
    "## Confusion Matrix"
   ]
  },
  {
   "cell_type": "code",
   "execution_count": 17,
   "id": "cc196b88",
   "metadata": {},
   "outputs": [],
   "source": [
    "def confusionMatrix(y_test,y_predict) :\n",
    "    conf_matrix = confusion_matrix(y_true=y_test, y_pred=y_predict)\n",
    "    \n",
    "    fig, ax = plot_confusion_matrix(conf_mat=conf_matrix, figsize=(20, 20), cmap=plt.cm.Greens)\n",
    "    plt.xlabel('Predictions', fontsize=18)\n",
    "    plt.ylabel('Actuals', fontsize=18)\n",
    "    plt.title('Confusion Matrix', fontsize=18)\n",
    "    plt.show()\n",
    "def error() :\n",
    "    pass"
   ]
  },
  {
   "cell_type": "markdown",
   "id": "38135768",
   "metadata": {},
   "source": [
    "## Support Vector Machine"
   ]
  },
  {
   "cell_type": "code",
   "execution_count": 5,
   "id": "ebff2350",
   "metadata": {},
   "outputs": [],
   "source": [
    "def SVM(X_train,X_test,y_train,y_test) :\n",
    "    #SVM Training\n",
    "#     warnings.filterwarnings(action='once')\n",
    "    classifier = svm.SVC(kernel='linear')\n",
    "    classifier.fit(X_train,y_train)\n",
    "    #Prediction\n",
    "    y_predict = classifier.predict(X_test)\n",
    "    #Accuracy and report\n",
    "    print(classification_report(y_test,y_predict))\n",
    "    #Confusion Matrix\n",
    "    confusionMatrix(y_test,y_predict)\n",
    "    #Ploting"
   ]
  },
  {
   "cell_type": "markdown",
   "id": "8d278111",
   "metadata": {},
   "source": [
    "## Decision Tree"
   ]
  },
  {
   "cell_type": "code",
   "execution_count": 102,
   "id": "28616266",
   "metadata": {},
   "outputs": [],
   "source": [
    "def DecisionTree(X_train,X_test,y_train,y_test) :\n",
    "    #Training\n",
    "    clf = tree.DecisionTreeClassifier()\n",
    "    clf.fit(X_train,y_train)\n",
    "    #Prediction\n",
    "    y_predict = clf.predict(X_test)\n",
    "    #Accuracy and Report\n",
    "    print(classification_report(y_test,y_predict))\n",
    "    #ConfusionMatrix\n",
    "    confusionMatrix(y_test,y_predict)\n",
    "    #Decision Tree\n",
    "    #tree.plot_tree(clf)\n",
    "    #dot_data = tree.export_graphviz(clf, out_file=None) \n",
    "    #graph = graphviz.Source(dot_data) \n",
    "    #graph.render(\"Tree\")#Export tree as fileName.pdf "
   ]
  },
  {
   "cell_type": "markdown",
   "id": "2f86fd59",
   "metadata": {},
   "source": [
    "## Nearest Neighbour"
   ]
  },
  {
   "cell_type": "code",
   "execution_count": 103,
   "id": "a75366b6",
   "metadata": {},
   "outputs": [],
   "source": [
    "def NN() :\n",
    "    pass"
   ]
  },
  {
   "cell_type": "markdown",
   "id": "37c3a25a",
   "metadata": {},
   "source": [
    "## Random Forest"
   ]
  },
  {
   "cell_type": "code",
   "execution_count": 207,
   "id": "ca7b6cf6",
   "metadata": {},
   "outputs": [],
   "source": [
    "def RandomForest(X_train,X_test,y_train,y_test) :\n",
    "    #Training\n",
    "    clf = RandomForestClassifier(max_depth=64,random_state=0)\n",
    "    clf.fit(X_train,y_train)\n",
    "    #Prediction\n",
    "    y_predict = clf.predict(X_test)\n",
    "    #Accuracy and Report\n",
    "    print(classification_report(y_test,y_predict))\n",
    "    #Confusion Matrix\n",
    "    confusionMatrix(y_test,y_predict)"
   ]
  },
  {
   "cell_type": "markdown",
   "id": "f026ba49",
   "metadata": {},
   "source": [
    "#### Encoding and classifier calls"
   ]
  },
  {
   "cell_type": "code",
   "execution_count": 35,
   "id": "05a111ad",
   "metadata": {},
   "outputs": [],
   "source": [
    "def doIt(X,Y) :\n",
    "#     colX = [i for i in X.columns]\n",
    "#     print(colX)\n",
    "    encoder = OrdinalEncoder()\n",
    "    X = encoder.fit_transform(X)\n",
    "    Y = encoder.fit_transform(Y)\n",
    "    Statistics(\"letter_recognition_dataSet\",X)\n",
    "    X_train,X_test,y_train,y_test=train_test_split(X,Y,test_size=0.2,random_state=4)\n",
    "    SVM(X_train,X_test,y_train,y_test)\n",
    "#     DecisionTree(X_train,X_test,y_train,y_test)\n",
    "#     NN\n",
    "#     RandomForest(X_train,X_test,y_train,y_test)"
   ]
  },
  {
   "cell_type": "markdown",
   "id": "9d75d948",
   "metadata": {},
   "source": [
    "## Letter Recognitition"
   ]
  },
  {
   "cell_type": "code",
   "execution_count": 6,
   "id": "30c258d7",
   "metadata": {
    "scrolled": false
   },
   "outputs": [],
   "source": [
    "letter_recognition_dataSet = pd.read_csv('letter-recognition/letter-recognition.data')\n",
    "letter_recognition_dataSet.head()\n",
    "X = letter_recognition_dataSet.iloc[:,1:]\n",
    "Y = letter_recognition_dataSet.iloc[:,0:1]\n",
    "# doIt(X,Y)"
   ]
  },
  {
   "cell_type": "markdown",
   "id": "721df931",
   "metadata": {},
   "source": [
    "## German "
   ]
  },
  {
   "cell_type": "code",
   "execution_count": 146,
   "id": "000e29c1",
   "metadata": {},
   "outputs": [],
   "source": [
    "german_dataSet = pd.read_csv('german/german.data',sep=' ')\n",
    "# german_dataSet.head()"
   ]
  },
  {
   "cell_type": "markdown",
   "id": "081a188f",
   "metadata": {},
   "source": [
    "## Wine Quality (Red and White)\n",
    "Several of the attributes may be correlated, thus it makes sense to apply some sort of feature selection.\n",
    "We are not sure if all input variables are relevant. So it could be interesting to test feature selection methods."
   ]
  },
  {
   "cell_type": "code",
   "execution_count": 15,
   "id": "497d96ff",
   "metadata": {},
   "outputs": [
    {
     "name": "stdout",
     "output_type": "stream",
     "text": [
      "(1599, 12) (1599, 11) (1599, 1)\n"
     ]
    }
   ],
   "source": [
    "red_wine_quality_dataSet = pd.read_csv('wine/winequality-red.csv',sep=';')\n",
    "X = red_wine_quality_dataSet.iloc[:,:-1]\n",
    "Y = red_wine_quality_dataSet.iloc[:,-1:]\n",
    "print(red_wine_quality_dataSet.shape,X.shape,Y.shape)"
   ]
  },
  {
   "cell_type": "code",
   "execution_count": 14,
   "id": "3c518b7d",
   "metadata": {},
   "outputs": [
    {
     "name": "stdout",
     "output_type": "stream",
     "text": [
      "(4898, 12) (4898, 11) (4898, 1)\n"
     ]
    }
   ],
   "source": [
    "white_wine_quality_dataSet = pd.read_csv('wine/winequality-white.csv',sep=';')\n",
    "X = white_wine_quality_dataSet.iloc[:,:-1]\n",
    "Y = white_wine_quality_dataSet.iloc[:,-1:]\n",
    "print(white_wine_quality_dataSet.shape,X.shape,Y.shape)"
   ]
  },
  {
   "cell_type": "markdown",
   "id": "e002f66b",
   "metadata": {},
   "source": [
    "## Student Data (Maths and Portuguese) \n",
    "Student info and their performance in both the subjects. Grades G1, G2, and G3."
   ]
  },
  {
   "cell_type": "code",
   "execution_count": 17,
   "id": "7fdf868f",
   "metadata": {},
   "outputs": [
    {
     "name": "stdout",
     "output_type": "stream",
     "text": [
      "(395, 33) (395, 30) (395, 1)\n"
     ]
    },
    {
     "data": {
      "text/html": [
       "<div>\n",
       "<style scoped>\n",
       "    .dataframe tbody tr th:only-of-type {\n",
       "        vertical-align: middle;\n",
       "    }\n",
       "\n",
       "    .dataframe tbody tr th {\n",
       "        vertical-align: top;\n",
       "    }\n",
       "\n",
       "    .dataframe thead th {\n",
       "        text-align: right;\n",
       "    }\n",
       "</style>\n",
       "<table border=\"1\" class=\"dataframe\">\n",
       "  <thead>\n",
       "    <tr style=\"text-align: right;\">\n",
       "      <th></th>\n",
       "      <th>school</th>\n",
       "      <th>sex</th>\n",
       "      <th>age</th>\n",
       "      <th>address</th>\n",
       "      <th>famsize</th>\n",
       "      <th>Pstatus</th>\n",
       "      <th>Medu</th>\n",
       "      <th>Fedu</th>\n",
       "      <th>Mjob</th>\n",
       "      <th>Fjob</th>\n",
       "      <th>...</th>\n",
       "      <th>famrel</th>\n",
       "      <th>freetime</th>\n",
       "      <th>goout</th>\n",
       "      <th>Dalc</th>\n",
       "      <th>Walc</th>\n",
       "      <th>health</th>\n",
       "      <th>absences</th>\n",
       "      <th>G1</th>\n",
       "      <th>G2</th>\n",
       "      <th>G3</th>\n",
       "    </tr>\n",
       "  </thead>\n",
       "  <tbody>\n",
       "    <tr>\n",
       "      <th>0</th>\n",
       "      <td>GP</td>\n",
       "      <td>F</td>\n",
       "      <td>18</td>\n",
       "      <td>U</td>\n",
       "      <td>GT3</td>\n",
       "      <td>A</td>\n",
       "      <td>4</td>\n",
       "      <td>4</td>\n",
       "      <td>at_home</td>\n",
       "      <td>teacher</td>\n",
       "      <td>...</td>\n",
       "      <td>4</td>\n",
       "      <td>3</td>\n",
       "      <td>4</td>\n",
       "      <td>1</td>\n",
       "      <td>1</td>\n",
       "      <td>3</td>\n",
       "      <td>6</td>\n",
       "      <td>5</td>\n",
       "      <td>6</td>\n",
       "      <td>6</td>\n",
       "    </tr>\n",
       "    <tr>\n",
       "      <th>1</th>\n",
       "      <td>GP</td>\n",
       "      <td>F</td>\n",
       "      <td>17</td>\n",
       "      <td>U</td>\n",
       "      <td>GT3</td>\n",
       "      <td>T</td>\n",
       "      <td>1</td>\n",
       "      <td>1</td>\n",
       "      <td>at_home</td>\n",
       "      <td>other</td>\n",
       "      <td>...</td>\n",
       "      <td>5</td>\n",
       "      <td>3</td>\n",
       "      <td>3</td>\n",
       "      <td>1</td>\n",
       "      <td>1</td>\n",
       "      <td>3</td>\n",
       "      <td>4</td>\n",
       "      <td>5</td>\n",
       "      <td>5</td>\n",
       "      <td>6</td>\n",
       "    </tr>\n",
       "    <tr>\n",
       "      <th>2</th>\n",
       "      <td>GP</td>\n",
       "      <td>F</td>\n",
       "      <td>15</td>\n",
       "      <td>U</td>\n",
       "      <td>LE3</td>\n",
       "      <td>T</td>\n",
       "      <td>1</td>\n",
       "      <td>1</td>\n",
       "      <td>at_home</td>\n",
       "      <td>other</td>\n",
       "      <td>...</td>\n",
       "      <td>4</td>\n",
       "      <td>3</td>\n",
       "      <td>2</td>\n",
       "      <td>2</td>\n",
       "      <td>3</td>\n",
       "      <td>3</td>\n",
       "      <td>10</td>\n",
       "      <td>7</td>\n",
       "      <td>8</td>\n",
       "      <td>10</td>\n",
       "    </tr>\n",
       "    <tr>\n",
       "      <th>3</th>\n",
       "      <td>GP</td>\n",
       "      <td>F</td>\n",
       "      <td>15</td>\n",
       "      <td>U</td>\n",
       "      <td>GT3</td>\n",
       "      <td>T</td>\n",
       "      <td>4</td>\n",
       "      <td>2</td>\n",
       "      <td>health</td>\n",
       "      <td>services</td>\n",
       "      <td>...</td>\n",
       "      <td>3</td>\n",
       "      <td>2</td>\n",
       "      <td>2</td>\n",
       "      <td>1</td>\n",
       "      <td>1</td>\n",
       "      <td>5</td>\n",
       "      <td>2</td>\n",
       "      <td>15</td>\n",
       "      <td>14</td>\n",
       "      <td>15</td>\n",
       "    </tr>\n",
       "    <tr>\n",
       "      <th>4</th>\n",
       "      <td>GP</td>\n",
       "      <td>F</td>\n",
       "      <td>16</td>\n",
       "      <td>U</td>\n",
       "      <td>GT3</td>\n",
       "      <td>T</td>\n",
       "      <td>3</td>\n",
       "      <td>3</td>\n",
       "      <td>other</td>\n",
       "      <td>other</td>\n",
       "      <td>...</td>\n",
       "      <td>4</td>\n",
       "      <td>3</td>\n",
       "      <td>2</td>\n",
       "      <td>1</td>\n",
       "      <td>2</td>\n",
       "      <td>5</td>\n",
       "      <td>4</td>\n",
       "      <td>6</td>\n",
       "      <td>10</td>\n",
       "      <td>10</td>\n",
       "    </tr>\n",
       "    <tr>\n",
       "      <th>...</th>\n",
       "      <td>...</td>\n",
       "      <td>...</td>\n",
       "      <td>...</td>\n",
       "      <td>...</td>\n",
       "      <td>...</td>\n",
       "      <td>...</td>\n",
       "      <td>...</td>\n",
       "      <td>...</td>\n",
       "      <td>...</td>\n",
       "      <td>...</td>\n",
       "      <td>...</td>\n",
       "      <td>...</td>\n",
       "      <td>...</td>\n",
       "      <td>...</td>\n",
       "      <td>...</td>\n",
       "      <td>...</td>\n",
       "      <td>...</td>\n",
       "      <td>...</td>\n",
       "      <td>...</td>\n",
       "      <td>...</td>\n",
       "      <td>...</td>\n",
       "    </tr>\n",
       "    <tr>\n",
       "      <th>390</th>\n",
       "      <td>MS</td>\n",
       "      <td>M</td>\n",
       "      <td>20</td>\n",
       "      <td>U</td>\n",
       "      <td>LE3</td>\n",
       "      <td>A</td>\n",
       "      <td>2</td>\n",
       "      <td>2</td>\n",
       "      <td>services</td>\n",
       "      <td>services</td>\n",
       "      <td>...</td>\n",
       "      <td>5</td>\n",
       "      <td>5</td>\n",
       "      <td>4</td>\n",
       "      <td>4</td>\n",
       "      <td>5</td>\n",
       "      <td>4</td>\n",
       "      <td>11</td>\n",
       "      <td>9</td>\n",
       "      <td>9</td>\n",
       "      <td>9</td>\n",
       "    </tr>\n",
       "    <tr>\n",
       "      <th>391</th>\n",
       "      <td>MS</td>\n",
       "      <td>M</td>\n",
       "      <td>17</td>\n",
       "      <td>U</td>\n",
       "      <td>LE3</td>\n",
       "      <td>T</td>\n",
       "      <td>3</td>\n",
       "      <td>1</td>\n",
       "      <td>services</td>\n",
       "      <td>services</td>\n",
       "      <td>...</td>\n",
       "      <td>2</td>\n",
       "      <td>4</td>\n",
       "      <td>5</td>\n",
       "      <td>3</td>\n",
       "      <td>4</td>\n",
       "      <td>2</td>\n",
       "      <td>3</td>\n",
       "      <td>14</td>\n",
       "      <td>16</td>\n",
       "      <td>16</td>\n",
       "    </tr>\n",
       "    <tr>\n",
       "      <th>392</th>\n",
       "      <td>MS</td>\n",
       "      <td>M</td>\n",
       "      <td>21</td>\n",
       "      <td>R</td>\n",
       "      <td>GT3</td>\n",
       "      <td>T</td>\n",
       "      <td>1</td>\n",
       "      <td>1</td>\n",
       "      <td>other</td>\n",
       "      <td>other</td>\n",
       "      <td>...</td>\n",
       "      <td>5</td>\n",
       "      <td>5</td>\n",
       "      <td>3</td>\n",
       "      <td>3</td>\n",
       "      <td>3</td>\n",
       "      <td>3</td>\n",
       "      <td>3</td>\n",
       "      <td>10</td>\n",
       "      <td>8</td>\n",
       "      <td>7</td>\n",
       "    </tr>\n",
       "    <tr>\n",
       "      <th>393</th>\n",
       "      <td>MS</td>\n",
       "      <td>M</td>\n",
       "      <td>18</td>\n",
       "      <td>R</td>\n",
       "      <td>LE3</td>\n",
       "      <td>T</td>\n",
       "      <td>3</td>\n",
       "      <td>2</td>\n",
       "      <td>services</td>\n",
       "      <td>other</td>\n",
       "      <td>...</td>\n",
       "      <td>4</td>\n",
       "      <td>4</td>\n",
       "      <td>1</td>\n",
       "      <td>3</td>\n",
       "      <td>4</td>\n",
       "      <td>5</td>\n",
       "      <td>0</td>\n",
       "      <td>11</td>\n",
       "      <td>12</td>\n",
       "      <td>10</td>\n",
       "    </tr>\n",
       "    <tr>\n",
       "      <th>394</th>\n",
       "      <td>MS</td>\n",
       "      <td>M</td>\n",
       "      <td>19</td>\n",
       "      <td>U</td>\n",
       "      <td>LE3</td>\n",
       "      <td>T</td>\n",
       "      <td>1</td>\n",
       "      <td>1</td>\n",
       "      <td>other</td>\n",
       "      <td>at_home</td>\n",
       "      <td>...</td>\n",
       "      <td>3</td>\n",
       "      <td>2</td>\n",
       "      <td>3</td>\n",
       "      <td>3</td>\n",
       "      <td>3</td>\n",
       "      <td>5</td>\n",
       "      <td>5</td>\n",
       "      <td>8</td>\n",
       "      <td>9</td>\n",
       "      <td>9</td>\n",
       "    </tr>\n",
       "  </tbody>\n",
       "</table>\n",
       "<p>395 rows × 33 columns</p>\n",
       "</div>"
      ],
      "text/plain": [
       "    school sex  age address famsize Pstatus  Medu  Fedu      Mjob      Fjob  \\\n",
       "0       GP   F   18       U     GT3       A     4     4   at_home   teacher   \n",
       "1       GP   F   17       U     GT3       T     1     1   at_home     other   \n",
       "2       GP   F   15       U     LE3       T     1     1   at_home     other   \n",
       "3       GP   F   15       U     GT3       T     4     2    health  services   \n",
       "4       GP   F   16       U     GT3       T     3     3     other     other   \n",
       "..     ...  ..  ...     ...     ...     ...   ...   ...       ...       ...   \n",
       "390     MS   M   20       U     LE3       A     2     2  services  services   \n",
       "391     MS   M   17       U     LE3       T     3     1  services  services   \n",
       "392     MS   M   21       R     GT3       T     1     1     other     other   \n",
       "393     MS   M   18       R     LE3       T     3     2  services     other   \n",
       "394     MS   M   19       U     LE3       T     1     1     other   at_home   \n",
       "\n",
       "     ... famrel freetime  goout  Dalc  Walc health absences  G1  G2  G3  \n",
       "0    ...      4        3      4     1     1      3        6   5   6   6  \n",
       "1    ...      5        3      3     1     1      3        4   5   5   6  \n",
       "2    ...      4        3      2     2     3      3       10   7   8  10  \n",
       "3    ...      3        2      2     1     1      5        2  15  14  15  \n",
       "4    ...      4        3      2     1     2      5        4   6  10  10  \n",
       "..   ...    ...      ...    ...   ...   ...    ...      ...  ..  ..  ..  \n",
       "390  ...      5        5      4     4     5      4       11   9   9   9  \n",
       "391  ...      2        4      5     3     4      2        3  14  16  16  \n",
       "392  ...      5        5      3     3     3      3        3  10   8   7  \n",
       "393  ...      4        4      1     3     4      5        0  11  12  10  \n",
       "394  ...      3        2      3     3     3      5        5   8   9   9  \n",
       "\n",
       "[395 rows x 33 columns]"
      ]
     },
     "execution_count": 17,
     "metadata": {},
     "output_type": "execute_result"
    }
   ],
   "source": [
    "student_data_math = pd.read_csv('student/student-mat.csv',sep=';')\n",
    "#for G1\n",
    "X = student_data_math.iloc[:,:-3]\n",
    "Y = student_data_math.iloc[:,-3:-2]\n",
    "# doIt(X,Y)\n",
    "print(student_data_math.shape,X.shape,Y.shape)\n",
    "student_data_math\n",
    "#for G2\n",
    "# X = student_data_math.iloc[:,:-3]\n",
    "# Y = student_data_math.iloc[:,-3:-2]\n",
    "# doIt(X,Y)\n",
    "\n",
    "#for G3\n",
    "# X = student_data_math.iloc[:,:-3]\n",
    "# Y = student_data_math.iloc[:,-3:-2]\n",
    "# doIt(X,Y)"
   ]
  },
  {
   "cell_type": "code",
   "execution_count": 2,
   "id": "564ef5e1",
   "metadata": {},
   "outputs": [],
   "source": [
    "# student_data_portuguese = pd.read_csv('student/student-por.csv',sep=';')\n",
    "# student_data_portuguese"
   ]
  },
  {
   "cell_type": "markdown",
   "id": "868ccd7e",
   "metadata": {},
   "source": [
    "# Following is the code for dimensionality reduction using PCA"
   ]
  },
  {
   "cell_type": "code",
   "execution_count": 7,
   "id": "79a369f4",
   "metadata": {},
   "outputs": [],
   "source": [
    "from sklearn.decomposition import PCA\n",
    "from sklearn.preprocessing import StandardScaler"
   ]
  },
  {
   "cell_type": "code",
   "execution_count": 8,
   "id": "3fb465e5",
   "metadata": {},
   "outputs": [],
   "source": [
    "encoder = OrdinalEncoder()\n",
    "X = encoder.fit_transform(X)\n",
    "X_train,X_test,y_train,y_test=train_test_split(X,Y,test_size=0.2,random_state=4)"
   ]
  },
  {
   "cell_type": "code",
   "execution_count": 9,
   "id": "41c45d90",
   "metadata": {},
   "outputs": [],
   "source": [
    "sc = StandardScaler()\n",
    "X_train = sc.fit_transform(X_train)\n",
    "X_test = sc.fit_transform(X_test)"
   ]
  },
  {
   "cell_type": "code",
   "execution_count": 10,
   "id": "a42f4be7",
   "metadata": {},
   "outputs": [],
   "source": [
    "pca = PCA(n_components = 2)\n",
    " \n",
    "X_train = pca.fit_transform(X_train)\n",
    "X_test = pca.fit_transform(X_test)\n",
    "# y_train = pca.fit_transform(y_train)\n",
    "# y_test = pca.fit_transform(y_train)"
   ]
  },
  {
   "cell_type": "code",
   "execution_count": 11,
   "id": "86d3293c",
   "metadata": {},
   "outputs": [
    {
     "name": "stdout",
     "output_type": "stream",
     "text": [
      "              precision    recall  f1-score   support\n",
      "\n",
      "           A       0.00      0.00      0.00       167\n",
      "           B       0.00      0.00      0.00       137\n",
      "           C       0.06      0.03      0.04       148\n",
      "           D       0.08      0.08      0.08       153\n",
      "           E       0.03      0.02      0.02       158\n",
      "           F       0.00      0.00      0.00       138\n",
      "           G       0.00      0.00      0.00       160\n",
      "           H       0.00      0.00      0.00       141\n",
      "           I       0.27      0.55      0.36       162\n",
      "           J       0.00      0.00      0.00       141\n",
      "           K       0.00      0.00      0.00       161\n",
      "           L       0.00      0.00      0.00       138\n",
      "           M       0.06      0.14      0.08       160\n",
      "           N       0.05      0.13      0.07       163\n",
      "           O       0.00      0.00      0.00       165\n",
      "           P       0.01      0.01      0.01       164\n",
      "           Q       0.00      0.00      0.00       162\n",
      "           R       0.00      0.00      0.00       166\n",
      "           S       0.00      0.00      0.00       143\n",
      "           T       0.00      0.00      0.00       141\n",
      "           U       0.00      0.01      0.00       175\n",
      "           V       0.00      0.00      0.00       155\n",
      "           W       0.01      0.01      0.01       147\n",
      "           X       0.00      0.00      0.00       140\n",
      "           Y       0.00      0.00      0.00       166\n",
      "           Z       0.00      0.00      0.00       149\n",
      "\n",
      "    accuracy                           0.04      4000\n",
      "   macro avg       0.02      0.04      0.03      4000\n",
      "weighted avg       0.02      0.04      0.03      4000\n",
      "\n"
     ]
    },
    {
     "ename": "NameError",
     "evalue": "name 'confusionMatrix' is not defined",
     "output_type": "error",
     "traceback": [
      "\u001b[0;31m---------------------------------------------------------------------------\u001b[0m",
      "\u001b[0;31mNameError\u001b[0m                                 Traceback (most recent call last)",
      "\u001b[0;32m/tmp/ipykernel_48911/1614057660.py\u001b[0m in \u001b[0;36m<module>\u001b[0;34m\u001b[0m\n\u001b[1;32m      1\u001b[0m \u001b[0;31m# warnings.filterwarnings(action='once')\u001b[0m\u001b[0;34m\u001b[0m\u001b[0;34m\u001b[0m\u001b[0;34m\u001b[0m\u001b[0m\n\u001b[0;32m----> 2\u001b[0;31m \u001b[0mSVM\u001b[0m\u001b[0;34m(\u001b[0m\u001b[0mX_train\u001b[0m\u001b[0;34m,\u001b[0m\u001b[0mX_test\u001b[0m\u001b[0;34m,\u001b[0m\u001b[0my_train\u001b[0m\u001b[0;34m,\u001b[0m\u001b[0my_test\u001b[0m\u001b[0;34m)\u001b[0m\u001b[0;34m\u001b[0m\u001b[0;34m\u001b[0m\u001b[0m\n\u001b[0m",
      "\u001b[0;32m/tmp/ipykernel_48911/3526384936.py\u001b[0m in \u001b[0;36mSVM\u001b[0;34m(X_train, X_test, y_train, y_test)\u001b[0m\n\u001b[1;32m      9\u001b[0m     \u001b[0mprint\u001b[0m\u001b[0;34m(\u001b[0m\u001b[0mclassification_report\u001b[0m\u001b[0;34m(\u001b[0m\u001b[0my_test\u001b[0m\u001b[0;34m,\u001b[0m\u001b[0my_predict\u001b[0m\u001b[0;34m)\u001b[0m\u001b[0;34m)\u001b[0m\u001b[0;34m\u001b[0m\u001b[0;34m\u001b[0m\u001b[0m\n\u001b[1;32m     10\u001b[0m     \u001b[0;31m#Confusion Matrix\u001b[0m\u001b[0;34m\u001b[0m\u001b[0;34m\u001b[0m\u001b[0;34m\u001b[0m\u001b[0m\n\u001b[0;32m---> 11\u001b[0;31m     \u001b[0mconfusionMatrix\u001b[0m\u001b[0;34m(\u001b[0m\u001b[0my_test\u001b[0m\u001b[0;34m,\u001b[0m\u001b[0my_predict\u001b[0m\u001b[0;34m)\u001b[0m\u001b[0;34m\u001b[0m\u001b[0;34m\u001b[0m\u001b[0m\n\u001b[0m\u001b[1;32m     12\u001b[0m     \u001b[0;31m#Ploting\u001b[0m\u001b[0;34m\u001b[0m\u001b[0;34m\u001b[0m\u001b[0;34m\u001b[0m\u001b[0m\n",
      "\u001b[0;31mNameError\u001b[0m: name 'confusionMatrix' is not defined"
     ]
    }
   ],
   "source": [
    "# warnings.filterwarnings(action='once')\n",
    "SVM(X_train,X_test,y_train,y_test)"
   ]
  },
  {
   "cell_type": "code",
   "execution_count": null,
   "id": "0d6f646b",
   "metadata": {},
   "outputs": [],
   "source": []
  }
 ],
 "metadata": {
  "kernelspec": {
   "display_name": "Python 3 (ipykernel)",
   "language": "python",
   "name": "python3"
  },
  "language_info": {
   "codemirror_mode": {
    "name": "ipython",
    "version": 3
   },
   "file_extension": ".py",
   "mimetype": "text/x-python",
   "name": "python",
   "nbconvert_exporter": "python",
   "pygments_lexer": "ipython3",
   "version": "3.8.8"
  }
 },
 "nbformat": 4,
 "nbformat_minor": 5
}
