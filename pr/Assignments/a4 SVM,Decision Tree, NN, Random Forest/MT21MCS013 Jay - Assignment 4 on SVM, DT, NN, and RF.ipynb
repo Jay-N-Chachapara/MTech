{
 "cells": [
  {
   "cell_type": "markdown",
   "id": "cd8def84",
   "metadata": {},
   "source": [
    "# Assignment 4\n",
    "Letter Recognition - http://archive.ics.uci.edu/ml/machine-learning-databases/letter-recognition/\n",
    "\n",
    "German Data - https://archive.ics.uci.edu/ml/machine-learning-databases/statlog/german/german.data\n",
    "\n",
    "Wine Quality - https://archive.ics.uci.edu/ml/machine-learning-databases/wine-quality/\n",
    "\n",
    "Student - https://archive.ics.uci.edu/ml/machine-learning-databases/00320/"
   ]
  },
  {
   "cell_type": "markdown",
   "id": "e9b5c7d5",
   "metadata": {},
   "source": [
    "### Importing libs"
   ]
  },
  {
   "cell_type": "code",
   "execution_count": 194,
   "id": "914a6c3c",
   "metadata": {},
   "outputs": [],
   "source": [
    "import pandas as pd\n",
    "import numpy as np\n",
    "from scipy import stats\n",
    "from sklearn.model_selection import train_test_split\n",
    "from sklearn import svm\n",
    "from sklearn.metrics import classification_report\n",
    "from sklearn.metrics import confusion_matrix\n",
    "import matplotlib.pyplot as plt\n",
    "from mlxtend.plotting import plot_confusion_matrix\n",
    "from sklearn import tree\n",
    "import graphviz \n",
    "from sklearn.ensemble import RandomForestClassifier\n",
    "from sklearn.preprocessing import OrdinalEncoder"
   ]
  },
  {
   "cell_type": "code",
   "execution_count": 28,
   "id": "059f14fe",
   "metadata": {},
   "outputs": [],
   "source": [
    "def Statistics(name,dataSet) :\n",
    "    print('\\033[1m' + '\\n\\nStatistics for'  + name + '\\033[0m')\n",
    "    print(dataSet.describe(include='all'))\n",
    "    print('\\033[1m' + \"Median\" + '\\033[0m' ,dataSet.median(),sep=\"\\n\")\n",
    "    print('\\033[1m' + \"Mode\" + '\\033[0m' ,dataSet.mode(),sep=\"\\n\")\n",
    "    print('\\033[1m' + \"Variance\" + '\\033[0m' ,dataSet.var(),sep=\"\\n\")\n",
    "    print('\\033[1m' + \"Skewness\" + '\\033[0m' ,dataSet.skew(),sep=\"\\n\")\n",
    "    print('\\033[1m' + \"Kurtosis\" + '\\033[0m' ,dataSet.kurtosis(),sep=\"\\n\")"
   ]
  },
  {
   "cell_type": "code",
   "execution_count": 69,
   "id": "cc196b88",
   "metadata": {},
   "outputs": [],
   "source": [
    "def confusionMatrix(y_test,y_predict) :\n",
    "    conf_matrix = confusion_matrix(y_true=y_test, y_pred=y_predict)\n",
    "    \n",
    "    fig, ax = plot_confusion_matrix(conf_mat=conf_matrix, figsize=(26, 26), cmap=plt.cm.Greens)\n",
    "    plt.xlabel('Predictions', fontsize=18)\n",
    "    plt.ylabel('Actuals', fontsize=18)\n",
    "    plt.title('Confusion Matrix', fontsize=18)\n",
    "    plt.show()\n",
    "def error() :\n",
    "    pass"
   ]
  },
  {
   "cell_type": "code",
   "execution_count": 76,
   "id": "ebff2350",
   "metadata": {},
   "outputs": [],
   "source": [
    "def SVM(X_train,X_test,y_train,y_test) :\n",
    "    #SVM Training\n",
    "    classifier = svm.SVC(kernel='linear')\n",
    "    classifier.fit(X_train,y_train)\n",
    "    #Prediction\n",
    "    y_predict = classifier.predict(X_test)\n",
    "    #Accuracy and report\n",
    "    print(classification_report(y_test,y_predict))\n",
    "    #Confusion Matrix\n",
    "    confusionMatrix(y_test,y_predict)\n",
    "    #Ploting"
   ]
  },
  {
   "cell_type": "code",
   "execution_count": 102,
   "id": "28616266",
   "metadata": {},
   "outputs": [],
   "source": [
    "def DecisionTree(X_train,X_test,y_train,y_test) :\n",
    "    #Training\n",
    "    clf = tree.DecisionTreeClassifier()\n",
    "    clf.fit(X_train,y_train)\n",
    "    #Prediction\n",
    "    y_predict = clf.predict(X_test)\n",
    "    #Accuracy and Report\n",
    "    print(classification_report(y_test,y_predict))\n",
    "    #ConfusionMatrix\n",
    "    confusionMatrix(y_test,y_predict)\n",
    "    #Decision Tree\n",
    "    #tree.plot_tree(clf)\n",
    "    #dot_data = tree.export_graphviz(clf, out_file=None) \n",
    "    #graph = graphviz.Source(dot_data) \n",
    "    #graph.render(\"Tree\")#Export tree as fileName.pdf "
   ]
  },
  {
   "cell_type": "code",
   "execution_count": 103,
   "id": "a75366b6",
   "metadata": {},
   "outputs": [],
   "source": [
    "def NN() :\n",
    "    pass"
   ]
  },
  {
   "cell_type": "code",
   "execution_count": 207,
   "id": "ca7b6cf6",
   "metadata": {},
   "outputs": [],
   "source": [
    "def RandomForest(X_train,X_test,y_train,y_test) :\n",
    "    #Training\n",
    "    clf = RandomForestClassifier(max_depth=64,random_state=0)\n",
    "    clf.fit(X_train,y_train)\n",
    "    #Prediction\n",
    "    y_predict = clf.predict(X_test)\n",
    "    #Accuracy and Report\n",
    "    print(classification_report(y_test,y_predict))\n",
    "    #Confusion Matrix\n",
    "    confusionMatrix(y_test,y_predict)"
   ]
  },
  {
   "cell_type": "code",
   "execution_count": 205,
   "id": "05a111ad",
   "metadata": {},
   "outputs": [],
   "source": [
    "def doIt(X,Y) :\n",
    "#     colX = [i for i in X.columns]\n",
    "#     print(colX)\n",
    "    encoder = OrdinalEncoder()\n",
    "    X = encoder.fit_transform(X)\n",
    "    Y = encoder.fit_transform(Y)\n",
    "    # Statistics(\"letter_recognition_dataSet\",X)\n",
    "    X_train,X_test,y_train,y_test=train_test_split(X,Y,test_size=0.2,random_state=4)\n",
    "#     SVM(X_train,X_test,y_train,y_test)\n",
    "#     DecisionTree(X_train,X_test,y_train,y_test)\n",
    "    #NN\n",
    "    RandomForest(X_train,X_test,y_train,y_test)"
   ]
  },
  {
   "cell_type": "markdown",
   "id": "9d75d948",
   "metadata": {},
   "source": [
    "## Letter Recognitition"
   ]
  },
  {
   "cell_type": "code",
   "execution_count": 150,
   "id": "30c258d7",
   "metadata": {
    "scrolled": false
   },
   "outputs": [],
   "source": [
    "letter_recognition_dataSet = pd.read_csv('letter-recognition/letter-recognition.data')\n",
    "letter_recognition_dataSet.head()\n",
    "X = letter_recognition_dataSet.iloc[:,1:]\n",
    "Y = letter_recognition_dataSet.iloc[:,0:1]\n",
    "# doIt(X,Y)"
   ]
  },
  {
   "cell_type": "markdown",
   "id": "721df931",
   "metadata": {},
   "source": [
    "## German "
   ]
  },
  {
   "cell_type": "code",
   "execution_count": 146,
   "id": "000e29c1",
   "metadata": {},
   "outputs": [],
   "source": [
    "german_dataSet = pd.read_csv('german/german.data',sep=' ')\n",
    "# german_dataSet.head()"
   ]
  },
  {
   "cell_type": "markdown",
   "id": "081a188f",
   "metadata": {},
   "source": [
    "## Wine Quality (Red and White)\n",
    "Several of the attributes may be correlated, thus it makes sense to apply some sort of feature selection.\n",
    "We are not sure if all input variables are relevant. So it could be interesting to test feature selection methods."
   ]
  },
  {
   "cell_type": "code",
   "execution_count": 232,
   "id": "497d96ff",
   "metadata": {},
   "outputs": [],
   "source": [
    "red_wine_quality_dataSet = pd.read_csv('wine/winequality-red.csv',sep=';')\n",
    "X = red_wine_quality_dataSet.iloc[:,:-1]\n",
    "Y = red_wine_quality_dataSet.iloc[:,-1:]\n",
    "# doIt(X,Y)"
   ]
  },
  {
   "cell_type": "code",
   "execution_count": 219,
   "id": "3c518b7d",
   "metadata": {},
   "outputs": [],
   "source": [
    "white_wine_quality_dataSet = pd.read_csv('wine/winequality-white.csv',sep=';')\n",
    "X = red_wine_quality_dataSet.iloc[:,:-1]\n",
    "Y = red_wine_quality_dataSet.iloc[:,-1:]\n",
    "# doIt(X,Y)"
   ]
  },
  {
   "cell_type": "markdown",
   "id": "e002f66b",
   "metadata": {},
   "source": [
    "## Student Data (Maths and Portuguese) \n",
    "Student info and their performance in both the subjects. Grades G1, G2, and G3."
   ]
  },
  {
   "cell_type": "code",
   "execution_count": 261,
   "id": "7fdf868f",
   "metadata": {},
   "outputs": [],
   "source": [
    "student_data_math = pd.read_csv('student/student-mat.csv',sep=';')\n",
    "#for G1\n",
    "X = student_data_math.iloc[:,:-3]\n",
    "Y = student_data_math.iloc[:,-3:-2]\n",
    "# doIt(X,Y)\n",
    "\n",
    "#for G2\n",
    "# X = student_data_math.iloc[:,:-3]\n",
    "# Y = student_data_math.iloc[:,-3:-2]\n",
    "# doIt(X,Y)\n",
    "\n",
    "#for G3\n",
    "# X = student_data_math.iloc[:,:-3]\n",
    "# Y = student_data_math.iloc[:,-3:-2]\n",
    "# doIt(X,Y)"
   ]
  },
  {
   "cell_type": "markdown",
   "id": "868ccd7e",
   "metadata": {},
   "source": [
    "# Following is the code for dimensionality reduction using PCA"
   ]
  },
  {
   "cell_type": "code",
   "execution_count": 230,
   "id": "79a369f4",
   "metadata": {},
   "outputs": [],
   "source": [
    "from sklearn.decomposition import PCA\n",
    "from sklearn.preprocessing import StandardScaler"
   ]
  },
  {
   "cell_type": "code",
   "execution_count": 253,
   "id": "3fb465e5",
   "metadata": {},
   "outputs": [],
   "source": [
    "encoder = OrdinalEncoder()\n",
    "X = encoder.fit_transform(X)\n",
    "X_train,X_test,y_train,y_test=train_test_split(X,Y,test_size=0.2,random_state=4)"
   ]
  },
  {
   "cell_type": "code",
   "execution_count": 255,
   "id": "41c45d90",
   "metadata": {},
   "outputs": [],
   "source": [
    "sc = StandardScaler()\n",
    "X_train = sc.fit_transform(X_train)\n",
    "X_test = sc.transform(X_test)"
   ]
  },
  {
   "cell_type": "code",
   "execution_count": 257,
   "id": "a42f4be7",
   "metadata": {},
   "outputs": [],
   "source": [
    "pca = PCA(n_components = 2)\n",
    " \n",
    "X_train = pca.fit_transform(X_train)\n",
    "X_test = pca.transform(X_test)"
   ]
  },
  {
   "cell_type": "code",
   "execution_count": 258,
   "id": "86d3293c",
   "metadata": {},
   "outputs": [
    {
     "data": {
      "text/plain": [
       "(316, 2)"
      ]
     },
     "execution_count": 258,
     "metadata": {},
     "output_type": "execute_result"
    }
   ],
   "source": [
    "X_train.shape"
   ]
  },
  {
   "cell_type": "code",
   "execution_count": 260,
   "id": "f39d5118",
   "metadata": {
    "scrolled": false
   },
   "outputs": [
    {
     "name": "stderr",
     "output_type": "stream",
     "text": [
      "/home/jay/anaconda3/lib/python3.8/site-packages/sklearn/metrics/_classification.py:1248: UndefinedMetricWarning: Precision and F-score are ill-defined and being set to 0.0 in labels with no predicted samples. Use `zero_division` parameter to control this behavior.\n",
      "  _warn_prf(average, modifier, msg_start, len(result))\n",
      "/home/jay/anaconda3/lib/python3.8/site-packages/sklearn/metrics/_classification.py:1248: UndefinedMetricWarning: Recall and F-score are ill-defined and being set to 0.0 in labels with no true samples. Use `zero_division` parameter to control this behavior.\n",
      "  _warn_prf(average, modifier, msg_start, len(result))\n",
      "/home/jay/anaconda3/lib/python3.8/site-packages/sklearn/metrics/_classification.py:1248: UndefinedMetricWarning: Precision and F-score are ill-defined and being set to 0.0 in labels with no predicted samples. Use `zero_division` parameter to control this behavior.\n",
      "  _warn_prf(average, modifier, msg_start, len(result))\n",
      "/home/jay/anaconda3/lib/python3.8/site-packages/sklearn/metrics/_classification.py:1248: UndefinedMetricWarning: Recall and F-score are ill-defined and being set to 0.0 in labels with no true samples. Use `zero_division` parameter to control this behavior.\n",
      "  _warn_prf(average, modifier, msg_start, len(result))\n",
      "/home/jay/anaconda3/lib/python3.8/site-packages/sklearn/metrics/_classification.py:1248: UndefinedMetricWarning: Precision and F-score are ill-defined and being set to 0.0 in labels with no predicted samples. Use `zero_division` parameter to control this behavior.\n",
      "  _warn_prf(average, modifier, msg_start, len(result))\n",
      "/home/jay/anaconda3/lib/python3.8/site-packages/sklearn/metrics/_classification.py:1248: UndefinedMetricWarning: Recall and F-score are ill-defined and being set to 0.0 in labels with no true samples. Use `zero_division` parameter to control this behavior.\n",
      "  _warn_prf(average, modifier, msg_start, len(result))\n",
      "/home/jay/anaconda3/lib/python3.8/site-packages/mlxtend/plotting/plot_confusion_matrix.py:94: RuntimeWarning: invalid value encountered in true_divide\n",
      "  normed_conf_mat = conf_mat.astype('float') / total_samples\n"
     ]
    },
    {
     "name": "stdout",
     "output_type": "stream",
     "text": [
      "              precision    recall  f1-score   support\n",
      "\n",
      "           5       0.00      0.00      0.00         0\n",
      "           6       0.00      0.00      0.00         8\n",
      "           7       0.00      0.00      0.00         9\n",
      "           8       0.11      0.11      0.11         9\n",
      "           9       0.17      0.17      0.17         6\n",
      "          10       0.40      0.29      0.33        14\n",
      "          11       0.00      0.00      0.00         3\n",
      "          12       0.12      0.14      0.13         7\n",
      "          13       0.00      0.00      0.00         6\n",
      "          14       0.00      0.00      0.00         7\n",
      "          15       0.00      0.00      0.00         2\n",
      "          16       0.33      0.25      0.29         4\n",
      "          17       0.00      0.00      0.00         1\n",
      "          18       0.00      0.00      0.00         1\n",
      "          19       0.00      0.00      0.00         2\n",
      "\n",
      "    accuracy                           0.10        79\n",
      "   macro avg       0.08      0.06      0.07        79\n",
      "weighted avg       0.12      0.10      0.11        79\n",
      "\n"
     ]
    },
    {
     "data": {
      "image/png": "[encoded data removed]",
      "text/plain": [
       "<Figure size 1872x1872 with 1 Axes>"
      ]
     },
     "metadata": {
      "needs_background": "light"
     },
     "output_type": "display_data"
    }
   ],
   "source": [
    "DecisionTree(X_train,X_test,y_train,y_test)"
   ]
  },
  {
   "cell_type": "code",
   "execution_count": null,
   "id": "8d06665e",
   "metadata": {},
   "outputs": [],
   "source": []
  },
  {
   "cell_type": "code",
   "execution_count": null,
   "id": "146eb839",
   "metadata": {},
   "outputs": [],
   "source": []
  },
  {
   "cell_type": "code",
   "execution_count": null,
   "id": "271e7a15",
   "metadata": {},
   "outputs": [],
   "source": []
  },
  {
   "cell_type": "code",
   "execution_count": null,
   "id": "f3ea78ea",
   "metadata": {},
   "outputs": [],
   "source": []
  },
  {
   "cell_type": "code",
   "execution_count": 251,
   "id": "0ff96b6f",
   "metadata": {},
   "outputs": [
    {
     "name": "stdout",
     "output_type": "stream",
     "text": [
      "    school sex  age address famsize Pstatus  Medu  Fedu      Mjob      Fjob  \\\n",
      "0       GP   F   18       U     GT3       A     4     4   at_home   teacher   \n",
      "1       GP   F   17       U     GT3       T     1     1   at_home     other   \n",
      "2       GP   F   15       U     LE3       T     1     1   at_home     other   \n",
      "3       GP   F   15       U     GT3       T     4     2    health  services   \n",
      "4       GP   F   16       U     GT3       T     3     3     other     other   \n",
      "..     ...  ..  ...     ...     ...     ...   ...   ...       ...       ...   \n",
      "390     MS   M   20       U     LE3       A     2     2  services  services   \n",
      "391     MS   M   17       U     LE3       T     3     1  services  services   \n",
      "392     MS   M   21       R     GT3       T     1     1     other     other   \n",
      "393     MS   M   18       R     LE3       T     3     2  services     other   \n",
      "394     MS   M   19       U     LE3       T     1     1     other   at_home   \n",
      "\n",
      "     ... higher internet  romantic  famrel  freetime goout Dalc Walc health  \\\n",
      "0    ...    yes       no        no       4         3     4    1    1      3   \n",
      "1    ...    yes      yes        no       5         3     3    1    1      3   \n",
      "2    ...    yes      yes        no       4         3     2    2    3      3   \n",
      "3    ...    yes      yes       yes       3         2     2    1    1      5   \n",
      "4    ...    yes       no        no       4         3     2    1    2      5   \n",
      "..   ...    ...      ...       ...     ...       ...   ...  ...  ...    ...   \n",
      "390  ...    yes       no        no       5         5     4    4    5      4   \n",
      "391  ...    yes      yes        no       2         4     5    3    4      2   \n",
      "392  ...    yes       no        no       5         5     3    3    3      3   \n",
      "393  ...    yes      yes        no       4         4     1    3    4      5   \n",
      "394  ...    yes      yes        no       3         2     3    3    3      5   \n",
      "\n",
      "    absences  \n",
      "0          6  \n",
      "1          4  \n",
      "2         10  \n",
      "3          2  \n",
      "4          4  \n",
      "..       ...  \n",
      "390       11  \n",
      "391        3  \n",
      "392        3  \n",
      "393        0  \n",
      "394        5  \n",
      "\n",
      "[395 rows x 30 columns]\n"
     ]
    }
   ],
   "source": []
  },
  {
   "cell_type": "code",
   "execution_count": 185,
   "id": "4a3626d9",
   "metadata": {},
   "outputs": [],
   "source": [
    "student_data_portuguese = pd.read_csv('student/student-por.csv',sep=';')\n",
    "# student_data_portuguese"
   ]
  }
 ],
 "metadata": {
  "kernelspec": {
   "display_name": "Python 3 (ipykernel)",
   "language": "python",
   "name": "python3"
  },
  "language_info": {
   "codemirror_mode": {
    "name": "ipython",
    "version": 3
   },
   "file_extension": ".py",
   "mimetype": "text/x-python",
   "name": "python",
   "nbconvert_exporter": "python",
   "pygments_lexer": "ipython3",
   "version": "3.8.8"
  }
 },
 "nbformat": 4,
 "nbformat_minor": 5
}
