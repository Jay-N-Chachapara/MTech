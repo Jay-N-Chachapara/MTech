{
 "cells": [
  {
   "cell_type": "code",
   "execution_count": 1,
   "id": "eca17ee5",
   "metadata": {},
   "outputs": [
    {
     "data": {
      "text/html": [
       "<div>\n",
       "<style scoped>\n",
       "    .dataframe tbody tr th:only-of-type {\n",
       "        vertical-align: middle;\n",
       "    }\n",
       "\n",
       "    .dataframe tbody tr th {\n",
       "        vertical-align: top;\n",
       "    }\n",
       "\n",
       "    .dataframe thead th {\n",
       "        text-align: right;\n",
       "    }\n",
       "</style>\n",
       "<table border=\"1\" class=\"dataframe\">\n",
       "  <thead>\n",
       "    <tr style=\"text-align: right;\">\n",
       "      <th></th>\n",
       "      <th>sepal length (cm)</th>\n",
       "      <th>sepal width (cm)</th>\n",
       "      <th>petal length (cm)</th>\n",
       "      <th>petal width (cm)</th>\n",
       "      <th>target</th>\n",
       "    </tr>\n",
       "  </thead>\n",
       "  <tbody>\n",
       "    <tr>\n",
       "      <th>0</th>\n",
       "      <td>5.1</td>\n",
       "      <td>3.5</td>\n",
       "      <td>1.4</td>\n",
       "      <td>0.2</td>\n",
       "      <td>0.0</td>\n",
       "    </tr>\n",
       "    <tr>\n",
       "      <th>1</th>\n",
       "      <td>4.9</td>\n",
       "      <td>3.0</td>\n",
       "      <td>1.4</td>\n",
       "      <td>0.2</td>\n",
       "      <td>0.0</td>\n",
       "    </tr>\n",
       "    <tr>\n",
       "      <th>2</th>\n",
       "      <td>4.7</td>\n",
       "      <td>3.2</td>\n",
       "      <td>1.3</td>\n",
       "      <td>0.2</td>\n",
       "      <td>0.0</td>\n",
       "    </tr>\n",
       "    <tr>\n",
       "      <th>3</th>\n",
       "      <td>4.6</td>\n",
       "      <td>3.1</td>\n",
       "      <td>1.5</td>\n",
       "      <td>0.2</td>\n",
       "      <td>0.0</td>\n",
       "    </tr>\n",
       "    <tr>\n",
       "      <th>4</th>\n",
       "      <td>5.0</td>\n",
       "      <td>3.6</td>\n",
       "      <td>1.4</td>\n",
       "      <td>0.2</td>\n",
       "      <td>0.0</td>\n",
       "    </tr>\n",
       "  </tbody>\n",
       "</table>\n",
       "</div>"
      ],
      "text/plain": [
       "   sepal length (cm)  sepal width (cm)  petal length (cm)  petal width (cm)  \\\n",
       "0                5.1               3.5                1.4               0.2   \n",
       "1                4.9               3.0                1.4               0.2   \n",
       "2                4.7               3.2                1.3               0.2   \n",
       "3                4.6               3.1                1.5               0.2   \n",
       "4                5.0               3.6                1.4               0.2   \n",
       "\n",
       "   target  \n",
       "0     0.0  \n",
       "1     0.0  \n",
       "2     0.0  \n",
       "3     0.0  \n",
       "4     0.0  "
      ]
     },
     "execution_count": 1,
     "metadata": {},
     "output_type": "execute_result"
    }
   ],
   "source": [
    "import matplotlib\n",
    "import matplotlib.pyplot as plt\n",
    "import pandas as pd\n",
    "import numpy as np\n",
    "from cvxopt import matrix, solvers \n",
    "from sklearn.datasets import load_iris\n",
    "iris = load_iris()\n",
    "iris_df = pd.DataFrame(data= np.c_[iris[\"data\"], iris[\"target\"]], columns= iris[\"feature_names\"] + [\"target\"])\n",
    "iris_df.head()\n",
    "from sklearn.model_selection import train_test_split\n",
    "from sklearn import svm\n",
    "from sklearn.metrics import classification_report"
   ]
  },
  {
   "cell_type": "code",
   "execution_count": 2,
   "id": "952b750d",
   "metadata": {},
   "outputs": [],
   "source": [
    "X = iris_df[[\"petal length (cm)\", \"petal width (cm)\"]].to_numpy()\n",
    "y = iris_df[[\"target\"]].to_numpy()"
   ]
  },
  {
   "cell_type": "code",
   "execution_count": 3,
   "id": "41429f7e",
   "metadata": {},
   "outputs": [
    {
     "data": {
      "image/png": "[encoded data removed]",
      "text/plain": [
       "<Figure size 576x576 with 1 Axes>"
      ]
     },
     "metadata": {
      "needs_background": "light"
     },
     "output_type": "display_data"
    }
   ],
   "source": [
    "plt.figure(figsize=(8, 8))\n",
    "colors = [\"steelblue\", \"orange\"]\n",
    "plt.scatter(X[:, 0], X[:, 1], c=y.ravel(), alpha=0.5, cmap=matplotlib.colors.ListedColormap(colors), edgecolors=\"black\")\n",
    "plt.xlim(-1,8)\n",
    "plt.ylim(-1,3)\n",
    "plt.show()"
   ]
  },
  {
   "cell_type": "code",
   "execution_count": 4,
   "id": "d12019d2",
   "metadata": {},
   "outputs": [],
   "source": [
    "n = X.shape[0]\n",
    "H = np.dot(y*X, (y*X).T)"
   ]
  },
  {
   "cell_type": "code",
   "execution_count": 5,
   "id": "762c5239",
   "metadata": {},
   "outputs": [],
   "source": [
    "q = np.repeat([-1.0], n)[..., None]"
   ]
  },
  {
   "cell_type": "code",
   "execution_count": 6,
   "id": "ecd43f06",
   "metadata": {},
   "outputs": [],
   "source": [
    "A = y.reshape(1, -1)\n",
    "b = 0.0"
   ]
  },
  {
   "cell_type": "code",
   "execution_count": 7,
   "id": "c019a101",
   "metadata": {},
   "outputs": [],
   "source": [
    "G = np.negative(np.eye(n))\n",
    "h = np.zeros(n)"
   ]
  },
  {
   "cell_type": "code",
   "execution_count": 8,
   "id": "631b1867",
   "metadata": {},
   "outputs": [],
   "source": [
    "P = matrix(H)\n",
    "q = matrix(q)\n",
    "G = matrix(G)\n",
    "h = matrix(h)\n",
    "A = matrix(A)\n",
    "b = matrix(b)"
   ]
  },
  {
   "cell_type": "code",
   "execution_count": 10,
   "id": "a8a488eb",
   "metadata": {},
   "outputs": [
    {
     "name": "stdout",
     "output_type": "stream",
     "text": [
      "     pcost       dcost       gap    pres   dres\n",
      " 0: -5.3976e+01 -1.0806e+02  4e+02  2e+01  2e+00\n",
      " 1: -2.7252e+02 -2.7555e+02  2e+02  9e+00  1e+00\n",
      " 2: -3.1032e+04 -3.1035e+04  2e+02  9e+00  1e+00\n",
      " 3: -3.0762e+08 -3.0762e+08  5e+02  9e+00  1e+00\n",
      " 4: -3.0454e+14 -3.0454e+14  3e+06  9e+00  1e+00\n",
      " 5: -3.0150e+22 -3.0150e+22  3e+12  9e+05  1e+00\n",
      " 6: -2.9848e+32 -2.9848e+32  3e+20  8e+15  1e+00\n",
      " 7: -2.9549e+44 -2.9549e+44  3e+30  7e+00  1e+00\n",
      " 8: -2.9460e+58 -2.9460e+58  3e+42  6e+41  1e+00\n",
      " 9: -2.7768e+90 -2.7768e+90  3e+74  5e+73  6e-01\n",
      "10: -1.3527e+106 -1.3527e+106  1e+88  4e-01  6e-01\n",
      "11: -1.1114e+142 -1.1114e+142  1e+124 3e+125  6e-01\n",
      "12: -1.0336e+178 -1.0336e+178  1e+160  5e-03  6e-01\n",
      "13: -1.0336e+178 -1.0336e+178  1e+160    inf  6e-01\n",
      "14: -1.0336e+178 -1.0336e+178  1e+160    inf  6e-01\n",
      "15: -1.0336e+178 -1.0336e+178  1e+160    inf  6e-01\n",
      "16: -1.0336e+178 -1.0336e+178  1e+160    inf  6e-01\n",
      "17: -1.0336e+178 -1.0336e+178  1e+160    inf  6e-01\n",
      "18: -1.0336e+178 -1.0336e+178  1e+160    inf  6e-01\n",
      "19: -1.0336e+178 -1.0336e+178  1e+160    inf  6e-01\n",
      "20: -1.0336e+178 -1.0336e+178  1e+160    inf  6e-01\n",
      "21: -1.0336e+178 -1.0336e+178  1e+160    inf  6e-01\n",
      "22: -1.0336e+178 -1.0336e+178  1e+160    inf  6e-01\n",
      "23: -1.0336e+178 -1.0336e+178  1e+160    inf  6e-01\n",
      "24: -1.0336e+178 -1.0336e+178  1e+160    inf  6e-01\n",
      "25: -1.0336e+178 -1.0336e+178  1e+160    inf  6e-01\n",
      "26: -1.0336e+178 -1.0336e+178  1e+160    inf  6e-01\n",
      "27: -1.0336e+178 -1.0336e+178  1e+160    inf  6e-01\n",
      "28: -1.0336e+178 -1.0336e+178  1e+160    inf  6e-01\n",
      "29: -1.0336e+178 -1.0336e+178  1e+160    inf  6e-01\n",
      "30: -1.0336e+178 -1.0336e+178  1e+160    inf  6e-01\n",
      "31: -1.0336e+178 -1.0336e+178  1e+160    inf  6e-01\n",
      "32: -1.0336e+178 -1.0336e+178  1e+160    inf  6e-01\n",
      "33: -1.0336e+178 -1.0336e+178  1e+160    inf  6e-01\n",
      "34: -1.0336e+178 -1.0336e+178  1e+160    inf  6e-01\n",
      "35: -1.0336e+178 -1.0336e+178  1e+160    inf  6e-01\n",
      "36: -1.0336e+178 -1.0336e+178  1e+160    inf  6e-01\n",
      "37: -1.0336e+178 -1.0336e+178  1e+160    inf  6e-01\n",
      "38: -1.0336e+178 -1.0336e+178  1e+160    inf  6e-01\n",
      "39: -1.0336e+178 -1.0336e+178  1e+160    inf  6e-01\n",
      "40: -1.0336e+178 -1.0336e+178  1e+160    inf  6e-01\n",
      "41: -1.0336e+178 -1.0336e+178  1e+160    inf  1e+00\n",
      "42: -1.0336e+178 -1.0336e+178  1e+160    inf  1e+00\n",
      "43: -1.0336e+178 -1.0336e+178  1e+160    inf  2e+00\n",
      "44: -1.0336e+178 -1.0336e+178  1e+160    inf  2e+00\n",
      "45: -1.0336e+178 -1.0336e+178  1e+160    inf  4e+00\n",
      "46: -1.0336e+178 -1.0336e+178  1e+160    inf  2e+01\n",
      "47: -1.0336e+178 -1.0336e+178  1e+160    inf  6e+01\n",
      "48: -1.0336e+178 -1.0336e+178  1e+160    inf  2e+02\n",
      "49: -1.0336e+178 -1.0336e+178  1e+160    inf  5e+02\n",
      "50: -1.0336e+178 -1.0336e+178  1e+160    inf  1e+03\n",
      "51: -1.0336e+178 -1.0336e+178  1e+160    inf  4e+03\n",
      "52: -1.0336e+178 -1.0336e+178  1e+160    inf  2e+04\n",
      "53: -1.0336e+178 -1.0336e+178  1e+160    inf  4e+04\n",
      "54: -1.0336e+178 -1.0336e+178  1e+160    inf  1e+05\n",
      "55: -1.0336e+178 -1.0336e+178  1e+160    inf  6e+05\n",
      "56: -1.0336e+178 -1.0336e+178  1e+160    inf  2e+06\n",
      "57: -1.0336e+178 -1.0336e+178  1e+160    inf  4e+06\n",
      "58: -1.0336e+178 -1.0336e+178  1e+160    inf  1e+07\n",
      "59: -1.0336e+178 -1.0336e+178  1e+160    inf  4e+07\n",
      "60: -1.0336e+178 -1.0336e+178  1e+160    inf  1e+08\n",
      "61: -1.0336e+178 -1.0336e+178  1e+160    inf  4e+08\n",
      "62: -1.0336e+178 -1.0336e+178  1e+160    inf  1e+09\n",
      "63: -1.0336e+178 -1.0336e+178  1e+160    inf  3e+09\n",
      "64: -1.0336e+178 -1.0336e+178  1e+160    inf  2e+10\n",
      "65: -1.0336e+178 -1.0336e+178  1e+160    inf  4e+10\n",
      "66: -1.0336e+178 -1.0336e+178  1e+160    inf  1e+11\n",
      "67: -1.0336e+178 -1.0336e+178  1e+160    inf  7e+11\n",
      "68: -1.0336e+178 -1.0336e+178  1e+160    inf  1e+12\n",
      "69: -1.0336e+178 -1.0336e+178  1e+160    inf  2e+12\n",
      "70: -1.0336e+178 -1.0336e+178  1e+160    inf  1e+13\n",
      "71: -1.0336e+178 -1.0336e+178  1e+160    inf  3e+13\n",
      "72: -1.0336e+178 -1.0336e+178  1e+160    inf  2e+14\n",
      "73: -1.0336e+178 -1.0336e+178  1e+160    inf  3e+14\n",
      "74: -1.0336e+178 -1.0336e+178  1e+160    inf  9e+14\n",
      "75: -1.0336e+178 -1.0336e+178  1e+160    inf  3e+15\n",
      "76: -1.0336e+178 -1.0336e+178  1e+160    inf  9e+15\n",
      "77: -1.0336e+178 -1.0336e+178  1e+160    inf  3e+16\n",
      "78: -1.0336e+178 -1.0336e+178  1e+160    inf  1e+17\n",
      "79: -1.0336e+178 -1.0336e+178  1e+160    inf  2e+17\n",
      "80: -1.0336e+178 -1.0336e+178  1e+160    inf  8e+17\n",
      "81: -1.0336e+178 -1.0336e+178  1e+160    inf  3e+18\n",
      "82: -1.0336e+178 -1.0336e+178  1e+160    inf  9e+18\n",
      "83: -1.0336e+178 -1.0336e+178  1e+160    inf  3e+19\n",
      "84: -1.0336e+178 -1.0336e+178  1e+160    inf  7e+19\n",
      "85: -1.0336e+178 -1.0336e+178  1e+160    inf  2e+20\n",
      "86: -1.0336e+178 -1.0336e+178  1e+160    inf  1e+21\n",
      "87: -1.0336e+178 -1.0336e+178  1e+160    inf  2e+21\n",
      "88: -1.0336e+178 -1.0336e+178  1e+160    inf  6e+21\n",
      "89: -1.0336e+178 -1.0336e+178  1e+160    inf  2e+22\n",
      "90: -1.0336e+178 -1.0336e+178  1e+160    inf  5e+22\n",
      "91: -1.0336e+178 -1.0336e+178  1e+160    inf  2e+23\n",
      "92: -1.0336e+178 -1.0336e+178  1e+160    inf  7e+23\n",
      "93: -1.0336e+178 -1.0336e+178  1e+160    inf  1e+24\n",
      "94: -1.0336e+178 -1.0336e+178  1e+160    inf  7e+24\n",
      "95: -1.0336e+178 -1.0336e+178  1e+160    inf  2e+25\n",
      "96: -1.0336e+178 -1.0336e+178  1e+160    inf  5e+25\n",
      "97: -1.0336e+178 -1.0336e+178  1e+160    inf  1e+26\n",
      "98: -1.0336e+178 -1.0336e+178  1e+160    inf  6e+26\n",
      "99: -1.0336e+178 -1.0336e+178  1e+160    inf  1e+27\n",
      "100: -1.0336e+178 -1.0336e+178  1e+160    inf  7e+27\n",
      "Terminated (maximum number of iterations reached).\n"
     ]
    }
   ],
   "source": [
    "sol = solvers.qp(P, q, G, h, A, b)\n",
    "alphas = np.array(sol[\"x\"])"
   ]
  },
  {
   "cell_type": "code",
   "execution_count": 11,
   "id": "12500e58",
   "metadata": {},
   "outputs": [],
   "source": [
    "w = np.dot((y * alphas).T, X)[0]"
   ]
  },
  {
   "cell_type": "code",
   "execution_count": 12,
   "id": "41542510",
   "metadata": {},
   "outputs": [],
   "source": [
    "S = (alphas > 1e-5).flatten()\n",
    "b = np.mean(y[S] - np.dot(X[S], w.reshape(-1,1)))"
   ]
  },
  {
   "cell_type": "code",
   "execution_count": 13,
   "id": "038c79d1",
   "metadata": {},
   "outputs": [
    {
     "name": "stdout",
     "output_type": "stream",
     "text": [
      "W: [-0.0534272  -0.02815597]\n",
      "b: 0.641588052473986\n"
     ]
    }
   ],
   "source": [
    "print(\"W:\", w)\n",
    "print(\"b:\", b)"
   ]
  },
  {
   "cell_type": "code",
   "execution_count": null,
   "id": "da03afb6",
   "metadata": {},
   "outputs": [],
   "source": [
    "X_train,X_test,y_train,y_test = train_test_split(X,y,test_size=0.2,random_state=4)"
   ]
  },
  {
   "cell_type": "code",
   "execution_count": null,
   "id": "3aa0bad7",
   "metadata": {},
   "outputs": [],
   "source": [
    "classifier = svm.SVC(kernel='linear',gamma='auto',C=2)\n",
    "classifier.fit(X_train,y_train)\n",
    "y_predict = classifier.predict(X_test)"
   ]
  },
  {
   "cell_type": "code",
   "execution_count": null,
   "id": "0b7a43d6",
   "metadata": {},
   "outputs": [],
   "source": [
    "print(classification_report(y_test,y_predict))"
   ]
  },
  {
   "cell_type": "code",
   "execution_count": 22,
   "id": "c0e2dd2f",
   "metadata": {},
   "outputs": [
    {
     "data": {
      "image/png": "[encoded data removed]",
      "text/plain": [
       "<Figure size 576x576 with 1 Axes>"
      ]
     },
     "metadata": {
      "needs_background": "light"
     },
     "output_type": "display_data"
    }
   ],
   "source": [
    "plt.scatter(X_train[:,2],X_train[:,4],c=y_train,cmap='winter')\n",
    "\n",
    "ax = plt.gca()\n",
    "xlim = ax.get_xlim()\n",
    "ax.scatter(X_test[:,2],X_test[:,4],c=y_test,cmap='winter',marker='s')\n",
    "\n",
    "w = classifier.coef_[0]\n",
    "a = -w[0]/w[1]\n",
    "xx = np.linspace(xlim[0],xlim[1])\n",
    "yy = a * xx - (classifier.intercept_[0] / w[1])\n",
    "\n",
    "plt.plot(xx,yy)"
   ]
  },
  {
   "cell_type": "code",
   "execution_count": null,
   "id": "588005d6",
   "metadata": {},
   "outputs": [],
   "source": []
  }
 ],
 "metadata": {
  "kernelspec": {
   "display_name": "Python 3 (ipykernel)",
   "language": "python",
   "name": "python3"
  },
  "language_info": {
   "codemirror_mode": {
    "name": "ipython",
    "version": 3
   },
   "file_extension": ".py",
   "mimetype": "text/x-python",
   "name": "python",
   "nbconvert_exporter": "python",
   "pygments_lexer": "ipython3",
   "version": "3.8.8"
  }
 },
 "nbformat": 4,
 "nbformat_minor": 5
}
