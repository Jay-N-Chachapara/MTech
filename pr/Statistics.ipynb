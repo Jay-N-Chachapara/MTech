{
 "cells": [
  {
   "cell_type": "code",
   "execution_count": 1,
   "id": "6250d92e",
   "metadata": {},
   "outputs": [],
   "source": [
    "import numpy as np\n",
    "from scipy import stats"
   ]
  },
  {
   "cell_type": "code",
   "execution_count": 12,
   "id": "9ab223df",
   "metadata": {},
   "outputs": [
    {
     "name": "stdout",
     "output_type": "stream",
     "text": [
      "Enter table size : 7\n",
      "5\n",
      "7\n",
      "9.2\n",
      "9.3\n",
      "9.4\n",
      "11\n",
      "13\n"
     ]
    },
    {
     "data": {
      "text/plain": [
       "[5.0, 7.0, 9.2, 9.3, 9.4, 11.0, 13.0]"
      ]
     },
     "execution_count": 12,
     "metadata": {},
     "output_type": "execute_result"
    }
   ],
   "source": [
    "data = []\n",
    "size = int(input(\"Enter table size : \"))\n",
    "for i in range(size) :\n",
    "    data.append(float(input()))\n",
    "data"
   ]
  },
  {
   "cell_type": "code",
   "execution_count": 15,
   "id": "0dece674",
   "metadata": {},
   "outputs": [
    {
     "name": "stdout",
     "output_type": "stream",
     "text": [
      "mean : 9.1286\n"
     ]
    }
   ],
   "source": [
    "print(\"mean :\",round(np.mean(data),4))"
   ]
  },
  {
   "cell_type": "code",
   "execution_count": 16,
   "id": "047f3670",
   "metadata": {},
   "outputs": [
    {
     "name": "stdout",
     "output_type": "stream",
     "text": [
      "sd : 2.3957\n"
     ]
    }
   ],
   "source": [
    "print(\"sd :\",round(np.std(data),4))"
   ]
  },
  {
   "cell_type": "code",
   "execution_count": 17,
   "id": "77ca10a1",
   "metadata": {},
   "outputs": [
    {
     "name": "stdout",
     "output_type": "stream",
     "text": [
      "Variance : 5.7392\n"
     ]
    }
   ],
   "source": [
    "print(\"Variance :\",round(np.var(data),4))"
   ]
  },
  {
   "cell_type": "code",
   "execution_count": null,
   "id": "f4feff8b",
   "metadata": {},
   "outputs": [],
   "source": []
  }
 ],
 "metadata": {
  "kernelspec": {
   "display_name": "Python 3 (ipykernel)",
   "language": "python",
   "name": "python3"
  },
  "language_info": {
   "codemirror_mode": {
    "name": "ipython",
    "version": 3
   },
   "file_extension": ".py",
   "mimetype": "text/x-python",
   "name": "python",
   "nbconvert_exporter": "python",
   "pygments_lexer": "ipython3",
   "version": "3.8.8"
  }
 },
 "nbformat": 4,
 "nbformat_minor": 5
}
