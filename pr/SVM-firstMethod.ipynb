{
 "cells": [
  {
   "cell_type": "code",
   "execution_count": 2,
   "id": "3a16e047",
   "metadata": {},
   "outputs": [],
   "source": [
    "import cvxopt\n",
    "import quadprog\n",
    "import numpy as np\n",
    "from array import array"
   ]
  },
  {
   "cell_type": "code",
   "execution_count": 6,
   "id": "08f284bf",
   "metadata": {},
   "outputs": [
    {
     "ename": "SyntaxError",
     "evalue": "invalid syntax (2036783688.py, line 1)",
     "output_type": "error",
     "traceback": [
      "\u001b[0;36m  File \u001b[0;32m\"/tmp/ipykernel_5315/2036783688.py\"\u001b[0;36m, line \u001b[0;32m1\u001b[0m\n\u001b[0;31m    M = np.array(2-,[[1,1],[2,1],[1,2],[2,2],[1.5,1.5],[4,4],[4,5],[5,4],[5,5],[4.5,4.5]])\u001b[0m\n\u001b[0m                   ^\u001b[0m\n\u001b[0;31mSyntaxError\u001b[0m\u001b[0;31m:\u001b[0m invalid syntax\n"
     ]
    }
   ],
   "source": [
    "M = np.array(2-,[[1,1],[2,1],[1,2],[2,2],[1.5,1.5],[4,4],[4,5],[5,4],[5,5],[4.5,4.5]])\n",
    "P = np.dot(M.T, M)\n",
    "q = -np.dot(M.T, array([3., 2., 3.]))"
   ]
  },
  {
   "cell_type": "code",
   "execution_count": null,
   "id": "6f7c2293",
   "metadata": {},
   "outputs": [],
   "source": []
  }
 ],
 "metadata": {
  "kernelspec": {
   "display_name": "Python 3 (ipykernel)",
   "language": "python",
   "name": "python3"
  },
  "language_info": {
   "codemirror_mode": {
    "name": "ipython",
    "version": 3
   },
   "file_extension": ".py",
   "mimetype": "text/x-python",
   "name": "python",
   "nbconvert_exporter": "python",
   "pygments_lexer": "ipython3",
   "version": "3.8.8"
  }
 },
 "nbformat": 4,
 "nbformat_minor": 5
}
