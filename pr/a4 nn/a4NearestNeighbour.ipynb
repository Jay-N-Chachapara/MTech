{
 "cells": [
  {
   "cell_type": "code",
   "execution_count": 16,
   "id": "76ebbf41",
   "metadata": {},
   "outputs": [
    {
     "name": "stdout",
     "output_type": "stream",
     "text": [
      "[[8, 2, 10, 0, 10, 2, 4, 10, 3, 2, 10, 2, 0, 6, 5, 3, 3, 8, 6, 8, 6, 3, 1, 1, 6, 6, 6, 7, 10, 6, 9, 9, 3, 5, 6, 1, 6, 4, 2, 6, 5, 6, 7, 5, 3, 6, 10, 0, 10, 3, 6, 4, 1, 4, 0, 2, 4, 10, 3, 9, 6, 7, 8, 1, 1, 2, 5, 7, 3, 7, 1, 5, 5, 0, 0, 8, 5, 5, 6, 1, 0, 2, 3, 1, 3, 6, 7, 1, 3, 3, 0, 2, 0, 2, 4, 1, 8, 2, 5, 10], ['even', 'even', 'even', 'even', 'even', 'even', 'even', 'even', 'odd', 'even', 'even', 'even', 'even', 'even', 'odd', 'odd', 'odd', 'even', 'even', 'even', 'even', 'odd', 'odd', 'odd', 'even', 'even', 'even', 'odd', 'even', 'even', 'odd', 'odd', 'odd', 'odd', 'even', 'odd', 'even', 'even', 'even', 'even', 'odd', 'even', 'odd', 'odd', 'odd', 'even', 'even', 'even', 'even', 'odd', 'even', 'even', 'odd', 'even', 'even', 'even', 'even', 'even', 'odd', 'odd', 'even', 'odd', 'even', 'odd', 'odd', 'even', 'odd', 'odd', 'odd', 'odd', 'odd', 'odd', 'odd', 'even', 'even', 'even', 'odd', 'odd', 'even', 'odd', 'even', 'even', 'odd', 'odd', 'odd', 'even', 'odd', 'odd', 'odd', 'odd', 'even', 'even', 'even', 'even', 'even', 'odd', 'even', 'even', 'odd', 'even']]\n"
     ]
    }
   ],
   "source": [
    "import random\n",
    "randomData = [[],[]]\n",
    "for i in range(100) :\n",
    "    x = random.randint(0,10)\n",
    "    randomData[0].append(x)\n",
    "    if x%2 == 0 :\n",
    "        randomData[1].append(\"even\")\n",
    "    else :\n",
    "        randomData[1].append(\"odd\")\n",
    "        "
   ]
  }
 ],
 "metadata": {
  "kernelspec": {
   "display_name": "Python 3 (ipykernel)",
   "language": "python",
   "name": "python3"
  },
  "language_info": {
   "codemirror_mode": {
    "name": "ipython",
    "version": 3
   },
   "file_extension": ".py",
   "mimetype": "text/x-python",
   "name": "python",
   "nbconvert_exporter": "python",
   "pygments_lexer": "ipython3",
   "version": "3.8.8"
  }
 },
 "nbformat": 4,
 "nbformat_minor": 5
}
