{
 "cells": [
  {
   "cell_type": "code",
   "execution_count": 15,
   "id": "bde792b5",
   "metadata": {},
   "outputs": [
    {
     "ename": "SyntaxError",
     "evalue": "invalid syntax (2826239066.py, line 6)",
     "output_type": "error",
     "traceback": [
      "\u001b[0;36m  File \u001b[0;32m\"/tmp/ipykernel_35814/2826239066.py\"\u001b[0;36m, line \u001b[0;32m6\u001b[0m\n\u001b[0;31m    x%2 ? randomData[1].append(\"odd\"):randomData[1].append(\"even\")\u001b[0m\n\u001b[0m        ^\u001b[0m\n\u001b[0;31mSyntaxError\u001b[0m\u001b[0;31m:\u001b[0m invalid syntax\n"
     ]
    }
   ],
   "source": [
    "import random\n",
    "randomData = [[],[]]\n",
    "for i in range(100) :\n",
    "    x = random.randint(0,10)\n",
    "    randomData[0].append(x)\n",
    "    if x%2 == 0 :\n",
    "        randomData[1].append(\"even\")\n",
    "    else :\n",
    "        randomData[1].append(\"odd\")\n",
    "print(randomData)"
   ]
  },
  {
   "cell_type": "code",
   "execution_count": null,
   "id": "6635b7a0",
   "metadata": {},
   "outputs": [],
   "source": []
  }
 ],
 "metadata": {
  "kernelspec": {
   "display_name": "Python 3 (ipykernel)",
   "language": "python",
   "name": "python3"
  },
  "language_info": {
   "codemirror_mode": {
    "name": "ipython",
    "version": 3
   },
   "file_extension": ".py",
   "mimetype": "text/x-python",
   "name": "python",
   "nbconvert_exporter": "python",
   "pygments_lexer": "ipython3",
   "version": "3.8.8"
  }
 },
 "nbformat": 4,
 "nbformat_minor": 5
}
