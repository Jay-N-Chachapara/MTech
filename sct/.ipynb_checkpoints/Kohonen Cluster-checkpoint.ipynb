{
 "cells": [
  {
   "cell_type": "code",
   "execution_count": 1,
   "id": "1aa2273b",
   "metadata": {},
   "outputs": [],
   "source": [
    "import numpy as np"
   ]
  },
  {
   "cell_type": "markdown",
   "id": "c64b1eb0",
   "metadata": {},
   "source": [
    "## Input"
   ]
  },
  {
   "cell_type": "code",
   "execution_count": 106,
   "id": "3e4bb099",
   "metadata": {},
   "outputs": [
    {
     "name": "stdout",
     "output_type": "stream",
     "text": [
      "Enter number of samples 4\n",
      "Enter the length of the sample 4\n",
      "Enter number of clusters 2\n"
     ]
    }
   ],
   "source": [
    "Number_of_Samples = int(input(\"Enter number of samples \"))\n",
    "Length_of_Samples = int(input(\"Enter the length of the sample \"))\n",
    "Number_of_Cluster = int(input(\"Enter number of clusters \"))"
   ]
  },
  {
   "cell_type": "code",
   "execution_count": 107,
   "id": "1510b618",
   "metadata": {},
   "outputs": [
    {
     "data": {
      "text/plain": [
       "array([[0., 0., 0., 0.],\n",
       "       [0., 0., 0., 0.],\n",
       "       [0., 0., 0., 0.],\n",
       "       [0., 0., 0., 0.]])"
      ]
     },
     "execution_count": 107,
     "metadata": {},
     "output_type": "execute_result"
    }
   ],
   "source": [
    "X = np.zeros((Number_of_Samples,Length_of_Samples))\n",
    "X"
   ]
  },
  {
   "cell_type": "code",
   "execution_count": 108,
   "id": "4def0dec",
   "metadata": {},
   "outputs": [
    {
     "data": {
      "text/plain": [
       "(4, 4)"
      ]
     },
     "execution_count": 108,
     "metadata": {},
     "output_type": "execute_result"
    }
   ],
   "source": [
    "X.shape"
   ]
  },
  {
   "cell_type": "code",
   "execution_count": 109,
   "id": "7aa449d5",
   "metadata": {},
   "outputs": [
    {
     "name": "stdout",
     "output_type": "stream",
     "text": [
      "Enter input column wise\n",
      "0 0 1 1\n",
      "1 0 0 0\n",
      "0 1 1 0\n",
      "0 0 0 1\n",
      "[[0. 0. 1. 1.]\n",
      " [1. 0. 0. 0.]\n",
      " [0. 1. 1. 0.]\n",
      " [0. 0. 0. 1.]]\n"
     ]
    }
   ],
   "source": [
    "print(\"Enter input column wise\")\n",
    "for i in range(Number_of_Samples) :\n",
    "    x = [input().split(' ')]\n",
    "    for j in range(Length_of_Samples) :\n",
    "        X[i,j] = x[0][j]\n",
    "print(X)"
   ]
  },
  {
   "cell_type": "code",
   "execution_count": 110,
   "id": "4a0bbd54",
   "metadata": {},
   "outputs": [
    {
     "name": "stdout",
     "output_type": "stream",
     "text": [
      "Enter learning rate 0.5\n"
     ]
    },
    {
     "data": {
      "text/plain": [
       "0.5"
      ]
     },
     "execution_count": 110,
     "metadata": {},
     "output_type": "execute_result"
    }
   ],
   "source": [
    "Learning_rate = float(input(\"Enter learning rate \"))\n",
    "Learning_rate"
   ]
  },
  {
   "cell_type": "markdown",
   "id": "0187d6cc",
   "metadata": {},
   "source": [
    "## Declare and initialize Weight Metrix"
   ]
  },
  {
   "cell_type": "code",
   "execution_count": 111,
   "id": "ee00d696",
   "metadata": {},
   "outputs": [],
   "source": [
    "Weight = None"
   ]
  },
  {
   "cell_type": "code",
   "execution_count": 112,
   "id": "6ebf3a67",
   "metadata": {},
   "outputs": [
    {
     "name": "stdout",
     "output_type": "stream",
     "text": [
      "1.Random\n",
      "2.Specific\n",
      "\n",
      "Choice 2\n",
      "Enter values column wise\n",
      ".2 .9\n",
      ".4 .7\n",
      ".6 .5\n",
      ".8 .3\n"
     ]
    }
   ],
   "source": [
    "Choice = int(input(\"1.Random\\n2.Specific\\n\\nChoice \")) \n",
    "if  Choice == 2 :\n",
    "    Weight = np.zeros((Length_of_Samples,Number_of_Cluster))\n",
    "    print(\"Enter values column wise\")\n",
    "    for i in range(Length_of_Samples) :\n",
    "        x = [input().split(' ')]\n",
    "        for j in range(Number_of_Cluster) :\n",
    "            Weight[i,j] = x[0][j]\n",
    "else :\n",
    "    Weight = np.random.rand(Length_of_Samples,Number_of_Cluster)"
   ]
  },
  {
   "cell_type": "code",
   "execution_count": 113,
   "id": "c42669b5",
   "metadata": {},
   "outputs": [
    {
     "data": {
      "text/plain": [
       "array([[0.2, 0.9],\n",
       "       [0.4, 0.7],\n",
       "       [0.6, 0.5],\n",
       "       [0.8, 0.3]])"
      ]
     },
     "execution_count": 113,
     "metadata": {},
     "output_type": "execute_result"
    }
   ],
   "source": [
    "Weight"
   ]
  },
  {
   "cell_type": "code",
   "execution_count": 114,
   "id": "3f7ebfab",
   "metadata": {},
   "outputs": [],
   "source": [
    "Weight = Weight.T"
   ]
  },
  {
   "cell_type": "code",
   "execution_count": 115,
   "id": "c4dcc54d",
   "metadata": {},
   "outputs": [
    {
     "data": {
      "text/plain": [
       "array([[0.2, 0.4, 0.6, 0.8],\n",
       "       [0.9, 0.7, 0.5, 0.3]])"
      ]
     },
     "execution_count": 115,
     "metadata": {},
     "output_type": "execute_result"
    }
   ],
   "source": [
    "Weight"
   ]
  },
  {
   "cell_type": "code",
   "execution_count": 116,
   "id": "800141de",
   "metadata": {},
   "outputs": [],
   "source": [
    "Distance = np.zeros(Number_of_Cluster)"
   ]
  },
  {
   "cell_type": "code",
   "execution_count": 117,
   "id": "589e04f3",
   "metadata": {},
   "outputs": [
    {
     "data": {
      "text/plain": [
       "array([0., 0.])"
      ]
     },
     "execution_count": 117,
     "metadata": {},
     "output_type": "execute_result"
    }
   ],
   "source": [
    "Distance"
   ]
  },
  {
   "cell_type": "code",
   "execution_count": 118,
   "id": "2b6d3594",
   "metadata": {},
   "outputs": [
    {
     "data": {
      "text/plain": [
       "(2,)"
      ]
     },
     "execution_count": 118,
     "metadata": {},
     "output_type": "execute_result"
    }
   ],
   "source": [
    "Distance.shape"
   ]
  },
  {
   "cell_type": "code",
   "execution_count": 119,
   "id": "19332188",
   "metadata": {},
   "outputs": [
    {
     "name": "stdout",
     "output_type": "stream",
     "text": [
      "Distance : [0.4  2.04]\n",
      "Weight Matrix :\n",
      " [[0.1 0.9]\n",
      " [0.2 0.7]\n",
      " [0.8 0.5]\n",
      " [0.9 0.3]]\n",
      "\n",
      "Distance : [2.3  0.84]\n",
      "Weight Matrix :\n",
      " [[0.1  0.95]\n",
      " [0.2  0.35]\n",
      " [0.8  0.25]\n",
      " [0.9  0.15]]\n",
      "\n",
      "Distance : [1.5  1.91]\n",
      "Weight Matrix :\n",
      " [[0.05 0.95]\n",
      " [0.6  0.35]\n",
      " [0.9  0.25]\n",
      " [0.45 0.15]]\n",
      "\n",
      "Distance : [1.475 1.81 ]\n",
      "Weight Matrix :\n",
      " [[0.025 0.95 ]\n",
      " [0.3   0.35 ]\n",
      " [0.45  0.25 ]\n",
      " [0.725 0.15 ]]\n",
      "\n"
     ]
    }
   ],
   "source": [
    "for x in X :\n",
    "    index = 0\n",
    "    for weight in Weight :\n",
    "        Sum= 0\n",
    "        for i,j in zip(x,weight) :\n",
    "            Sum += (i-j)**2\n",
    "        Distance[index] = round(Sum,4)\n",
    "        index += 1\n",
    "    print(\"Distance :\",Distance,end=\"\\n\")\n",
    "    j = np.where(Distance==(min(Distance)))[0][0]\n",
    "    for i in range(Length_of_Samples) :\n",
    "        Weight[j,i] = Weight[j,i] + Learning_rate * (x[i] - Weight[j,i])\n",
    "    print(\"Weight Matrix :\\n\",Weight.T,end=\"\\n\\n\")\n",
    "    for i in range(len(Distance)) :\n",
    "        Distance[i] = 0"
   ]
  },
  {
   "cell_type": "code",
   "execution_count": 120,
   "id": "3211b329",
   "metadata": {},
   "outputs": [
    {
     "data": {
      "text/plain": [
       "array([[0.025, 0.95 ],\n",
       "       [0.3  , 0.35 ],\n",
       "       [0.45 , 0.25 ],\n",
       "       [0.725, 0.15 ]])"
      ]
     },
     "execution_count": 120,
     "metadata": {},
     "output_type": "execute_result"
    }
   ],
   "source": [
    "Weight.T"
   ]
  },
  {
   "cell_type": "code",
   "execution_count": null,
   "id": "29ca8144",
   "metadata": {},
   "outputs": [],
   "source": []
  }
 ],
 "metadata": {
  "kernelspec": {
   "display_name": "Python 3 (ipykernel)",
   "language": "python",
   "name": "python3"
  },
  "language_info": {
   "codemirror_mode": {
    "name": "ipython",
    "version": 3
   },
   "file_extension": ".py",
   "mimetype": "text/x-python",
   "name": "python",
   "nbconvert_exporter": "python",
   "pygments_lexer": "ipython3",
   "version": "3.8.8"
  }
 },
 "nbformat": 4,
 "nbformat_minor": 5
}
