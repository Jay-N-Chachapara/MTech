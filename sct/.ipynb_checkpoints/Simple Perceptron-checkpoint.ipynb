{
 "cells": [
  {
   "cell_type": "markdown",
   "id": "dccfe88c",
   "metadata": {},
   "source": [
    "###### Get number of inputs"
   ]
  },
  {
   "cell_type": "code",
   "execution_count": 1,
   "id": "56365d4c",
   "metadata": {},
   "outputs": [
    {
     "name": "stdout",
     "output_type": "stream",
     "text": [
      "Enter Number of inputs : 2\n"
     ]
    }
   ],
   "source": [
    "Number_of_inputs = int(input(\"Enter Number of inputs : \"))"
   ]
  },
  {
   "cell_type": "markdown",
   "id": "4ad1923d",
   "metadata": {},
   "source": [
    "###### Take input"
   ]
  },
  {
   "cell_type": "code",
   "execution_count": 2,
   "id": "dec737c3",
   "metadata": {},
   "outputs": [
    {
     "name": "stdout",
     "output_type": "stream",
     "text": [
      "2\n",
      "5\n"
     ]
    }
   ],
   "source": [
    "Inputs = [float(input()) for j in range(Number_of_inputs)]"
   ]
  },
  {
   "cell_type": "code",
   "execution_count": 3,
   "id": "0db8ce1f",
   "metadata": {},
   "outputs": [
    {
     "data": {
      "text/plain": [
       "2"
      ]
     },
     "execution_count": 3,
     "metadata": {},
     "output_type": "execute_result"
    }
   ],
   "source": [
    "Number_of_inputs"
   ]
  },
  {
   "cell_type": "code",
   "execution_count": 4,
   "id": "80bfa607",
   "metadata": {},
   "outputs": [
    {
     "data": {
      "text/plain": [
       "[2.0, 5.0]"
      ]
     },
     "execution_count": 4,
     "metadata": {},
     "output_type": "execute_result"
    }
   ],
   "source": [
    "Inputs"
   ]
  },
  {
   "cell_type": "markdown",
   "id": "1f7e34e2",
   "metadata": {},
   "source": [
    "###### Initialize weights"
   ]
  },
  {
   "cell_type": "code",
   "execution_count": 8,
   "id": "2d95dd4b",
   "metadata": {},
   "outputs": [
    {
     "data": {
      "text/plain": [
       "[1, -1]"
      ]
     },
     "execution_count": 8,
     "metadata": {},
     "output_type": "execute_result"
    }
   ],
   "source": [
    "def init(i) :\n",
    "    if i % 2 == 0 :\n",
    "        return 1\n",
    "    else :\n",
    "        return -1\n",
    "Weights = [init(i) for i in range(Number_of_inputs)]\n",
    "Weights"
   ]
  },
  {
   "cell_type": "markdown",
   "id": "9841f37c",
   "metadata": {},
   "source": [
    "###### Comute sumaation"
   ]
  },
  {
   "cell_type": "code",
   "execution_count": null,
   "id": "2ddcd1ca",
   "metadata": {},
   "outputs": [],
   "source": [
    "Sum = 0\n",
    "for i,j in zip(I)"
   ]
  }
 ],
 "metadata": {
  "kernelspec": {
   "display_name": "Python 3 (ipykernel)",
   "language": "python",
   "name": "python3"
  },
  "language_info": {
   "codemirror_mode": {
    "name": "ipython",
    "version": 3
   },
   "file_extension": ".py",
   "mimetype": "text/x-python",
   "name": "python",
   "nbconvert_exporter": "python",
   "pygments_lexer": "ipython3",
   "version": "3.8.8"
  }
 },
 "nbformat": 4,
 "nbformat_minor": 5
}
