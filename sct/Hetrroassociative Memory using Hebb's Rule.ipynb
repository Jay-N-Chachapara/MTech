{
 "cells": [
  {
   "cell_type": "code",
   "execution_count": 3,
   "id": "01f9752d",
   "metadata": {},
   "outputs": [],
   "source": [
    "import numpy as np"
   ]
  },
  {
   "cell_type": "markdown",
   "id": "e635f4bb",
   "metadata": {},
   "source": [
    "## Geting size of input and output"
   ]
  },
  {
   "cell_type": "code",
   "execution_count": 2,
   "id": "4d28d890",
   "metadata": {},
   "outputs": [
    {
     "name": "stdout",
     "output_type": "stream",
     "text": [
      "Enter number of samples 4\n",
      "Enter length of samples 4\n",
      "Enter length output 2\n"
     ]
    }
   ],
   "source": [
    "Number_of_Samples,Length_of_Sample,Length_of_Output = int(input(\"Enter number of samples \")),int(input(\"Enter length of samples \")),int(input(\"Enter length output \"))"
   ]
  },
  {
   "cell_type": "markdown",
   "id": "dd9abec4",
   "metadata": {},
   "source": [
    "## Taking input and output and printing it"
   ]
  },
  {
   "cell_type": "code",
   "execution_count": 7,
   "id": "76cc90ed",
   "metadata": {},
   "outputs": [],
   "source": [
    "Input = np.zeros((Number_of_Samples,Length_of_Sample))\n",
    "Output = np.zeros((Number_of_Samples,Length_of_Output))"
   ]
  },
  {
   "cell_type": "code",
   "execution_count": 8,
   "id": "b8670eda",
   "metadata": {},
   "outputs": [
    {
     "data": {
      "text/plain": [
       "array([[0., 0., 0., 0.],\n",
       "       [0., 0., 0., 0.],\n",
       "       [0., 0., 0., 0.],\n",
       "       [0., 0., 0., 0.]])"
      ]
     },
     "execution_count": 8,
     "metadata": {},
     "output_type": "execute_result"
    }
   ],
   "source": [
    "Input"
   ]
  },
  {
   "cell_type": "code",
   "execution_count": 9,
   "id": "b7704386",
   "metadata": {},
   "outputs": [
    {
     "data": {
      "text/plain": [
       "(4, 4)"
      ]
     },
     "execution_count": 9,
     "metadata": {},
     "output_type": "execute_result"
    }
   ],
   "source": [
    "Input.shape"
   ]
  },
  {
   "cell_type": "code",
   "execution_count": 10,
   "id": "c87b902b",
   "metadata": {},
   "outputs": [
    {
     "data": {
      "text/plain": [
       "array([[0., 0.],\n",
       "       [0., 0.],\n",
       "       [0., 0.],\n",
       "       [0., 0.]])"
      ]
     },
     "execution_count": 10,
     "metadata": {},
     "output_type": "execute_result"
    }
   ],
   "source": [
    "Output"
   ]
  },
  {
   "cell_type": "code",
   "execution_count": 11,
   "id": "da7fa382",
   "metadata": {},
   "outputs": [
    {
     "data": {
      "text/plain": [
       "(4, 2)"
      ]
     },
     "execution_count": 11,
     "metadata": {},
     "output_type": "execute_result"
    }
   ],
   "source": [
    "Output.shape"
   ]
  },
  {
   "cell_type": "code",
   "execution_count": 19,
   "id": "8b416dce",
   "metadata": {},
   "outputs": [
    {
     "name": "stdout",
     "output_type": "stream",
     "text": [
      "Enter input (Row wise separated by space)\n",
      "1 0 1 0\n",
      "1 0 0 1\n",
      "1 1 0 0\n",
      "0 0 1 1\n"
     ]
    }
   ],
   "source": [
    "print(\"Enter input (Row wise separated by space)\")\n",
    "for i in range(Number_of_Samples) :\n",
    "    x = [input().split(' ')]\n",
    "    for j in range(Length_of_Sample) :\n",
    "        Input[i,j] = x[0][j]"
   ]
  },
  {
   "cell_type": "code",
   "execution_count": 20,
   "id": "984427e2",
   "metadata": {},
   "outputs": [
    {
     "data": {
      "text/plain": [
       "array([[1., 0., 1., 0.],\n",
       "       [1., 0., 0., 1.],\n",
       "       [1., 1., 0., 0.],\n",
       "       [0., 0., 1., 1.]])"
      ]
     },
     "execution_count": 20,
     "metadata": {},
     "output_type": "execute_result"
    }
   ],
   "source": [
    "Input"
   ]
  },
  {
   "cell_type": "code",
   "execution_count": 21,
   "id": "587591b6",
   "metadata": {},
   "outputs": [
    {
     "name": "stdout",
     "output_type": "stream",
     "text": [
      "Enter output(Row wise separated by space)\n",
      "1 0\n",
      "1 0\n",
      "0 1\n",
      "0 1\n"
     ]
    }
   ],
   "source": [
    "print(\"Enter output(Row wise separated by space)\")\n",
    "for i in range (Number_of_Samples) :\n",
    "    x = [input().split(' ')]\n",
    "    for j in range(Length_of_Output) :\n",
    "        Output[i,j] = x[0][j]"
   ]
  },
  {
   "cell_type": "code",
   "execution_count": 22,
   "id": "b9e6354a",
   "metadata": {},
   "outputs": [
    {
     "data": {
      "text/plain": [
       "array([[1., 0.],\n",
       "       [1., 0.],\n",
       "       [0., 1.],\n",
       "       [0., 1.]])"
      ]
     },
     "execution_count": 22,
     "metadata": {},
     "output_type": "execute_result"
    }
   ],
   "source": [
    "Output"
   ]
  },
  {
   "cell_type": "markdown",
   "id": "eef71aa8",
   "metadata": {},
   "source": [
    "## Initializing Weight Matrix to 0 and procees to get the final weight matrix"
   ]
  },
  {
   "cell_type": "code",
   "execution_count": 51,
   "id": "9173c59f",
   "metadata": {},
   "outputs": [],
   "source": [
    "Weight = np.zeros((Number_of_Samples,Length_of_Output))\n",
    "index = 0"
   ]
  },
  {
   "cell_type": "code",
   "execution_count": 24,
   "id": "3322aeea",
   "metadata": {},
   "outputs": [
    {
     "data": {
      "text/plain": [
       "array([[0., 0.],\n",
       "       [0., 0.],\n",
       "       [0., 0.],\n",
       "       [0., 0.]])"
      ]
     },
     "execution_count": 24,
     "metadata": {},
     "output_type": "execute_result"
    }
   ],
   "source": [
    "Weight"
   ]
  },
  {
   "cell_type": "code",
   "execution_count": 25,
   "id": "cae7341f",
   "metadata": {},
   "outputs": [
    {
     "data": {
      "text/plain": [
       "(4, 2)"
      ]
     },
     "execution_count": 25,
     "metadata": {},
     "output_type": "execute_result"
    }
   ],
   "source": [
    "Weight.shape"
   ]
  },
  {
   "cell_type": "markdown",
   "id": "b2893bba",
   "metadata": {},
   "source": [
    "#### *Run it only once, after that rerun weight initialization otherwise Weight is keep getting updated "
   ]
  },
  {
   "cell_type": "code",
   "execution_count": 55,
   "id": "65a76a88",
   "metadata": {},
   "outputs": [
    {
     "name": "stdout",
     "output_type": "stream",
     "text": [
      "[[2. 1.]\n",
      " [0. 1.]\n",
      " [1. 1.]\n",
      " [1. 1.]]\n"
     ]
    }
   ],
   "source": [
    "if not index :\n",
    "    for In,Out in zip(Input,Output) :\n",
    "        for k in range(Length_of_Output) :\n",
    "            for j in range(Number_of_Samples) :\n",
    "                Weight[j,k] += In[j]*Out[k]\n",
    "        index += 1\n",
    "        print(\"Afte processing\",index,\"\\n\",Weight,\"\\n\")\n",
    "else :\n",
    "    print(Weight)"
   ]
  }
 ],
 "metadata": {
  "kernelspec": {
   "display_name": "Python 3 (ipykernel)",
   "language": "python",
   "name": "python3"
  },
  "language_info": {
   "codemirror_mode": {
    "name": "ipython",
    "version": 3
   },
   "file_extension": ".py",
   "mimetype": "text/x-python",
   "name": "python",
   "nbconvert_exporter": "python",
   "pygments_lexer": "ipython3",
   "version": "3.8.8"
  }
 },
 "nbformat": 4,
 "nbformat_minor": 5
}
