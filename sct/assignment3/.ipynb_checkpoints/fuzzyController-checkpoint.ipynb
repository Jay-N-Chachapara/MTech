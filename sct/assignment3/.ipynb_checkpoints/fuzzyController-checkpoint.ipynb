{
 "cells": [
  {
   "cell_type": "code",
   "execution_count": 5,
   "id": "2aefec72",
   "metadata": {},
   "outputs": [
    {
     "name": "stdout",
     "output_type": "stream",
     "text": [
      "Following are used in controller\n",
      "Volume\n",
      "RSI(Relative Strength Index)\n",
      "Price\n",
      "Enter iput range of lingustic variables : (start-end)\n",
      "\n",
      "Volume:\n",
      "Lingustic Variables : {Low,Mid,High}\n",
      "Low : 0-3\n",
      "Mid : 2-7\n",
      "High : 6-10\n",
      "\n",
      "Low :  0 - 3\n",
      "Mid :  2 - 7\n",
      "High :  6 - 10\n",
      "\n",
      "RSI:\n",
      "Lingustic Variables : {Down,Mid,Up}\n",
      "\n",
      "Price:\n",
      "Lingustic Variables : {Negative,Neutral,Positive}\n"
     ]
    }
   ],
   "source": [
    "print(\"Following are used in controller\")\n",
    "print(\"Volume\\nRSI(Relative Strength Index)\\nPrice\")\n",
    "print(\"Enter iput range of lingustic variables : (start-end)\")\n",
    "print(\"\\nVolume:\\nLingustic Variables : {Low,Mid,High}\")\n",
    "vlstart,vlend = input(\"Low : \").split('-')\n",
    "vmstart,vmend = input(\"Mid : \").split('-')\n",
    "vhstart,vhend = input(\"High : \").split('-')\n",
    "print(\"\\nLow : \",vlstart,\"-\",vlend)\n",
    "print(\"Mid : \",vmstart,\"-\",vmend)\n",
    "print(\"High : \",vhstart,\"-\",vhend)\n",
    "print(\"\\nRSI:\\nLingustic Variables : {Down,Mid,Up}\")\n",
    "print(\"\\nPrice:\\nLingustic Variables : {Negative,Neutral,Positive}\")"
   ]
  },
  {
   "cell_type": "code",
   "execution_count": null,
   "id": "27bd62b7",
   "metadata": {},
   "outputs": [],
   "source": []
  }
 ],
 "metadata": {
  "kernelspec": {
   "display_name": "Python 3 (ipykernel)",
   "language": "python",
   "name": "python3"
  },
  "language_info": {
   "codemirror_mode": {
    "name": "ipython",
    "version": 3
   },
   "file_extension": ".py",
   "mimetype": "text/x-python",
   "name": "python",
   "nbconvert_exporter": "python",
   "pygments_lexer": "ipython3",
   "version": "3.8.8"
  }
 },
 "nbformat": 4,
 "nbformat_minor": 5
}
