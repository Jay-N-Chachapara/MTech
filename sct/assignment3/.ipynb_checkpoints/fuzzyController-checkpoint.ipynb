{
 "cells": [
  {
   "cell_type": "code",
   "execution_count": null,
   "id": "2aefec72",
   "metadata": {},
   "outputs": [],
   "source": [
    "#Introduction\n",
    "print(\"Following are used in controller\")\n",
    "print(\"Volume\\nRSI(Relative Strength Index)\\nPrice\")\n",
    "print(\"Enter iput range of lingustic variables : (start-end)\")\n",
    "\n",
    "#Take input for volume\n",
    "print(\"\\nVolume:\\nLingustic Variables : {Low,Mid,High}\")\n",
    "vlstart,vlend = input(\"Low : \").split('-')\n",
    "vmstart,vmend = input(\"Mid : \").split('-')\n",
    "vhstart,vhend = input(\"High : \").split('-')\n",
    "\n",
    "#Take input for RSI\n",
    "print(\"\\nRSI:\\nLingustic Variables : {Down,Mid,Up}\")\n",
    "rdstart,rdend = input(\"Down : \").split('-')\n",
    "rmstart,rmend = input(\"Mid : \").split('-')\n",
    "rustart,ruend = input(\"Up : \").split('-')\n",
    "\n",
    "#Take input for Price(consider it as percentage)\n",
    "print(\"\\nPrice:\\nLingustic Variables : {Negative,Neutral,Positive} (use ',' start,end)\")\n",
    "pnegstart,pnegend = input(\"Negative : \").split(',')\n",
    "pneustart,pneuend = input(\"Neutral : \").split(',')\n",
    "ppstart,ppend = input(\"Positive : \").split(',')"
   ]
  },
  {
   "cell_type": "code",
   "execution_count": null,
   "id": "354e610c",
   "metadata": {},
   "outputs": [],
   "source": [
    "print(\"Enter membership function type : \\n1 Trapezoidal\\n2 Triangular\")\n",
    "memType = int(input())"
   ]
  },
  {
   "cell_type": "code",
   "execution_count": null,
   "id": "0202ca3e",
   "metadata": {},
   "outputs": [],
   "source": [
    "if memType is 1 :\n",
    "    print(\"You've selected Trapezoidal membership function\")\n",
    "    #For Trapezoidal\n",
    "    #Computing membership for value\n",
    "    def TrapMem(a,b,c,d,x) :\n",
    "        print(\"0 for x<\",a,\"or x>\",d)\n",
    "        print(\"1 for \",b,\"<=x<=\",c)\n",
    "        print(\"(x-\",a,\")/(\",b-a,\") for\",a,\"<=x<\",b)\n",
    "        print(\"(\",d,\"-x)/(\",d-c,\") for\",c,\"<x<=\",d)\n",
    "        \n",
    "        if x < a or x > d :\n",
    "            return 0\n",
    "        elif b <=x<=c :\n",
    "            return 1\n",
    "        elif a <= x < b :\n",
    "            return ((x-a)/(b-a))\n",
    "        elif c < x <= d :\n",
    "            return ((d-x)/(d-c))\n",
    "    #Function End\n",
    "    print(\"Enter range for which membership function is one :\")\n",
    "    print(\"Volume :\")\n",
    "    vls1,vle1 = input(\"Low : \").split('-')\n",
    "    vms1,vme1 = input(\"Mid : \").split('-')\n",
    "    vhs1,vhe1 = input(\"High : \").split('-')\n",
    "    \n",
    "    print(\"RSI :\")\n",
    "    RSIDown1Start,RSIDown1End = input(\"Down : \").split('-')\n",
    "    RSIMid1Start,RSIMid1End = input(\"Mid : \").split('-')\n",
    "    RSIUp1Start,RSIUp1End = input(\"Up : \").split('-')\n",
    "    \n",
    "    print(\"Price :\")\n",
    "    PriceNegative1Start,PriceNegative1End = input(\"Negative(,) : \").split(',')\n",
    "    PriceNeutral1Start,PriceNeutral1End = input(\"Neutral(,) : \").split(',')\n",
    "    PricePositive1Start,PricePositive1End = input(\"Positive : \").split('-')\n",
    "    \n",
    "    volume = input(\"Enter volume : \")\n",
    "    rsi = input(\"Enter RSI : \")\n",
    "        \n",
    "    memLowVolume = TrapMem(vlstart,vls1,vle1,vlend,volume)\n",
    "    memMidVolume = TrapMem(vmstart,vms1,vme1,vmend,volume)\n",
    "    memHighVolume = TrapMem(vhstart,vhs1,vhe1,vhend,volume)\n",
    "    \n",
    "else :\n",
    "    print(\"You've selected Triangular membership function\")\n",
    "    #For Triangular\n",
    "    print(\"Enter values of a,b,c :\")\n",
    "    a,b,c = input().split()\n",
    "    a,b,c = int(a),int(b),int(c)\n",
    "    print(\"1 for x=\",b)\n",
    "    print(\"(x-\",a,\")/(\",b-a,\") for\",a,\"<=x<\",b)\n",
    "    print(\"(\",c,\"-x)/(\",c-b,\") for\",b,\"<x<=\",c)"
   ]
  }
 ],
 "metadata": {
  "kernelspec": {
   "display_name": "Python 3 (ipykernel)",
   "language": "python",
   "name": "python3"
  },
  "language_info": {
   "codemirror_mode": {
    "name": "ipython",
    "version": 3
   },
   "file_extension": ".py",
   "mimetype": "text/x-python",
   "name": "python",
   "nbconvert_exporter": "python",
   "pygments_lexer": "ipython3",
   "version": "3.8.8"
  }
 },
 "nbformat": 4,
 "nbformat_minor": 5
}
