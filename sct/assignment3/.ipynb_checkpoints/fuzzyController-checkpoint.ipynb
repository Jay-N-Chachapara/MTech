{
 "cells": [
  {
   "cell_type": "code",
   "execution_count": 5,
   "id": "2aefec72",
   "metadata": {},
   "outputs": [
    {
     "name": "stdout",
     "output_type": "stream",
     "text": [
      "Following are used in controller\n",
      "Volume\n",
      "RSI(Relative Strength Index)\n",
      "Price\n",
      "Enter iput range of lingustic variables : (start-end)\n",
      "\n",
      "Volume:\n",
      "Lingustic Variables : {Low,Mid,High}\n",
      "Low : 0-3\n",
      "Mid : 2-7\n",
      "High : 6-10\n",
      "\n",
      "RSI:\n",
      "Lingustic Variables : {Down,Mid,Up}\n",
      "Down : 10-40\n",
      "Mid : 30-70\n",
      "Up : 60-90\n",
      "\n",
      "Price:\n",
      "Lingustic Variables : {Negative,Neutral,Positive} (use ',' start,end)\n",
      "Negative : -100,-1\n",
      "Neutral : -2,2\n",
      "Positive : 1,100\n"
     ]
    }
   ],
   "source": [
    "#Introduction\n",
    "print(\"Following are used in controller\")\n",
    "print(\"Volume\\nRSI(Relative Strength Index)\\nPrice\")\n",
    "print(\"Enter iput range of lingustic variables : (start-end)\")\n",
    "\n",
    "#Take input for volume\n",
    "print(\"\\nVolume:\\nLingustic Variables : {Low,Mid,High}\")\n",
    "vlstart,vlend = input(\"Low : \").split('-')\n",
    "vmstart,vmend = input(\"Mid : \").split('-')\n",
    "vhstart,vhend = input(\"High : \").split('-')\n",
    "\n",
    "#Take input for RSI\n",
    "print(\"\\nRSI:\\nLingustic Variables : {Down,Mid,Up}\")\n",
    "rdstart,rdend = input(\"Down : \").split('-')\n",
    "rmstart,rmend = input(\"Mid : \").split('-')\n",
    "rustart,ruend = input(\"Up : \").split('-')\n",
    "\n",
    "#Take input for Price(consider it as percentage)\n",
    "print(\"\\nPrice:\\nLingustic Variables : {Negative,Neutral,Positive} (use ',' start,end)\")\n",
    "pnegstart,pnegend = input(\"Negative : \").split(',')\n",
    "pneustart,pneuend = input(\"Neutral : \").split(',')\n",
    "ppstart,ppend = input(\"Positive : \").split(',')"
   ]
  },
  {
   "cell_type": "code",
   "execution_count": null,
   "id": "354e610c",
   "metadata": {},
   "outputs": [],
   "source": [
    "memType = int(input(\"Enter membership function type : \\n1 Trapezoidal\\n2 Triangular\"))"
   ]
  },
  {
   "cell_type": "code",
   "execution_count": null,
   "id": "0202ca3e",
   "metadata": {},
   "outputs": [],
   "source": [
    "if memType is 1 :\n",
    "    print(\"You've selected Trapezoidal membership function\")\n",
    "else :\n",
    "    print(\"You've selected Triangular membership function\")"
   ]
  }
 ],
 "metadata": {
  "kernelspec": {
   "display_name": "Python 3 (ipykernel)",
   "language": "python",
   "name": "python3"
  },
  "language_info": {
   "codemirror_mode": {
    "name": "ipython",
    "version": 3
   },
   "file_extension": ".py",
   "mimetype": "text/x-python",
   "name": "python",
   "nbconvert_exporter": "python",
   "pygments_lexer": "ipython3",
   "version": "3.8.8"
  }
 },
 "nbformat": 4,
 "nbformat_minor": 5
}
