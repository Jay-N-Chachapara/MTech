{
 "cells": [
  {
   "cell_type": "code",
   "execution_count": 16,
   "metadata": {
    "colab": {
     "base_uri": "https://localhost:8080/"
    },
    "id": "0bVx96kCLO0D",
    "outputId": "60acb408-cef7-4b29-d19c-cb6700426a5e"
   },
   "outputs": [
    {
     "name": "stdout",
     "output_type": "stream",
     "text": [
      "100\n",
      "489.12\n",
      "1254.12\n",
      "1234.10\n",
      "12023.05\n",
      "109.20\n",
      "5.27\n",
      "1542.25\n",
      "839.18\n",
      "83.99\n",
      "1295.01\n",
      "1.75\n",
      "$ \b1581.42\n"
     ]
    }
   ],
   "source": [
    "\"\"\"\n",
    "MT21MCS013 JAY\n",
    "SCT Lab Assign1 Q1\n",
    "\"\"\"\n",
    "a = [float(input()) for i in range(12)]\n",
    "sum = 0\n",
    "for i in a : \n",
    "  sum += i\n",
    "print(\"$ \",sum/12,sep=\"\\b\")"
   ]
  },
  {
   "cell_type": "code",
   "execution_count": 2,
   "metadata": {
    "id": "5qoveXFwRgDd"
   },
   "outputs": [
    {
     "name": "stdout",
     "output_type": "stream",
     "text": [
      "100\n",
      "489.12\n",
      "1254.12\n",
      "1234.10\n",
      "12023.05\n",
      "109.20\n",
      "5.27\n",
      "1542.25\n",
      "839.18\n",
      "83.99\n",
      "1295.01\n",
      "1.75\n",
      "$1581.42\n"
     ]
    }
   ],
   "source": [
    "from numpy import average as avg\n",
    "print(\"$\"+str(float(avg([float(input()) for i in range(12)]))))"
   ]
  },
  {
   "cell_type": "code",
   "execution_count": null,
   "metadata": {},
   "outputs": [],
   "source": []
  }
 ],
 "metadata": {
  "colab": {
   "collapsed_sections": [],
   "name": "SCTAQ1.ipynb",
   "provenance": []
  },
  "kernelspec": {
   "display_name": "Python 3 (ipykernel)",
   "language": "python",
   "name": "python3"
  },
  "language_info": {
   "codemirror_mode": {
    "name": "ipython",
    "version": 3
   },
   "file_extension": ".py",
   "mimetype": "text/x-python",
   "name": "python",
   "nbconvert_exporter": "python",
   "pygments_lexer": "ipython3",
   "version": "3.8.8"
  }
 },
 "nbformat": 4,
 "nbformat_minor": 1
}
