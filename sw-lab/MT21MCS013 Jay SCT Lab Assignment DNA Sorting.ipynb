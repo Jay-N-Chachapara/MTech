{
 "cells": [
  {
   "cell_type": "code",
   "execution_count": 7,
   "id": "24eb3345",
   "metadata": {},
   "outputs": [
    {
     "name": "stdout",
     "output_type": "stream",
     "text": [
      "10 6\n",
      "AACATGAAGG\n",
      "TTTTGGCCAA\n",
      "TTTGGCCAAA\n",
      "GATCAGATTT\n",
      "CCCGGGGGGA\n",
      "ATCGATGCAT\n",
      "\n",
      "Most Sorted to Leasted Sorted\n",
      "\n",
      "CCCGGGGGGA\n",
      "AACATGAAGG\n",
      "GATCAGATTT\n",
      "ATCGATGCAT\n",
      "TTTTGGCCAA\n",
      "TTTGGCCAAA\n"
     ]
    }
   ],
   "source": [
    "\"\"\"\n",
    "Declaring Variables and list\n",
    "length - length of the string\n",
    "NString - Number of String\n",
    "\"\"\"\n",
    "length, Nstrings = input().split()\n",
    "Nstrings = int(Nstrings)\n",
    "\n",
    "\"\"\"\n",
    "dnaStrings - stores all NString in it\n",
    "suma - stores the difference/measurement of each string in dnaString\n",
    "\"\"\"\n",
    "\n",
    "dnaStrings = []\n",
    "suma = [] #To store the measure(inversion) of each dnaString\n",
    "\n",
    "#Input\n",
    "for i in range(Nstrings) :\n",
    "     dnaStrings.append(input())\n",
    "\n",
    "\n",
    "#Processing\n",
    "for dnaString in dnaStrings :\n",
    "    s = 0\n",
    "    measure = [] #List for each character in DNA String\n",
    "    for i in range (len(dnaString)) :\n",
    "        j = i+1\n",
    "        count = 0\n",
    "        while j < len(dnaString) :\n",
    "            if dnaString[i] > dnaString[j] :\n",
    "                count += 1\n",
    "            j+=1\n",
    "        measure.append(count)\n",
    "    \n",
    "    #Sum of measure of each character in DNA String\n",
    "    for j in measure :\n",
    "        s += j\n",
    "    suma.append(s)\n",
    "\n",
    "#To get the index of minimum element    \n",
    "copySuma = []\n",
    "\n",
    "#Direct assignment like copySuma = suma creating alias\n",
    "for i in suma :\n",
    "    copySuma.append(i)\n",
    "\n",
    "#if alias then sorts both suma as well as copySuma so individually appending    \n",
    "copySuma.sort()\n",
    "\n",
    "#Output\n",
    "print(\"\\nMost Sorted to Leasted Sorted\\n\")\n",
    "for i in copySuma :\n",
    "    print(dnaStrings[suma.index(i)])"
   ]
  },
  {
   "cell_type": "code",
   "execution_count": null,
   "id": "2b5a62e9",
   "metadata": {},
   "outputs": [],
   "source": [
    "AACATGAAGG\n",
    "TTTTGGCCAA\n",
    "TTTGGCCAAA\n",
    "GATCAGATTT\n",
    "CCCGGGGGGA\n",
    "ATCGATGCAT"
   ]
  }
 ],
 "metadata": {
  "kernelspec": {
   "display_name": "Python 3 (ipykernel)",
   "language": "python",
   "name": "python3"
  },
  "language_info": {
   "codemirror_mode": {
    "name": "ipython",
    "version": 3
   },
   "file_extension": ".py",
   "mimetype": "text/x-python",
   "name": "python",
   "nbconvert_exporter": "python",
   "pygments_lexer": "ipython3",
   "version": "3.8.8"
  }
 },
 "nbformat": 4,
 "nbformat_minor": 5
}
